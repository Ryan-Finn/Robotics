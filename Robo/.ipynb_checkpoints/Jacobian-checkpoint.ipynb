{
 "cells": [
  {
   "cell_type": "markdown",
   "id": "1eccdf86",
   "metadata": {},
   "source": [
    "### Manipulator Jacobians\n",
    "\n",
    "This Notebook gives examples of computations with the Jacobian.\n",
    "\n",
    "This Notebook uses a couple of packages...\n",
    "\n",
    "import Pkg ; Pkg.add(\"NLsolve\")"
   ]
  },
  {
   "cell_type": "code",
   "execution_count": null,
   "id": "2c972d53",
   "metadata": {},
   "outputs": [],
   "source": [
    "using LinearAlgebra\n",
    "using NLsolve\n",
    "using Plots"
   ]
  },
  {
   "cell_type": "markdown",
   "id": "e75699a9",
   "metadata": {},
   "source": [
    "We begin with the Two Link manipulator.  The forward kinematics is "
   ]
  },
  {
   "cell_type": "code",
   "execution_count": null,
   "id": "ad2b74d6",
   "metadata": {},
   "outputs": [],
   "source": [
    "function FK(θ1, θ2, a1, a2)\n",
    "    x = a2*cos(θ1+θ2) + a1*cos(θ1)\n",
    "    y = a2*sin(θ1+θ2) + a1*sin(θ1)\n",
    "    return x,y\n",
    "end"
   ]
  },
  {
   "cell_type": "markdown",
   "id": "f7a18d98",
   "metadata": {},
   "source": [
    "And the Jacobian is "
   ]
  },
  {
   "cell_type": "code",
   "execution_count": null,
   "id": "66d2071b",
   "metadata": {},
   "outputs": [],
   "source": [
    "function FKJ(θ1, θ2, a1, a2)\n",
    "    j11 = -a2*sin(θ1+θ2) - a1*sin(θ1)\n",
    "    j12 = -a2*sin(θ1+θ2)\n",
    "    j21 = a2*cos(θ1+θ2) + a1*cos(θ1)\n",
    "    j22 = a2*cos(θ1+θ2)\n",
    "    J = [ j11 j12 ; j21 j22]\n",
    "    return J\n",
    "end"
   ]
  },
  {
   "cell_type": "markdown",
   "id": "41e89fa4",
   "metadata": {},
   "source": [
    "We can see how this works by a simple command:"
   ]
  },
  {
   "cell_type": "code",
   "execution_count": null,
   "id": "81a2eb3a",
   "metadata": {},
   "outputs": [],
   "source": [
    "J = FKJ(0.1, 0.2, 10, 10)"
   ]
  },
  {
   "cell_type": "markdown",
   "id": "ccb2a72c",
   "metadata": {},
   "source": [
    "If joint velocities are [5,10], then the manipulator velocity is"
   ]
  },
  {
   "cell_type": "code",
   "execution_count": null,
   "id": "884d19b6",
   "metadata": {},
   "outputs": [],
   "source": [
    "qdot = [5,8]\n",
    "v = J*qdot"
   ]
  },
  {
   "cell_type": "markdown",
   "id": "df3be5ef",
   "metadata": {},
   "source": [
    "We can extract the joint velocity from the linear velocity"
   ]
  },
  {
   "cell_type": "code",
   "execution_count": null,
   "id": "2c11c783",
   "metadata": {},
   "outputs": [],
   "source": [
    "inv(J)*v"
   ]
  },
  {
   "cell_type": "markdown",
   "id": "a45b240a",
   "metadata": {},
   "source": [
    "We can numerically extract the inverse kinematics.  First a couple of measurement functions"
   ]
  },
  {
   "cell_type": "code",
   "execution_count": null,
   "id": "328b1c38",
   "metadata": {},
   "outputs": [],
   "source": [
    "function distance(x1, y1, x2, y2)\n",
    "    d = sqrt((x1-x2)^2 + (y1-y2)^2)\n",
    "    return d\n",
    "end\n",
    "\n",
    "function size(v1,v2)\n",
    "    size = sqrt(v1*v1+v2*v2)\n",
    "    return size\n",
    "end"
   ]
  },
  {
   "cell_type": "markdown",
   "id": "fccb23f7",
   "metadata": {},
   "source": [
    "Then we can implement the algorithm in the text:"
   ]
  },
  {
   "cell_type": "code",
   "execution_count": null,
   "id": "c23bd493",
   "metadata": {},
   "outputs": [],
   "source": [
    "x = 10\n",
    "y = 12\n",
    "θ1 = 0.1\n",
    "θ2 = 0.2\n",
    "a1 = a2 = 10\n",
    "δ,k = 0.1, 0\n",
    "xc, yc = FK(θ1, θ2, a1, a2)\n",
    "d = distance(x,y,xc,yc)\n",
    "\n",
    "while d > .001\n",
    "    vx = x - xc\n",
    "    vy = y - yc\n",
    "    s = δ*size(vx,vy)\n",
    "    ux = s*vx\n",
    "    uy = s*vy\n",
    "    J = FKJ(θ1, θ2, a1, a2)\n",
    "    u = [ux, uy]\n",
    "    w = J\\u\n",
    "    θ1 = θ1 + w[1]\n",
    "    θ2 = θ2 + w[2]\n",
    "    xc, yc = FK(θ1, θ2, a1, a2)\n",
    "    d = distance(x,y,xc,yc)\n",
    "    k +=1\n",
    "end\n",
    "θ1 = θ1 - 2*π*trunc(θ1/(2*π))\n",
    "θ2 = θ2 - 2*π*trunc(θ2/(2*π))\n",
    "println(\"k = \", k, \" :  θ1 = \",θ1, \",   θ2 = \", θ2, \",  x = \", xc, \",  y = \", yc)"
   ]
  },
  {
   "cell_type": "markdown",
   "id": "513e19ba",
   "metadata": {},
   "source": [
    "This works, but is really slow (convergence) so we try a Newton based algorithm.  It also needs the Jacobian.  The NLsolve package solves systems of nonlinear equations. Formally, if F is a multivalued function, then this package looks for some vector x that satisfies F(x)=0 to some accuracy.   Using the NLsolve package it is a simple rewrite:"
   ]
  },
  {
   "cell_type": "code",
   "execution_count": null,
   "id": "f3e5cdd1",
   "metadata": {},
   "outputs": [],
   "source": [
    "function f!(F, x)\n",
    "    F[1] = 10*cos(x[1]+x[2]) + 10*cos(x[1]) - 10\n",
    "    F[2] = 10*sin(x[1]+x[2]) + 10*sin(x[1]) - 12\n",
    "end\n",
    "\n",
    "\n",
    "function j!(J, x)\n",
    "    J[1, 1] = -10*sin(x[1]+x[2]) - 10*sin(x[1])\n",
    "    J[1, 2] = -10*sin(x[1]+x[2])\n",
    "    J[2, 1] = 10*cos(x[1]+x[2]) + 10*cos(x[1])\n",
    "    J[2, 2] = 10*cos(x[1]+x[2])\n",
    "end\n",
    "\n",
    "res = nlsolve(f!, j!, [ 0.5; 0.2])"
   ]
  },
  {
   "cell_type": "markdown",
   "id": "a231c827",
   "metadata": {},
   "source": [
    "What is up with the \"!\".  This is a Julia convention to indicate that the function modifies its arguments but does not affect the function semantics otherwise.   Numerical solutions to equations is a whole subject and we will move on for now.\n",
    "\n",
    "How about a simple extension to the three link manipulator?  In the following cells we try the same approach."
   ]
  },
  {
   "cell_type": "code",
   "execution_count": null,
   "id": "0347c411",
   "metadata": {},
   "outputs": [],
   "source": [
    "function threelink(F, x)\n",
    "    a1 = 10\n",
    "    a2 = 10\n",
    "    a3 = 10\n",
    "    F[1] = a3*cos(x[1] + x[2] + x[3]) + a2*cos(x[1] + x[2]) + a1*cos(x[1])\n",
    "    F[2] = a3*sin(x[1] + x[2] + x[3]) + a2*sin(x[1] + x[2]) + a1*sin(x[1])\n",
    "    return F\n",
    "end\n",
    "\n",
    "function f!(F, x)\n",
    "    G = threelink(F, x)\n",
    "    F[1] = G[1]-20\n",
    "    F[2] = G[2]-25\n",
    "    return F\n",
    "end"
   ]
  },
  {
   "cell_type": "code",
   "execution_count": null,
   "id": "0be6e3fc",
   "metadata": {},
   "outputs": [],
   "source": [
    "function j!(J,x)\n",
    "  a1 = 10\n",
    "  a2 = 10\n",
    "  a3 = 10\n",
    "  J[1,1] = -a3*sin(x[1] + x[2] + x[3])- a2*sin(x[1] + x[2]) - a1*sin(x[1]) \n",
    "  J[1,2] = -a3*sin(x[1] + x[2] + x[3])- a2*sin(x[1] + x[2])  \n",
    "  J[1,3] = -a3*sin(x[1] + x[2] + x[3])\n",
    "  J[2,1] =  a3*cos(x[1] + x[2] + x[3])+ a2*cos(x[1] + x[2]) + a1*cos(x[1]) \n",
    "  J[2,2] =  a3*cos(x[1] + x[2] + x[3])+ a2*cos(x[1] + x[2])  \n",
    "  J[2,3] =  a3*cos(x[1] + x[2] + x[3]) \n",
    "  return J\n",
    "end"
   ]
  },
  {
   "cell_type": "code",
   "execution_count": null,
   "id": "302ba64f",
   "metadata": {},
   "outputs": [],
   "source": [
    "res = nlsolve(f!, j!, [ 0.1; 0.2; 0.3])"
   ]
  },
  {
   "cell_type": "markdown",
   "id": "d3554145",
   "metadata": {},
   "source": [
    "What went wrong?  (The other algorithm fails also.)\n",
    "\n",
    "The problem is that the Jacobian is not square and so not invertable.  "
   ]
  },
  {
   "cell_type": "code",
   "execution_count": null,
   "id": "7e757acd",
   "metadata": {},
   "outputs": [],
   "source": [
    "J = zeros(2,3)\n",
    "x = zeros(3)\n",
    "x[1] = 0.1\n",
    "x[2] = 0.2\n",
    "x[3] = 0.3\n",
    "J = j!(J,x)"
   ]
  },
  {
   "cell_type": "markdown",
   "id": "4eda5a31",
   "metadata": {},
   "source": [
    "We need to apply the Pseudoinverse ...  which is done via the SVD:"
   ]
  },
  {
   "cell_type": "code",
   "execution_count": null,
   "id": "6b893f0e",
   "metadata": {},
   "outputs": [],
   "source": [
    "R = svd(J, full = true)"
   ]
  },
  {
   "cell_type": "markdown",
   "id": "ed71af69",
   "metadata": {},
   "source": [
    "You can access each via:"
   ]
  },
  {
   "cell_type": "code",
   "execution_count": null,
   "id": "2c3e7980",
   "metadata": {},
   "outputs": [],
   "source": [
    "R.U"
   ]
  },
  {
   "cell_type": "code",
   "execution_count": null,
   "id": "29aa5fc0",
   "metadata": {},
   "outputs": [],
   "source": [
    "R.S"
   ]
  },
  {
   "cell_type": "code",
   "execution_count": null,
   "id": "670d85f7",
   "metadata": {},
   "outputs": [],
   "source": [
    "R.Vt"
   ]
  },
  {
   "cell_type": "markdown",
   "id": "68c85d22",
   "metadata": {},
   "source": [
    "We should check if this is correct..."
   ]
  },
  {
   "cell_type": "code",
   "execution_count": null,
   "id": "5c236e10",
   "metadata": {},
   "outputs": [],
   "source": [
    "R.U*Diagonal(R.S)*R.Vt[1:2,:]"
   ]
  },
  {
   "cell_type": "code",
   "execution_count": null,
   "id": "1f1b869f",
   "metadata": {},
   "outputs": [],
   "source": [
    "J"
   ]
  },
  {
   "cell_type": "markdown",
   "id": "153a434a",
   "metadata": {},
   "source": [
    "The transpose has shorthand here:"
   ]
  },
  {
   "cell_type": "code",
   "execution_count": null,
   "id": "11760a4f",
   "metadata": {},
   "outputs": [],
   "source": [
    "R.U'"
   ]
  },
  {
   "cell_type": "markdown",
   "id": "3dbf24e5",
   "metadata": {},
   "source": [
    "The pseudoinverse is done via the SVD ...  $(R.U * R.S * R.Vt)^+ = R.Vt' * R.S^+ * R.U'$ :"
   ]
  },
  {
   "cell_type": "code",
   "execution_count": null,
   "id": "af7b2c74",
   "metadata": {},
   "outputs": [],
   "source": [
    "JI = R.Vt'[:,1:2] * inv(Diagonal(R.S)) * (R.U')"
   ]
  },
  {
   "cell_type": "markdown",
   "id": "0afd0cc3",
   "metadata": {},
   "source": [
    "There is shorthand for this"
   ]
  },
  {
   "cell_type": "code",
   "execution_count": null,
   "id": "eb467bca",
   "metadata": {},
   "outputs": [],
   "source": [
    "pinv(J)"
   ]
  },
  {
   "cell_type": "markdown",
   "id": "a60b334c",
   "metadata": {},
   "source": [
    "We can solve $v = Jw$ for w without explicitly constructing the SVD via"
   ]
  },
  {
   "cell_type": "code",
   "execution_count": null,
   "id": "759219d8",
   "metadata": {},
   "outputs": [],
   "source": [
    "v = [1,1]\n",
    "w = pinv(J)*v"
   ]
  },
  {
   "cell_type": "markdown",
   "id": "4bd8a002",
   "metadata": {},
   "source": [
    "The Nullspace is given by the rows corresponding to zero singular values (missing from S):"
   ]
  },
  {
   "cell_type": "code",
   "execution_count": null,
   "id": "69d50b96",
   "metadata": {},
   "outputs": [],
   "source": [
    "N = R.Vt[3,:]"
   ]
  },
  {
   "cell_type": "markdown",
   "id": "256f080a",
   "metadata": {},
   "source": [
    "This can be done without explicit construction of the SVD and there is shorthand ..."
   ]
  },
  {
   "cell_type": "code",
   "execution_count": null,
   "id": "f4d73f24",
   "metadata": {},
   "outputs": [],
   "source": [
    "nullspace(J)"
   ]
  },
  {
   "cell_type": "code",
   "execution_count": null,
   "id": "93a9432c",
   "metadata": {},
   "outputs": [],
   "source": [
    "F = zeros(2)\n",
    "x = zeros(3)\n",
    "\n",
    "x=[0.2, 0.3, 0.4]\n",
    "δ = 0.01\n",
    "F = threelink(F,x)\n",
    "print(\"q = \")\n",
    "println(x)\n",
    "print(\"p = \")\n",
    "println(F, \"\\n\")\n",
    "\n",
    "x1 = x\n",
    "for i in 1:10\n",
    "    J = j!(J,x1)\n",
    "    v = nullspace(J)\n",
    "    x1 = x1 + δ*v\n",
    "end\n",
    "F = threelink(F,x1)\n",
    "print(\"q = \")\n",
    "println(x1)\n",
    "println(norm(x - x1))\n",
    "print(\"p = \")\n",
    "println(F, \"\\n\")\n",
    "\n",
    "x2 = x + pinv(J)*[-2,3]\n",
    "F = threelink(F,x2)\n",
    "print(\"q = \")\n",
    "println(x2)\n",
    "println(norm(x - x2))\n",
    "print(\"p = \")\n",
    "println(F)"
   ]
  },
  {
   "cell_type": "markdown",
   "id": "3fab6fcf",
   "metadata": {},
   "source": [
    "We can put this together..."
   ]
  },
  {
   "cell_type": "code",
   "execution_count": null,
   "id": "f5c5541a",
   "metadata": {},
   "outputs": [],
   "source": [
    "function arm(θ1,θ2,θ3)\n",
    "    x1 = 10*cos(θ1)\n",
    "    y1 = 10*sin(θ1)\n",
    "    x2 = x1 + 10*cos(θ1+θ2)\n",
    "    y2 = y1 + 10*sin(θ1+θ2)\n",
    "    x3 = x2 + 10*cos(θ1+θ2+θ3)\n",
    "    y3 = y2 + 10*sin(θ1+θ2+θ3)\n",
    "    return x1,x2,x3,y1,y2,y3\n",
    "end"
   ]
  },
  {
   "cell_type": "code",
   "execution_count": null,
   "id": "52ede8bf",
   "metadata": {},
   "outputs": [],
   "source": [
    "N = 100\n",
    "F = zeros(2)\n",
    "x = zeros(3)\n",
    "w = zeros(3)\n",
    "J = zeros(2,3)\n",
    "q1 = zeros(N)\n",
    "q2 = zeros(N)\n",
    "q3 = zeros(N)\n",
    "p1 = zeros(N)\n",
    "p2 = zeros(N)\n",
    "x = [0, 2*π/3, -3π/4]\n",
    "F = threelink(F, x)\n",
    "\n",
    "for i in 1:N\n",
    "    J = j!(J,x)\n",
    "    v = 0.1*[-sin(i/N), 2*cos(i/N)]\n",
    "    w = pinv(J)*v\n",
    "    x = x + w\n",
    "    F = threelink(F, x)\n",
    "    q1[i] = x[1]\n",
    "    q2[i] = x[2]\n",
    "    q3[i] = x[3]\n",
    "    p1[i] = F[1]\n",
    "    p2[i] = F[2]\n",
    "end"
   ]
  },
  {
   "cell_type": "code",
   "execution_count": null,
   "id": "fd6dbfa3",
   "metadata": {},
   "outputs": [],
   "source": [
    "plt = plot(legend=false,xlim=(0,3),ylim=(0,3),aspect_ratio=:equal)\n",
    "display(plt)\n",
    "for i = 1:N\n",
    "    IJulia.clear_output(true)\n",
    "    x1,x2,x3,y1,y2,y3 = arm(q1[i],q2[i],q3[i])\n",
    "    l1 = [0,x1,x2,x3]\n",
    "    l2 = [0,y1,y2,y3]\n",
    "    plt = plot(l1,l2, legend=false,xlim=(0,30),ylim=(0,30), linewidth=8, aspect_ratio=:equal)\n",
    "    plot!(p1[1:i],p2[1:i])\n",
    "    display(plt)\n",
    "    sleep(.02)\n",
    "end"
   ]
  },
  {
   "cell_type": "code",
   "execution_count": null,
   "id": "308d421a",
   "metadata": {},
   "outputs": [],
   "source": []
  }
 ],
 "metadata": {
  "@webio": {
   "lastCommId": null,
   "lastKernelId": null
  },
  "kernelspec": {
   "display_name": "Julia 1.6.2",
   "language": "julia",
   "name": "julia-1.6"
  },
  "language_info": {
   "file_extension": ".jl",
   "mimetype": "application/julia",
   "name": "julia",
   "version": "1.6.2"
  }
 },
 "nbformat": 4,
 "nbformat_minor": 5
}

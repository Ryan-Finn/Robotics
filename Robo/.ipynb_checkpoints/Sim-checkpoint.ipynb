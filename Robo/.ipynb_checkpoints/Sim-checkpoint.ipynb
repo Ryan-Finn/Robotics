{
 "cells": [
  {
   "cell_type": "markdown",
   "id": "a14de357",
   "metadata": {},
   "source": [
    "### Simulation and Interactive Code Examples\n",
    "\n",
    "This Notebook is here to provide some examples of simulations and interactive code.   \n",
    "\n",
    "The first cell imports the libraries.  First time use you will need to add the package.  The commented code gives an example for adding the Interact package."
   ]
  },
  {
   "cell_type": "code",
   "execution_count": null,
   "id": "016f5e82",
   "metadata": {},
   "outputs": [],
   "source": [
    "#using Pkg\n",
    "#Pkg.add(\"Interact\")\n",
    "\n",
    "using Interact\n",
    "using Plots\n",
    "using LinearAlgebra"
   ]
  },
  {
   "cell_type": "markdown",
   "id": "a690834b",
   "metadata": {},
   "source": [
    "If you have a series of joint values, here is how you might compute the end-effector location and list the values."
   ]
  },
  {
   "cell_type": "code",
   "execution_count": null,
   "id": "db1cbfa0",
   "metadata": {},
   "outputs": [],
   "source": [
    "a1, a2 = 10, 10\n",
    "θ1 = range(π/4, π/3, length = 10)\n",
    "θ2 = range(π/6, π/4, length = 10)\n",
    "for i in 1:10\n",
    "    x = a2*cos(θ1[i]+θ2[i]) + a1*cos(θ1[i])\n",
    "    y = a2*sin(θ1[i]+θ2[i]) + a1*sin(θ1[i])\n",
    "    println(\"x = \", x, \", y = \", y)\n",
    "end"
   ]
  },
  {
   "cell_type": "markdown",
   "id": "1d681834",
   "metadata": {},
   "source": [
    "Normally we want to provide $(x,y)$ location data and the compute the joint values.   So the inverse kinematics is first.  In this next example we will use the implicit loop notation (the dot).  "
   ]
  },
  {
   "cell_type": "code",
   "execution_count": null,
   "id": "ea7088b6",
   "metadata": {},
   "outputs": [],
   "source": [
    "N = 50\n",
    "t = range(1, 5, length = N)\n",
    "x =  t .+ 1.0\n",
    "y = 2 .* t .- 1.0\n",
    "plot(x,y, title=\"Desired Path\", aspect_ratio = :equal, legend=false)"
   ]
  },
  {
   "cell_type": "markdown",
   "id": "5454d400",
   "metadata": {},
   "source": [
    "Taking these input $(x,y)$ values, we can plug into the IK and obtain the values for $\\theta_1$, $\\theta_2$."
   ]
  },
  {
   "cell_type": "code",
   "execution_count": null,
   "id": "fa6df09c",
   "metadata": {},
   "outputs": [],
   "source": [
    "a1,a2 = 10.0,10.0\n",
    "d =  ((x.*x) .+ (y.*y) .- (a1.*a1) .- (a2.*a2))/(2.0 .* (a1.*a2))\n",
    "θ2 = atan.(-sqrt.(1.0 .- (d.*d)),d)\n",
    "θ1 = atan.(y,x) - atan.(a2.* sin.(θ2), a1 .+ a2.*cos.(θ2))\n",
    "plot(θ1,θ2, title=\"Plot of θ1, θ2\", aspect_ratio = :equal, legend = false)"
   ]
  },
  {
   "cell_type": "markdown",
   "id": "6ea91ac4",
   "metadata": {},
   "source": [
    "The obvious question, is this correct?  An easy way to figure this out is to plug those values into the forward kinematics and plot the results."
   ]
  },
  {
   "cell_type": "code",
   "execution_count": null,
   "id": "9125b1e1",
   "metadata": {},
   "outputs": [],
   "source": [
    "x1 = a2.*cos.(θ1 .+ θ2) .+ a1.*cos.(θ1)\n",
    "y1 = a2.*sin.(θ1 .+ θ2) .+ a1.*sin.(θ1)\n",
    "plot(x1,y1, title = \"Checking Path\", aspect_ratio = :equal, legend=false)\n",
    "# if you want to overlap the plots\n",
    "# plot!(x,y)"
   ]
  },
  {
   "cell_type": "markdown",
   "id": "3ccaa095",
   "metadata": {},
   "source": [
    "It can be helpful to visualize the dynamics of the manipulator.  The following example is Julia/Plots animation of the two link manipulator endpoints.   An animation needs a delay (the sleep function) and you need this clear output method to replot over the previous plot."
   ]
  },
  {
   "cell_type": "code",
   "execution_count": null,
   "id": "c97aeaba",
   "metadata": {},
   "outputs": [],
   "source": [
    "for i = 1:N\n",
    "    IJulia.clear_output(true)\n",
    "    p = scatter([x[i]],[y[i]], xlim = (0,10), ylim = (0,10), aspect_ratio = :equal, legend = false, color = :green)\n",
    "    display(p)\n",
    "    sleep(0.05)\n",
    "end"
   ]
  },
  {
   "cell_type": "markdown",
   "id": "cbc00098",
   "metadata": {},
   "source": [
    "If you want to leave the path (the trace), you can try the following variant."
   ]
  },
  {
   "cell_type": "code",
   "execution_count": null,
   "id": "f2dbd53b",
   "metadata": {},
   "outputs": [],
   "source": [
    "scatter([x[1]],[y[1]], xlim = (0,10), ylim = (0,10), aspect_ratio = :equal, legend = false, color = :green)\n",
    "for i = 2:N\n",
    "    IJulia.clear_output(true)\n",
    "    xl = x[1:i]\n",
    "    yl = y[1:i]\n",
    "    p = scatter(xl,yl, xlim = (0,10), ylim = (0,10), aspect_ratio = :equal, legend = false, color = :green)\n",
    "    display(p)\n",
    "    sleep(0.05)\n",
    "end"
   ]
  },
  {
   "cell_type": "markdown",
   "id": "9284db96",
   "metadata": {},
   "source": [
    "Just to play with the graphics, we change the trace.  plot! and scatter! are different functions than plot and scatter.  The \"!\" means this version will add to the previous plot.   Otherwise a new plot is created."
   ]
  },
  {
   "cell_type": "code",
   "execution_count": null,
   "id": "814d4267",
   "metadata": {},
   "outputs": [],
   "source": [
    "scatter([x[1]],[y[1]], xlim = (0,10), ylim = (0,10), aspect_ratio = :equal, legend = false, color = :green)\n",
    "for i = 2:N\n",
    "    IJulia.clear_output(true)\n",
    "    xl = x[1:i]\n",
    "    yl = y[1:i]\n",
    "    p = scatter([x[i]],[y[i]], xlim = (0,10), ylim = (0,10), aspect_ratio = :equal, legend = false, color = :green)\n",
    "    plot!(xl,yl, color=:red)\n",
    "    display(p)\n",
    "    sleep(0.05)\n",
    "end"
   ]
  },
  {
   "cell_type": "markdown",
   "id": "691d66c0",
   "metadata": {},
   "source": [
    "An actual animation should in include the link arms."
   ]
  },
  {
   "cell_type": "code",
   "execution_count": null,
   "id": "6e49efb0",
   "metadata": {},
   "outputs": [],
   "source": [
    "xmid = a1 .* cos.(θ1)\n",
    "ymid = a1 .* sin.(θ1)\n",
    "scatter([x[1]],[y[1]], xlim = (-10,10), ylim = (0,10), aspect_ratio = :equal, legend = false, color = :blue)\n",
    "for i = 2:N\n",
    "    IJulia.clear_output(true)\n",
    "    p = scatter([x[i]],[y[i]], xlim = (-10,10), ylim = (0,10), aspect_ratio = :equal, legend = false, color = :blue)\n",
    "    xl = [0, xmid[i], x[i]]\n",
    "    yl = [0, ymid[i], y[i]]\n",
    "    plot!(xl,yl, color=:blue,  linewidth=8)\n",
    "    scatter!(xl, yl, color=:red, markershape=:circle)\n",
    "    display(p)\n",
    "    sleep(0.05)\n",
    "end"
   ]
  },
  {
   "cell_type": "markdown",
   "id": "30a66366",
   "metadata": {},
   "source": [
    "The Interact package connects up some Javascript widgets in the Notebook with Julia.   It supports a variety of widgets and manages the callbacks for you.   This is not a tutorial on the Interact package.  There are some macros available that make the interact package easy to use.  This example sets up two slider bars which are used to set the $\\theta_1$, $\\theta_2$ values.   "
   ]
  },
  {
   "cell_type": "markdown",
   "id": "93e8bb9f",
   "metadata": {},
   "source": [
    "The @manipulate macro sets up the event loop and connects the slider values to values that can be used in the event loop."
   ]
  },
  {
   "cell_type": "code",
   "execution_count": null,
   "id": "2b3b8d4e",
   "metadata": {},
   "outputs": [],
   "source": [
    "function arm(θ1,θ2)\n",
    "    x1 = cos(θ1)\n",
    "    y1 = sin(θ1)\n",
    "    x2 = x1 + cos(θ1+θ2)\n",
    "    y2 = y1 + sin(θ1+θ2)\n",
    "    return x1,x2,y1,y2\n",
    "end"
   ]
  },
  {
   "cell_type": "code",
   "execution_count": null,
   "id": "276e2023",
   "metadata": {},
   "outputs": [],
   "source": [
    "s1 = slider(-π:0.05:π ,value = 0.0, label=\"Theta1\")\n",
    "s2 = slider(-π:0.05:π, value = 0.0, label=\"Theta2\")\n",
    "\n",
    "mp = @manipulate for θ1 in s1, θ2 in s2\n",
    "    x1,x2,y1,y2 = arm(θ1,θ2)\n",
    "    xl = [0,x1,x2]\n",
    "    yl = [0,y1,y2]\n",
    "    plot(xl,yl, legend=false,xlim=(-2,2),ylim=(-2,2), aspect_ratio = :equal, linewidth=8)\n",
    "    scatter!(xl, yl, color=:red, markershape=:circle)\n",
    "end"
   ]
  },
  {
   "cell_type": "markdown",
   "id": "653b5b84",
   "metadata": {},
   "source": [
    "To demonstrate how this can be used in 3D, here is the manipulator from the last homework (#23).  "
   ]
  },
  {
   "cell_type": "code",
   "execution_count": null,
   "id": "48702ad9",
   "metadata": {},
   "outputs": [],
   "source": [
    "function arm3(d, a1, a2, θ1)\n",
    "    x1 = 0\n",
    "    y1 = 0\n",
    "    z1 = d\n",
    "    x2 = a1*cos(θ1)\n",
    "    y2 = a1*sin(θ1)\n",
    "    z2 = z1\n",
    "    x3 = x2\n",
    "    y3 = y2\n",
    "    z3 = z1 - a2\n",
    "    j = [x1,y1,z1,x2,y2,z2,x3,y3,z3]\n",
    "    return j\n",
    "end"
   ]
  },
  {
   "cell_type": "markdown",
   "id": "93fe401e",
   "metadata": {},
   "source": [
    "This gives an example of plots in 3D."
   ]
  },
  {
   "cell_type": "code",
   "execution_count": null,
   "id": "9384bda4",
   "metadata": {},
   "outputs": [],
   "source": [
    "s1 = slider(0.0:0.01:π/2 ,value = 0.0, label=\"Theta1\")\n",
    "s2 = slider(1.0:0.01:5, value = 2.0, label=\"a1\")\n",
    "s3 = slider(1.0:0.01:5, value = 3.0, label=\"a2\")\n",
    "d = 5\n",
    "\n",
    "mp = @manipulate for θ1 in s1, a1 in s2, a2 in s3\n",
    "    j = arm3(d,a1,a2,θ1)\n",
    "    p1 = [0, j[1], j[4], j[7]]\n",
    "    p2 = [0,  j[2], j[5], j[8]]\n",
    "    p3 = [0, j[3], j[6], j[9]]\n",
    "    plot(p1,p2,p3, xlim=(0,6),ylim=(0,6),zlim=(0,6),linewidth=10,legend=false)\n",
    "end"
   ]
  },
  {
   "cell_type": "markdown",
   "id": "3f7780d4",
   "metadata": {},
   "source": [
    "A simple \"Etch-a-Sketch\" type demo:"
   ]
  },
  {
   "cell_type": "code",
   "execution_count": null,
   "id": "2cc1297f",
   "metadata": {},
   "outputs": [],
   "source": [
    "s1 = slider(-1:0.1:1, value = 0.0, label=\"x\")\n",
    "s2 = slider(-1:0.1:1, value = 0.0, label=\"y\")\n",
    "plot(legend=false,xlim=(-1.5,1.5),ylim=(-1.5,1.5))\n",
    "\n",
    "mp = @manipulate for x in s1, y in s2\n",
    "    l1 = [x]\n",
    "    l2 = [y]\n",
    "    plot!(l1,l2, markershape=:circle, markercolor=:blue)\n",
    "end"
   ]
  },
  {
   "cell_type": "markdown",
   "id": "79bc7100",
   "metadata": {},
   "source": [
    "An interactive plotting tool:"
   ]
  },
  {
   "cell_type": "code",
   "execution_count": null,
   "id": "86649a3d",
   "metadata": {},
   "outputs": [],
   "source": [
    "x = range(0, 10, length=100)\n",
    "y = sin.(x) .+ 1.5\n",
    "\n",
    "s1 = slider(1:100, value = 1, label=\"time\")\n",
    "\n",
    "scatter(legend=false,xlim=(0,10),ylim=(0,3))\n",
    "\n",
    "mp = @manipulate for t in s1\n",
    "    i = trunc(Int,t)\n",
    "    l1 = x[1:i]\n",
    "    l2 = y[1:i]\n",
    "    scatter!(l1,l2, markershape=:circle, markercolor=:blue)\n",
    "end"
   ]
  },
  {
   "cell_type": "code",
   "execution_count": null,
   "id": "768c047a",
   "metadata": {},
   "outputs": [],
   "source": [
    "x = y = 0:0.1:30\n",
    "\n",
    "freqs = OrderedDict(zip([\"pi/4\", \"π/2\", \"3π/4\", \"π\"], [π/4, π/2, 3π/4, π]))\n",
    "\n",
    "mp = @manipulate for freq1 in freqs, freq2 in slider(0.01:0.1:4π; label=\"freq2\")\n",
    "    y = @. sin(freq1*x) * sin(freq2*x)\n",
    "    plot(x, y)\n",
    "end"
   ]
  },
  {
   "cell_type": "markdown",
   "id": "373845a4",
   "metadata": {},
   "source": [
    "An example showing how to clear a plot."
   ]
  },
  {
   "cell_type": "code",
   "execution_count": null,
   "id": "01bab526",
   "metadata": {},
   "outputs": [],
   "source": [
    "x = range(0, 10, length=100)\n",
    "y = sin.(x) .+ 1.5\n",
    "\n",
    "s1 = slider(1:100, value = 1, label=\"Time\")\n",
    "s2 = OrderedDict(zip([\"Plot\", \"Clear\"], [1, 0]))\n",
    "\n",
    "scatter(legend=false,xlim=(0,10),ylim=(0,3))\n",
    "\n",
    "mp = @manipulate for t in s1, Select in s2\n",
    "    i = trunc(Int,t)\n",
    "    if Select == 0\n",
    "        scatter(legend=false,xlim=(0,10),ylim=(0,3))\n",
    "    else\n",
    "        l1 = x[1:i]\n",
    "        l2 = y[1:i]\n",
    "        scatter!(l1,l2, markershape=:circle, markercolor=:blue)\n",
    "    end\n",
    "end"
   ]
  },
  {
   "cell_type": "markdown",
   "id": "fd52c6ae",
   "metadata": {},
   "source": [
    "A differential drive example ..."
   ]
  },
  {
   "cell_type": "code",
   "execution_count": null,
   "id": "f54a8337",
   "metadata": {},
   "outputs": [],
   "source": [
    "function DDstep(θ, r, L, ϕ1dot, ϕ2dot, dt)\n",
    "    δx = (r*dt/2)*(ϕ1dot+ϕ2dot)*cos(θ)\n",
    "    δy = (r*dt/2)*(ϕ1dot+ϕ2dot)*sin(θ)\n",
    "    δθ = (r*dt/(2*L))*(ϕ1dot-ϕ2dot)\n",
    "    return δx, δy, δθ\n",
    "end"
   ]
  },
  {
   "cell_type": "markdown",
   "id": "1a0b6d46",
   "metadata": {},
   "source": [
    "Variable setup for the simulation."
   ]
  },
  {
   "cell_type": "code",
   "execution_count": null,
   "id": "c36ca9ed",
   "metadata": {},
   "outputs": [],
   "source": [
    "r = 1\n",
    "L = 2\n",
    "N = 100\n",
    "t = range(0, 5, length = N)\n",
    "ω1 = 1.25 .+ cos.(t)\n",
    "ω2 = 1.0 .+ sin.(t)\n",
    "dt = 0.1\n",
    "x, y = 0, 0\n",
    "θ = 0"
   ]
  },
  {
   "cell_type": "code",
   "execution_count": null,
   "id": "fab44766",
   "metadata": {},
   "outputs": [],
   "source": [
    "lx = zeros(N)\n",
    "ly = zeros(N)\n",
    "lθ = zeros(N)\n",
    "\n",
    "for i = 1:(N-1)\n",
    "    δx, δy, δθ = DDstep(lθ[i], r, L, ω1[i], ω2[i], dt)\n",
    "    lx[i+1] = lx[i] + δx\n",
    "    ly[i+1] = ly[i] + δy\n",
    "    lθ[i+1] = lθ[i] + δθ\n",
    "end\n",
    "scatter(lx,ly, xlim = (0,12), ylim = (-1,2.5), legend = false, color = :blue)"
   ]
  },
  {
   "cell_type": "markdown",
   "id": "318f4b82",
   "metadata": {},
   "source": [
    "The animation of the simulation loop"
   ]
  },
  {
   "cell_type": "code",
   "execution_count": null,
   "id": "19007ef1",
   "metadata": {},
   "outputs": [],
   "source": [
    "for i = 1:N\n",
    "    global x, y, θ\n",
    "    δx, δy, δθ = DDstep(θ, r, L, ω1[i], ω2[i], dt)\n",
    "    x = x + δx\n",
    "    y = y + δy\n",
    "    θ = θ + δθ\n",
    "    p = scatter([x],[y], xlim = (0,12), ylim = (-1,3), legend = false, color = :blue)\n",
    "    display(p)\n",
    "    sleep(0.2)\n",
    "    IJulia.clear_output(true)\n",
    "end"
   ]
  }
 ],
 "metadata": {
  "@webio": {
   "lastCommId": null,
   "lastKernelId": null
  },
  "kernelspec": {
   "display_name": "Julia 1.6.2",
   "language": "julia",
   "name": "julia-1.6"
  },
  "language_info": {
   "file_extension": ".jl",
   "mimetype": "application/julia",
   "name": "julia",
   "version": "1.6.2"
  }
 },
 "nbformat": 4,
 "nbformat_minor": 5
}

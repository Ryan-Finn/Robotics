{
 "cells": [
  {
   "cell_type": "markdown",
   "id": "05121828",
   "metadata": {
    "slideshow": {
     "slide_type": "slide"
    }
   },
   "source": [
    "# Computation and Simulation\n",
    "\n",
    "Computation and simulation of robotic systems"
   ]
  },
  {
   "cell_type": "markdown",
   "id": "72e78725",
   "metadata": {
    "slideshow": {
     "slide_type": "fragment"
    }
   },
   "source": [
    "### Simulation\n",
    "\n",
    "-   What are we doing?\n",
    "\n",
    "-   Why are we simulating?\n",
    "\n",
    "-   How are we doing this?"
   ]
  },
  {
   "cell_type": "markdown",
   "id": "970ed6ed",
   "metadata": {
    "slideshow": {
     "slide_type": "slide"
    }
   },
   "source": [
    "### Simulation\n",
    "\n",
    "Russel Smith’s take:\n",
    "\n",
    "-   Simulations are quicker to build than robots.  \n",
    "    But realistic simulations are hard to build: need to model actuators\n",
    "    (electrical motor dynamics, hydraulics / pneumatics, gear boxes,\n",
    "    friction, stiction, flexion and slip), sensors, robot geometry and\n",
    "    mass distribution, joint geometries, flexible bodies (vibration\n",
    "    effects).\n",
    "\n",
    "-   Simulations let you cheat.  \n",
    "    Easy to make controllers that exploit quirks of the simulated world,\n",
    "    that don’t work so well in real life.\n",
    "\n",
    "-   Simulated robots do not break.  \n",
    "    The cost of experimentation may be lower.\n",
    "\n",
    "-   The best tradeoff:  \n",
    "    Prototype robot control algorithms on a good-enough simulation, then\n",
    "    move to the real hardware."
   ]
  },
  {
   "cell_type": "markdown",
   "id": "038b2a52",
   "metadata": {
    "slideshow": {
     "slide_type": "slide"
    }
   },
   "source": [
    "### Simulation\n",
    "\n",
    "-   API primitives: rigid or flexible bodies, joints, contact with\n",
    "    friction, collision detection, etc...\n",
    "\n",
    "-   Many techniques, many libraries, lots of research.\n",
    "\n",
    "-   Applications:\n",
    "\n",
    "    -   Game engines\n",
    "\n",
    "    -   Animation software\n",
    "\n",
    "    -   Industrial Design\n",
    "\n",
    "    -   Robotics\n",
    "\n",
    "-   Research tool."
   ]
  },
  {
   "cell_type": "markdown",
   "id": "7a4f0eeb",
   "metadata": {
    "slideshow": {
     "slide_type": "slide"
    }
   },
   "source": [
    "### Essential Components\n",
    "\n",
    "1.  Equations of Motion  \n",
    "    Lagrangian formulations\n",
    "\n",
    "2.  Integration  \n",
    "    Numerical quadrature\n",
    "\n",
    "3.  Contact and Friction  \n",
    "    Constraints\n",
    "\n",
    "4.  Optimization  \n",
    "    To address constrained optimization problem\n",
    "\n",
    "5.  Collision  \n",
    "    Collision detection required"
   ]
  },
  {
   "cell_type": "code",
   "execution_count": null,
   "id": "0a506811",
   "metadata": {},
   "outputs": [],
   "source": [
    "using Plots\n",
    "using LinearAlgebra\n",
    "using NLsolve\n",
    "using Interact\n",
    "#using Pkg\n",
    "#Pkg.add(\"Interact\")"
   ]
  },
  {
   "cell_type": "markdown",
   "id": "96726ad5",
   "metadata": {
    "slideshow": {
     "slide_type": "slide"
    }
   },
   "source": [
    "### Two link manipulator - Forward"
   ]
  },
  {
   "cell_type": "code",
   "execution_count": null,
   "id": "65b9e418",
   "metadata": {
    "slideshow": {
     "slide_type": "fragment"
    }
   },
   "outputs": [],
   "source": [
    "a1, a2 = 15.0, 15.1\n",
    "θ1, θ2 = 0.1, 0.2\n",
    "x = a2*cos(θ1 + θ2) + a1*cos(θ1)\n",
    "y = a2*sin(θ1 + θ2) + a1*sin(θ1)\n",
    "println(\"x = \", x, \", y = \", y)"
   ]
  },
  {
   "cell_type": "markdown",
   "id": "c336de86",
   "metadata": {
    "slideshow": {
     "slide_type": "slide"
    }
   },
   "source": [
    "### Two link manipulator - Inverse"
   ]
  },
  {
   "cell_type": "code",
   "execution_count": null,
   "id": "4d184855",
   "metadata": {
    "slideshow": {
     "slide_type": "fragment"
    }
   },
   "outputs": [],
   "source": [
    "a1,a2 = 15.0,15.0\n",
    "x,y = 10.0,8.0\n",
    "d =  (x*x+y*y-a1*a1-a2*a2)/(2*a1*a2)\n",
    "println(\"x = \", x, \" y = \", y)\n",
    "println(\"d = \", d)\n",
    "\n",
    "θ2 = atan(-sqrt(1.0-d*d),d)\n",
    "θ1 = atan(y,x) - atan(a2*sin(θ2),a1+a2*cos(θ2))\n",
    "println(\"Angles:  θ1 =\", θ1,\",  θ2 = \", θ2)\n",
    "\n",
    "x1 = a2*cos(θ1+θ2) + a1*cos(θ1)\n",
    "y1 = a2*sin(θ1+θ2) + a1*sin(θ1)\n",
    "println(\"Check: x = \", x1, \", y = \", y1)"
   ]
  },
  {
   "cell_type": "markdown",
   "id": "59484196",
   "metadata": {
    "slideshow": {
     "slide_type": "slide"
    }
   },
   "source": [
    "### Two link manipulator   - Functions"
   ]
  },
  {
   "cell_type": "code",
   "execution_count": null,
   "id": "a263e253",
   "metadata": {
    "slideshow": {
     "slide_type": "fragment"
    }
   },
   "outputs": [],
   "source": [
    "function twolinkik(x,y)\n",
    "    d =  (x*x+y*y-a1*a1-a2*a2)/(2*a1*a2)\n",
    "    θ2 = atan(-sqrt(1.0-d*d),d)\n",
    "    θ1 = atan(y,x) - atan(a2*sin(θ2),a1+a2*cos(θ2))\n",
    "    return θ1, θ2\n",
    "end\n",
    "\n",
    "function twolinkfk(θ1, θ2)\n",
    "    x = a2*cos(θ1 + θ2) + a1*cos(θ1)\n",
    "    y = a2*sin(θ1 + θ2) + a1*sin(θ1)\n",
    "    return x, y\n",
    "end\n",
    "\n",
    "x, y = 10, 8\n",
    "θ1, θ2 = twolinkik(x, y)\n",
    "x1, y1 = twolinkfk(θ1, θ2)\n",
    "println(\"x = \", x, \" y = \", y)\n",
    "println(\"Check: x = \", x1, \", y = \", y1)"
   ]
  },
  {
   "cell_type": "markdown",
   "id": "d86b71dc",
   "metadata": {
    "slideshow": {
     "slide_type": "slide"
    }
   },
   "source": [
    "### Control\n",
    "\n",
    "There are several aspects of a manipulator we might control:\n",
    "\n",
    "-   Position Control\n",
    "\n",
    "-   Velocity Control\n",
    "\n",
    "-   Force Control\n",
    "\n",
    "Normally you will have a discrete data to set the control points. For\n",
    "example: with position control, changes in position are done by sending\n",
    "new coordinates to the controller. Movement between control points is\n",
    "done by default system dynamics."
   ]
  },
  {
   "cell_type": "markdown",
   "id": "718786d4",
   "metadata": {
    "slideshow": {
     "slide_type": "slide"
    }
   },
   "source": [
    "### Equations of motion for manipulators\n",
    "\n",
    "Assume we have the forward kinematics map: $\\xi = \\phi(q)$. Motion is\n",
    "found via the time derivative.\n",
    "$$\\dot{\\xi} = D_t\\phi(q) = J_\\phi(q)\\dot{q}$$ where $q$ are the joint\n",
    "angles and $J$ is the Jacobian.\n",
    "\n",
    "Note that the Jacobian need not be square or of full rank. Thus an\n",
    "inverse need not exist. Given $\\phi^{-1}=\\psi$, $q = \\psi(\\xi)$, one can\n",
    "in principle do the same thing\n",
    "$$\\dot{q} = D_t\\psi(\\xi) = J_\\psi(\\xi)\\dot{\\xi}$$"
   ]
  },
  {
   "cell_type": "markdown",
   "id": "1bba77c5",
   "metadata": {
    "slideshow": {
     "slide_type": "skip"
    }
   },
   "source": [
    "### Chain Rule\n",
    "\n",
    "Recall that if $w_k = f_k(x,y,z)$ and $x,y,z$ are functions of $t$, then\n",
    "the chain rule states\n",
    "$$\\dot{w_k} = \\frac{\\partial f_k}{\\partial x}\\frac{dx}{dt} +\n",
    "\\frac{\\partial f_k}{\\partial y}\\frac{dy}{dt} +\n",
    "\\frac{\\partial f_k}{\\partial z}\\frac{dz}{dt}$$ where\n",
    "$k = 1, 2, ... n$.  \n",
    "For $n=3$\n",
    "$$\\begin{bmatrix} \\dot{w}_1\\\\[8pt]\\dot{w}_2\\\\[8pt]\\dot{w}_3\\end{bmatrix}\n",
    "=\n",
    "\\begin{bmatrix}\n",
    " \\frac{\\partial f_1}{\\partial x} & \\frac{\\partial f_1}{\\partial y} & \\frac{\\partial f_1}{\\partial z}\\\\[8pt]\n",
    "\\frac{\\partial f_2}{\\partial x} & \\frac{\\partial f_2}{\\partial y} & \\frac{\\partial f_2}{\\partial z}\\\\[8pt]\n",
    "\\frac{\\partial f_3}{\\partial x} & \\frac{\\partial f_3}{\\partial y} & \\frac{\\partial f_3}{\\partial z}\n",
    "\\end{bmatrix}\n",
    "\\begin{bmatrix} \\frac{dx}{dt}\\\\[8pt]\\frac{dy}{dt}\\\\[8pt]\\frac{dz}{dt}\\end{bmatrix}$$"
   ]
  },
  {
   "cell_type": "markdown",
   "id": "ac066aa3",
   "metadata": {
    "slideshow": {
     "slide_type": "slide"
    }
   },
   "source": [
    "### Equations of motion revisited\n",
    "\n",
    "Assume we have the forward velocity model:\n",
    "$$\\dot{\\xi} =  J_\\phi(q)\\dot{q}$$ where $q$ are state variables and $J$\n",
    "is the Jacobian of the forward map.\n",
    "\n",
    "Determine a velocity (speed and direction) $\\dot{\\xi}$, and then solve\n",
    "$\\dot{\\xi} = J_\\phi(q)\\dot{q}$ for $\\dot{q}$.\n",
    "\n",
    "Thus we have the iterative process\n",
    "\n",
    "* Define $$\\Delta \\xi_k = \\xi_k - \\xi_{k-1}$$\n",
    "\n",
    "* Solve $$\\Delta \\xi_k = J_\\phi(q_{k-1})h$$\n",
    "\n",
    "* Set $$q_k = q_{k-1} + h$$"
   ]
  },
  {
   "cell_type": "markdown",
   "id": "bc305d28",
   "metadata": {
    "slideshow": {
     "slide_type": "subslide"
    }
   },
   "source": [
    "### Least Squares\n",
    "\n",
    "Let $A = J_\\phi(q)$ and $x=h$ and $b = \\Delta \\xi$ then\n",
    "$$J_\\phi(q)h = \\Delta \\xi \\quad \\Rightarrow \\quad Ax=b$$ What can be\n",
    "said when $A$ is rank deficient?"
   ]
  },
  {
   "cell_type": "markdown",
   "id": "6a723d5a",
   "metadata": {
    "slideshow": {
     "slide_type": "slide"
    }
   },
   "source": [
    "### Forward and Inverse Kinematics\n",
    "\n",
    "Given joint angles and actuator lengths it is straightforward to compute\n",
    "end effector position. Thus it is easy to find effector path as a\n",
    "function of rotations.$$\\begin{pmatrix} \\theta_1(t), ... , \\theta_n(t)\n",
    "           \\end{pmatrix}\\to p(t)$$\n",
    "\n",
    "It is MUCH harder to find the angle functions if you are given the end\n",
    "effector path: $$p(t) \\to \\begin{pmatrix} \\theta_1(t), ... , \\theta_n(t)\n",
    "           \\end{pmatrix}$$"
   ]
  },
  {
   "cell_type": "markdown",
   "id": "1eccdf86",
   "metadata": {
    "slideshow": {
     "slide_type": "slide"
    }
   },
   "source": [
    "### Manipulator Jacobians\n",
    "\n",
    "This Notebook gives examples of computations with the Jacobian.\n",
    "\n",
    "This Notebook uses a couple of packages...\n",
    "\n",
    "import Pkg ; Pkg.add(\"NLsolve\")"
   ]
  },
  {
   "cell_type": "markdown",
   "id": "e75699a9",
   "metadata": {
    "slideshow": {
     "slide_type": "slide"
    }
   },
   "source": [
    "We begin with the Two Link manipulator.  The forward kinematics is "
   ]
  },
  {
   "cell_type": "code",
   "execution_count": null,
   "id": "ad2b74d6",
   "metadata": {
    "slideshow": {
     "slide_type": "fragment"
    }
   },
   "outputs": [],
   "source": [
    "function FK(θ1, θ2, a1, a2)\n",
    "    x = a2*cos(θ1+θ2) + a1*cos(θ1)\n",
    "    y = a2*sin(θ1+θ2) + a1*sin(θ1)\n",
    "    return x,y\n",
    "end"
   ]
  },
  {
   "cell_type": "markdown",
   "id": "f7a18d98",
   "metadata": {
    "slideshow": {
     "slide_type": "fragment"
    }
   },
   "source": [
    "And the Jacobian is "
   ]
  },
  {
   "cell_type": "code",
   "execution_count": null,
   "id": "66d2071b",
   "metadata": {
    "slideshow": {
     "slide_type": "fragment"
    }
   },
   "outputs": [],
   "source": [
    "function FKJ(θ1, θ2, a1, a2)\n",
    "    j11 = -a2*sin(θ1+θ2) - a1*sin(θ1)\n",
    "    j12 = -a2*sin(θ1+θ2)\n",
    "    j21 = a2*cos(θ1+θ2) + a1*cos(θ1)\n",
    "    j22 = a2*cos(θ1+θ2)\n",
    "    J = [ j11 j12 ; j21 j22]\n",
    "    return J\n",
    "end"
   ]
  },
  {
   "cell_type": "markdown",
   "id": "41e89fa4",
   "metadata": {
    "slideshow": {
     "slide_type": "slide"
    }
   },
   "source": [
    "We can see how this works by a simple command:"
   ]
  },
  {
   "cell_type": "code",
   "execution_count": null,
   "id": "81a2eb3a",
   "metadata": {
    "slideshow": {
     "slide_type": "fragment"
    }
   },
   "outputs": [],
   "source": [
    "J = FKJ(0.1, 0.2, 10, 10)"
   ]
  },
  {
   "cell_type": "markdown",
   "id": "ccb2a72c",
   "metadata": {
    "slideshow": {
     "slide_type": "fragment"
    }
   },
   "source": [
    "If joint velocities are [5,10], then the manipulator velocity is"
   ]
  },
  {
   "cell_type": "code",
   "execution_count": null,
   "id": "884d19b6",
   "metadata": {
    "slideshow": {
     "slide_type": "fragment"
    }
   },
   "outputs": [],
   "source": [
    "qdot = [5,10]\n",
    "v = J*qdot"
   ]
  },
  {
   "cell_type": "markdown",
   "id": "df3be5ef",
   "metadata": {
    "slideshow": {
     "slide_type": "fragment"
    }
   },
   "source": [
    "We can extract the joint velocity from the linear velocity"
   ]
  },
  {
   "cell_type": "code",
   "execution_count": null,
   "id": "2c11c783",
   "metadata": {
    "slideshow": {
     "slide_type": "fragment"
    }
   },
   "outputs": [],
   "source": [
    "inv(J)*v"
   ]
  },
  {
   "cell_type": "markdown",
   "id": "a45b240a",
   "metadata": {
    "slideshow": {
     "slide_type": "slide"
    }
   },
   "source": [
    "We can numerically extract the inverse kinematics.  First a couple of measurement functions"
   ]
  },
  {
   "cell_type": "code",
   "execution_count": null,
   "id": "328b1c38",
   "metadata": {
    "slideshow": {
     "slide_type": "fragment"
    }
   },
   "outputs": [],
   "source": [
    "function distance(x1, y1, x2, y2)\n",
    "    d = sqrt((x1-x2)^2 + (y1-y2)^2)\n",
    "    return d\n",
    "end\n",
    "\n",
    "function size(v1,v2)\n",
    "    size = sqrt(v1*v1+v2*v2)\n",
    "    return size\n",
    "end"
   ]
  },
  {
   "cell_type": "markdown",
   "id": "fccb23f7",
   "metadata": {
    "slideshow": {
     "slide_type": "subslide"
    }
   },
   "source": [
    "Then we can implement the algorithm in the text:"
   ]
  },
  {
   "cell_type": "code",
   "execution_count": null,
   "id": "c23bd493",
   "metadata": {
    "slideshow": {
     "slide_type": "slide"
    }
   },
   "outputs": [],
   "source": [
    "x = 10\n",
    "y = 12\n",
    "θ1 = 0.1\n",
    "θ2 = 0.2\n",
    "a1 = a2 = 10\n",
    "δ,k = 0.1, 0\n",
    "xc, yc = FK(θ1, θ2, a1, a2)\n",
    "d = distance(x,y,xc,yc)\n",
    "\n",
    "while d > .001\n",
    "    vx = x - xc\n",
    "    vy = y - yc\n",
    "    s = δ*size(vx,vy)\n",
    "    ux = s*vx\n",
    "    uy = s*vy\n",
    "    J = FKJ(θ1, θ2, a1, a2)\n",
    "    u = [ux, uy]\n",
    "    w = J\\u\n",
    "    θ1 = θ1 + w[1]\n",
    "    θ2 = θ2 + w[2]\n",
    "    xc, yc = FK(θ1, θ2, a1, a2)\n",
    "    d = distance(x,y,xc,yc)\n",
    "    k +=1\n",
    "end\n",
    "θ1 = θ1 - 2*π*trunc(θ1/(2*π))\n",
    "θ2 = θ2 - 2*π*trunc(θ2/(2*π))\n",
    "println(\"k = \", k, \" :  θ1 = \",θ1, \",   θ2 = \", θ2, \",  x = \", xc, \",  y = \", yc)"
   ]
  },
  {
   "cell_type": "markdown",
   "id": "513e19ba",
   "metadata": {
    "slideshow": {
     "slide_type": "slide"
    }
   },
   "source": [
    "This works, but is really slow (convergence) so we try a Newton based algorithm.  It also needs the Jacobian.  The NLsolve package solves systems of nonlinear equations. Formally, if F is a multivalued function, then this package looks for some vector x that satisfies F(x)=0 to some accuracy.   Using the NLsolve package it is a simple rewrite:"
   ]
  },
  {
   "cell_type": "code",
   "execution_count": null,
   "id": "f3e5cdd1",
   "metadata": {
    "slideshow": {
     "slide_type": "fragment"
    }
   },
   "outputs": [],
   "source": [
    "function f!(F, x)\n",
    "    F[1] = 10*cos(x[1]+x[2]) + 10*cos(x[1]) - 10\n",
    "    F[2] = 10*sin(x[1]+x[2]) + 10*sin(x[1]) - 12\n",
    "end\n",
    "\n",
    "\n",
    "function j!(J, x)\n",
    "    J[1, 1] = -10*sin(x[1]+x[2]) - 10*sin(x[1])\n",
    "    J[1, 2] = -10*sin(x[1]+x[2])\n",
    "    J[2, 1] = 10*cos(x[1]+x[2]) + 10*cos(x[1])\n",
    "    J[2, 2] = 10*cos(x[1]+x[2])\n",
    "end\n",
    "\n",
    "res = nlsolve(f!, j!, [ 0.5; 0.2])"
   ]
  },
  {
   "cell_type": "markdown",
   "id": "a231c827",
   "metadata": {
    "slideshow": {
     "slide_type": "slide"
    }
   },
   "source": [
    "What is up with the \"!\".  This is a Julia convention to indicate that the function modifies its arguments but does not affect the function semantics otherwise.   Numerical solutions to equations is a whole subject and we will move on for now.\n",
    "\n",
    "How about a simple extension to the three link manipulator?  In the following cells we try the same approach."
   ]
  },
  {
   "cell_type": "code",
   "execution_count": null,
   "id": "0347c411",
   "metadata": {
    "slideshow": {
     "slide_type": "fragment"
    }
   },
   "outputs": [],
   "source": [
    "function threelink!(F, x)\n",
    "    a1 = 10\n",
    "    a2 = 10\n",
    "    a3 = 10\n",
    "    F[1] = a3*cos(x[1] + x[2] + x[3]) + a2*cos(x[1] + x[2]) + a1*cos(x[1])\n",
    "    F[2] = a3*sin(x[1] + x[2] + x[3]) + a2*sin(x[1] + x[2]) + a1*sin(x[1])\n",
    "    return F\n",
    "end\n",
    "\n",
    "function f!(F, x)\n",
    "    G = threelink!(F, x)\n",
    "    F[1] = G[1]-20\n",
    "    F[2] = G[2]-25\n",
    "    return F\n",
    "end"
   ]
  },
  {
   "cell_type": "code",
   "execution_count": null,
   "id": "0be6e3fc",
   "metadata": {
    "slideshow": {
     "slide_type": "slide"
    }
   },
   "outputs": [],
   "source": [
    "function j!(J,x)\n",
    "  a1 = 10\n",
    "  a2 = 10\n",
    "  a3 = 10\n",
    "  J[1,1] = -a3*sin(x[1] + x[2] + x[3])- a2*sin(x[1] + x[2]) - a1*sin(x[1]) \n",
    "  J[1,2] = -a3*sin(x[1] + x[2] + x[3])- a2*sin(x[1] + x[2])  \n",
    "  J[1,3] = -a3*sin(x[1] + x[2] + x[3])\n",
    "  J[2,1] =  a3*cos(x[1] + x[2] + x[3])+ a2*cos(x[1] + x[2]) + a1*cos(x[1]) \n",
    "  J[2,2] =  a3*cos(x[1] + x[2] + x[3])+ a2*cos(x[1] + x[2])  \n",
    "  J[2,3] =  a3*cos(x[1] + x[2] + x[3]) \n",
    "  return J\n",
    "end"
   ]
  },
  {
   "cell_type": "code",
   "execution_count": null,
   "id": "302ba64f",
   "metadata": {
    "slideshow": {
     "slide_type": "fragment"
    }
   },
   "outputs": [],
   "source": [
    "res = nlsolve(f!, j!, [ 0.1; 0.2; 0.3])"
   ]
  },
  {
   "cell_type": "markdown",
   "id": "d3554145",
   "metadata": {
    "slideshow": {
     "slide_type": "fragment"
    }
   },
   "source": [
    "What went wrong?  (The other algorithm fails also.)\n",
    "\n",
    "The problem is that the Jacobian is not square and so not invertable.  "
   ]
  },
  {
   "cell_type": "code",
   "execution_count": null,
   "id": "7e757acd",
   "metadata": {
    "slideshow": {
     "slide_type": "slide"
    }
   },
   "outputs": [],
   "source": [
    "J = zeros(2,3)\n",
    "x = zeros(3)\n",
    "x[1] = 0.1\n",
    "x[2] = 0.2\n",
    "x[3] = 0.3\n",
    "J = j!(J,x)"
   ]
  },
  {
   "cell_type": "markdown",
   "id": "4eda5a31",
   "metadata": {
    "slideshow": {
     "slide_type": "fragment"
    }
   },
   "source": [
    "We need to apply the Pseudoinverse ...  which is done via the SVD:"
   ]
  },
  {
   "cell_type": "code",
   "execution_count": null,
   "id": "6b893f0e",
   "metadata": {
    "slideshow": {
     "slide_type": "fragment"
    }
   },
   "outputs": [],
   "source": [
    "R = svd(J, full = true)"
   ]
  },
  {
   "cell_type": "markdown",
   "id": "ed71af69",
   "metadata": {
    "slideshow": {
     "slide_type": "slide"
    }
   },
   "source": [
    "You can access each via:"
   ]
  },
  {
   "cell_type": "code",
   "execution_count": null,
   "id": "2c3e7980",
   "metadata": {
    "slideshow": {
     "slide_type": "fragment"
    }
   },
   "outputs": [],
   "source": [
    "R.U"
   ]
  },
  {
   "cell_type": "code",
   "execution_count": null,
   "id": "29aa5fc0",
   "metadata": {
    "slideshow": {
     "slide_type": "fragment"
    }
   },
   "outputs": [],
   "source": [
    "R.S"
   ]
  },
  {
   "cell_type": "code",
   "execution_count": null,
   "id": "670d85f7",
   "metadata": {
    "slideshow": {
     "slide_type": "fragment"
    }
   },
   "outputs": [],
   "source": [
    "R.Vt"
   ]
  },
  {
   "cell_type": "markdown",
   "id": "68c85d22",
   "metadata": {
    "slideshow": {
     "slide_type": "slide"
    }
   },
   "source": [
    "We should check if this is correct..."
   ]
  },
  {
   "cell_type": "code",
   "execution_count": null,
   "id": "5c236e10",
   "metadata": {
    "slideshow": {
     "slide_type": "fragment"
    }
   },
   "outputs": [],
   "source": [
    "R.U*Diagonal(R.S)*R.Vt[1:2,:]"
   ]
  },
  {
   "cell_type": "code",
   "execution_count": null,
   "id": "1f1b869f",
   "metadata": {
    "slideshow": {
     "slide_type": "fragment"
    }
   },
   "outputs": [],
   "source": [
    "J"
   ]
  },
  {
   "cell_type": "markdown",
   "id": "153a434a",
   "metadata": {
    "slideshow": {
     "slide_type": "slide"
    }
   },
   "source": [
    "The transpose has shorthand here:"
   ]
  },
  {
   "cell_type": "code",
   "execution_count": null,
   "id": "11760a4f",
   "metadata": {
    "slideshow": {
     "slide_type": "fragment"
    }
   },
   "outputs": [],
   "source": [
    "R.U'"
   ]
  },
  {
   "cell_type": "markdown",
   "id": "3dbf24e5",
   "metadata": {
    "slideshow": {
     "slide_type": "fragment"
    }
   },
   "source": [
    "The pseudoinverse is done via the SVD ...  $(R.U * R.S * R.Vt)^+ = R.Vt' * R.S^+ * R.U'$ :"
   ]
  },
  {
   "cell_type": "code",
   "execution_count": null,
   "id": "af7b2c74",
   "metadata": {
    "slideshow": {
     "slide_type": "fragment"
    }
   },
   "outputs": [],
   "source": [
    "JI = R.Vt'[:,1:2] * inv(Diagonal(R.S)) * (R.U')"
   ]
  },
  {
   "cell_type": "markdown",
   "id": "0afd0cc3",
   "metadata": {
    "slideshow": {
     "slide_type": "slide"
    }
   },
   "source": [
    "There is shorthand for this"
   ]
  },
  {
   "cell_type": "code",
   "execution_count": null,
   "id": "eb467bca",
   "metadata": {
    "slideshow": {
     "slide_type": "fragment"
    }
   },
   "outputs": [],
   "source": [
    "pinv(J)"
   ]
  },
  {
   "cell_type": "markdown",
   "id": "a60b334c",
   "metadata": {
    "slideshow": {
     "slide_type": "fragment"
    }
   },
   "source": [
    "We can solve $v = Jw$ for w without explicitly constructing the SVD via"
   ]
  },
  {
   "cell_type": "code",
   "execution_count": null,
   "id": "759219d8",
   "metadata": {
    "slideshow": {
     "slide_type": "fragment"
    }
   },
   "outputs": [],
   "source": [
    "v = [1,1]\n",
    "w = pinv(J)*v"
   ]
  },
  {
   "cell_type": "markdown",
   "id": "4bd8a002",
   "metadata": {
    "slideshow": {
     "slide_type": "slide"
    }
   },
   "source": [
    "The Nullspace is given by the rows corresponding to zero singular values (missing from S):"
   ]
  },
  {
   "cell_type": "code",
   "execution_count": null,
   "id": "69d50b96",
   "metadata": {
    "slideshow": {
     "slide_type": "fragment"
    }
   },
   "outputs": [],
   "source": [
    "N = R.Vt[3,:]"
   ]
  },
  {
   "cell_type": "markdown",
   "id": "256f080a",
   "metadata": {
    "slideshow": {
     "slide_type": "subslide"
    }
   },
   "source": [
    "This can be done without explicit construction of the SVD and there is shorthand ..."
   ]
  },
  {
   "cell_type": "code",
   "execution_count": null,
   "id": "f4d73f24",
   "metadata": {
    "slideshow": {
     "slide_type": "fragment"
    }
   },
   "outputs": [],
   "source": [
    "nullspace(J)"
   ]
  },
  {
   "cell_type": "code",
   "execution_count": null,
   "id": "93a9432c",
   "metadata": {
    "slideshow": {
     "slide_type": "slide"
    }
   },
   "outputs": [],
   "source": [
    "F = zeros(2)\n",
    "x = zeros(3)\n",
    "\n",
    "x=[0.2, 0.3, 0.4]\n",
    "δ = 0.01\n",
    "F = threelink!(F,x)\n",
    "print(\"q = \")\n",
    "println(x)\n",
    "print(\"p = \")\n",
    "println(F, \"\\n\")\n",
    "\n",
    "x1 = x\n",
    "for i in 1:10\n",
    "    J = j!(J,x1)\n",
    "    v = nullspace(J)\n",
    "    x1 = x1 + δ*v\n",
    "end\n",
    "F = threelink!(F,x1)\n",
    "print(\"q = \")\n",
    "println(x1)\n",
    "println(norm(x - x1))\n",
    "print(\"p = \")\n",
    "println(F, \"\\n\")\n",
    "\n",
    "x2 = x + pinv(J)*[-2,3]\n",
    "F = threelink!(F,x2)\n",
    "print(\"q = \")\n",
    "println(x2)\n",
    "println(norm(x - x2))\n",
    "print(\"p = \")\n",
    "println(F)"
   ]
  },
  {
   "cell_type": "markdown",
   "id": "3fab6fcf",
   "metadata": {
    "slideshow": {
     "slide_type": "slide"
    }
   },
   "source": [
    "We can put this together..."
   ]
  },
  {
   "cell_type": "code",
   "execution_count": null,
   "id": "f5c5541a",
   "metadata": {
    "slideshow": {
     "slide_type": "slide"
    }
   },
   "outputs": [],
   "source": [
    "function arm(θ1,θ2,θ3)\n",
    "    x1 = 10*cos(θ1)\n",
    "    y1 = 10*sin(θ1)\n",
    "    x2 = x1 + 10*cos(θ1+θ2)\n",
    "    y2 = y1 + 10*sin(θ1+θ2)\n",
    "    x3 = x2 + 10*cos(θ1+θ2+θ3)\n",
    "    y3 = y2 + 10*sin(θ1+θ2+θ3)\n",
    "    return x1,x2,x3,y1,y2,y3\n",
    "end"
   ]
  },
  {
   "cell_type": "code",
   "execution_count": null,
   "id": "52ede8bf",
   "metadata": {
    "slideshow": {
     "slide_type": "slide"
    }
   },
   "outputs": [],
   "source": [
    "N = 100\n",
    "F = zeros(2)\n",
    "x = zeros(3)\n",
    "w = zeros(3)\n",
    "J = zeros(2,3)\n",
    "q1 = zeros(N)\n",
    "q2 = zeros(N)\n",
    "q3 = zeros(N)\n",
    "p1 = zeros(N)\n",
    "p2 = zeros(N)\n",
    "x = [0, 2*π/3, -3π/4]\n",
    "F = threelink!(F, x)\n",
    "\n",
    "for i in 1:N\n",
    "    J = j!(J,x)\n",
    "    v = 0.1*[-sin(i/N), 2*cos(i/N)]\n",
    "    w = pinv(J)*v\n",
    "    x = x + w\n",
    "    F = threelink!(F, x)\n",
    "    q1[i] = x[1]\n",
    "    q2[i] = x[2]\n",
    "    q3[i] = x[3]\n",
    "    p1[i] = F[1]\n",
    "    p2[i] = F[2]\n",
    "end"
   ]
  },
  {
   "cell_type": "code",
   "execution_count": null,
   "id": "fd6dbfa3",
   "metadata": {
    "slideshow": {
     "slide_type": "slide"
    }
   },
   "outputs": [],
   "source": [
    "plt = plot(legend=false,xlim=(0,3),ylim=(0,3),aspect_ratio=:equal)\n",
    "display(plt)\n",
    "for i = 1:N\n",
    "    IJulia.clear_output(true)\n",
    "    x1,x2,x3,y1,y2,y3 = arm(q1[i],q2[i],q3[i])\n",
    "    l1 = [0,x1,x2,x3]\n",
    "    l2 = [0,y1,y2,y3]\n",
    "    plt = plot(l1,l2, legend=false,xlim=(0,30),ylim=(0,30), linewidth=8, aspect_ratio=:equal)\n",
    "    plot!(p1[1:i],p2[1:i])\n",
    "    display(plt)\n",
    "    sleep(.02)\n",
    "end"
   ]
  },
  {
   "cell_type": "markdown",
   "id": "be7eb43d",
   "metadata": {},
   "source": [
    "### How can we animate?"
   ]
  },
  {
   "cell_type": "code",
   "execution_count": null,
   "id": "e78a2edc",
   "metadata": {},
   "outputs": [],
   "source": [
    "N = 4\n",
    "θ1 = [0.1, .3, .5, 0.8]\n",
    "θ2 = [0.2, .4, .6, 0.9]\n",
    "x = a2.*cos.(θ1 .+ θ2) .+ a1.*cos.(θ1)\n",
    "y = a2.*sin.(θ1 .+ θ2) .+ a1.*sin.(θ1)\n",
    "a1, a2 = 1, 1\n",
    "xmid = a1 .* cos.(θ1)\n",
    "ymid = a1 .* sin.(θ1)\n",
    "p = scatter(xlim = (-0.1,2.1), ylim = (-0.1,2.1), axis = false, ticks = false, aspect_ratio = :equal, legend = false, color = :blue)\n",
    "for i = 1:N\n",
    "    xl = [0, xmid[i],x[i]]\n",
    "    yl = [0, ymid[i],y[i]]\n",
    "    plot!(xl,yl, color=:blue,  linewidth=8)\n",
    "    scatter!(xl, yl, color=:red, markershape=:circle, ms = 6)\n",
    "end\n",
    "plot!([1.75,1.35],[1.25,1.65],arrow=true,color=:black,linewidth=2,label=\"\")\n",
    "display(p)"
   ]
  },
  {
   "cell_type": "markdown",
   "id": "0638e3a1",
   "metadata": {
    "slideshow": {
     "slide_type": "slide"
    }
   },
   "source": [
    "### Two Link Simulations\n",
    "\n",
    "For the arm in the two link example, determine the joint angles to trace\n",
    "out a circle centered at (10,8) of radius 5. The circle can be\n",
    "parametrized by $x(t) = 5\\cos (t) + 10$, $y(t) = 5 \\sin(t) + 8$,\n",
    "$0 \\leq t \\leq 2\\pi$. Generate an array of points on the circle and plug\n",
    "them into the inverse kinematics.\n",
    "\n",
    "How can we achieve this ...\n",
    "\n",
    "Here is an example using the macro @"
   ]
  },
  {
   "cell_type": "code",
   "execution_count": null,
   "id": "ed012920",
   "metadata": {
    "slideshow": {
     "slide_type": "slide"
    }
   },
   "outputs": [],
   "source": [
    "t = range(0, 2*π, length = 100)\n",
    "x = @. 5 * cos(t) + 10.0\n",
    "y = @. 5 * sin(t) + 8.0\n",
    "a1,a2 = 15.0,15.0\n",
    "d =  @. ((x*x) + (y*y) - (a1*a1) - (a2*a2))/(2.0 * (a1*a2))\n",
    "t2 = @. atan(-sqrt(1.0 - (d*d)),d)\n",
    "t1 = @. atan(y,x) - atan(a2*sin(t2), a1 + a2*cos(t2))\n",
    "\n",
    "p = plot(t1,t2,aspect_ratio = :equal,legend=false)\n",
    "println(\"Done\")"
   ]
  },
  {
   "cell_type": "code",
   "execution_count": null,
   "id": "440ff8ca",
   "metadata": {
    "slideshow": {
     "slide_type": "subslide"
    }
   },
   "outputs": [],
   "source": [
    "display(p)"
   ]
  },
  {
   "cell_type": "code",
   "execution_count": null,
   "id": "4fa664c3",
   "metadata": {
    "slideshow": {
     "slide_type": "slide"
    }
   },
   "outputs": [],
   "source": [
    "x1 = @. a2*cos(t1+t2) + a1*cos(t1)\n",
    "y1 = @. a2*sin(t1+t2) + a1*sin(t1)\n",
    "p = plot(x1,y1,aspect_ratio = :equal,legend=false)\n",
    "println(\"Done\")"
   ]
  },
  {
   "cell_type": "code",
   "execution_count": null,
   "id": "80f20a14",
   "metadata": {
    "slideshow": {
     "slide_type": "subslide"
    }
   },
   "outputs": [],
   "source": [
    "display(p)"
   ]
  },
  {
   "cell_type": "code",
   "execution_count": null,
   "id": "32ddd1e9",
   "metadata": {
    "slideshow": {
     "slide_type": "slide"
    }
   },
   "outputs": [],
   "source": [
    "function ik(x, y, a1, a2)\n",
    "   d =  (x*x+y*y-a1*a1-a2*a2)/(2*a1*a2)\n",
    "   θ2 = atan(-sqrt(1.0-d*d),d)\n",
    "   θ1 = atan(y,x) - atan(a2*sin(θ2),a1+a2*cos(θ2))\n",
    "   return (θ1,θ2)\n",
    "end\n",
    "\n",
    "\n",
    "function fk(θ1, θ2, a1, a2)\n",
    "    x = a2*cos(θ1+θ2) + a1*cos(θ1)\n",
    "    y = a2*sin(θ1+θ2) + a1*sin(θ1)\n",
    "    return x,y\n",
    "end\n",
    "\n",
    "a1, a2 = 15.0, 15.0\n",
    "\n",
    "t1 = zeros(10)\n",
    "t2 = zeros(10)\n",
    "\n",
    "for i = 1:10\n",
    "    global a1, a2, t1, t2\n",
    "    x = 9 + 0.1*i\n",
    "    y = 7 + 0.1*i\n",
    "   (t1[i], t2[i]) = ik(x, y, a1, a2)\n",
    "   x1, y1 = fk(t1[i], t2[i], a1, a2)\n",
    "   println((x-x1)^2 + (y-y1)*2)\n",
    "end\n",
    "p=plot(t1,t2)\n",
    "println(\"Done\")"
   ]
  },
  {
   "cell_type": "code",
   "execution_count": null,
   "id": "933ab9e3",
   "metadata": {
    "slideshow": {
     "slide_type": "subslide"
    }
   },
   "outputs": [],
   "source": [
    "display(p)"
   ]
  },
  {
   "cell_type": "code",
   "execution_count": null,
   "id": "b6ab5d21",
   "metadata": {
    "slideshow": {
     "slide_type": "slide"
    }
   },
   "outputs": [],
   "source": [
    "# Set the link lengths\n",
    "L0 = 8\n",
    "L1 = 5\n",
    "L2 = 10\n",
    "\n",
    "# Initialize the arrays\n",
    "xlist = zeros(0)\n",
    "ylist = zeros(0)\n",
    "\n",
    "# Loop over the two angles,\n",
    "#  stepping about 1.8 degrees each step\n",
    "\n",
    "for i = 1:100\n",
    "   for j = 1:100\n",
    "      th1 = 0 + 1.57*i/100.0\n",
    "      th2 = 0 + 1.57*j/100.0\n",
    "\n",
    "      a = -L1*cos(th1) - L0/2.0\n",
    "      b = L1*sin(th1)\n",
    "      c = L1*cos(th2) + L0/2.0\n",
    "      d = L1*sin(th2)\n",
    "\n",
    "      dx = c-a\n",
    "      dy = b-d\n",
    "      u = sqrt(dx*dx+dy*dy)\n",
    "      v = sqrt(L2*L2 - 0.25*u*u)\n",
    "\n",
    "      x = (a+c)/2.0 + v*dy/u\n",
    "      y = (b+d)/2.0 + v*dx/u\n",
    "      push!(xlist, x)\n",
    "      push!(ylist, y)\n",
    "  end\n",
    "end\n",
    "\n",
    "p = scatter(xlist,ylist,legend= false,markersize=5)\n",
    "println(\"Done\")"
   ]
  },
  {
   "cell_type": "code",
   "execution_count": null,
   "id": "a330afb1",
   "metadata": {
    "slideshow": {
     "slide_type": "subslide"
    }
   },
   "outputs": [],
   "source": [
    "display(p)"
   ]
  },
  {
   "cell_type": "markdown",
   "id": "1533b39f",
   "metadata": {
    "slideshow": {
     "slide_type": "slide"
    }
   },
   "source": [
    "Using implicit looping without the macro @"
   ]
  },
  {
   "cell_type": "code",
   "execution_count": null,
   "id": "e37fe8a3",
   "metadata": {
    "slideshow": {
     "slide_type": "fragment"
    }
   },
   "outputs": [],
   "source": [
    "using Plots\n",
    "\n",
    "# Set the link lengths\n",
    "L0 = 8\n",
    "L02 = L0/2.0\n",
    "L1 = 5\n",
    "L2 = 10\n",
    "\n",
    "t = LinRange(0, 1.57, 100)\n",
    "th1 = t' .* ones(100)\n",
    "th2 = ones(100)' .* t\n",
    "a = -L1 .* cos.(th1) .- L02\n",
    "b = L1 .* sin.(th1)\n",
    "c = L1 .* cos.(th2) .+ L02\n",
    "d = L1 .* sin.(th2)\n",
    "dx = c.-a\n",
    "dy = b.-d\n",
    "u = sqrt.((dx .* dx) .+ (dy .* dy))\n",
    "v = sqrt.((L2 .* L2) .- (0.25.*u.*u))\n",
    "x = (a.+c)./2.0 .+ (v.*dy./u)\n",
    "y = (b.+d)./2.0 .+ (v.*dx./u)\n",
    "p = scatter(x,y,legend= false,markersize=5,markercolor=\"blue\")\n",
    "println(\"Done\")"
   ]
  },
  {
   "cell_type": "code",
   "execution_count": null,
   "id": "55ea5488",
   "metadata": {
    "slideshow": {
     "slide_type": "subslide"
    }
   },
   "outputs": [],
   "source": [
    "display(p)"
   ]
  },
  {
   "cell_type": "markdown",
   "id": "a14de357",
   "metadata": {
    "slideshow": {
     "slide_type": "slide"
    }
   },
   "source": [
    "###  Interactive Code Examples\n",
    "\n",
    "This Notebook is here to provide some examples of simulations and interactive code.   \n",
    "\n",
    "The first cell imports the libraries.  First time use you will need to add the package.  The commented code gives an example for adding the Interact package."
   ]
  },
  {
   "cell_type": "markdown",
   "id": "a690834b",
   "metadata": {
    "slideshow": {
     "slide_type": "slide"
    }
   },
   "source": [
    "If you have a series of joint values, here is how you might compute the end-effector location and list the values."
   ]
  },
  {
   "cell_type": "code",
   "execution_count": null,
   "id": "db1cbfa0",
   "metadata": {
    "slideshow": {
     "slide_type": "fragment"
    }
   },
   "outputs": [],
   "source": [
    "a1, a2 = 10, 10\n",
    "θ1 = range(π/4, π/3, length = 10)\n",
    "θ2 = range(π/6, π/4, length = 10)\n",
    "for i in 1:10\n",
    "    x = a2*cos(θ1[i]+θ2[i]) + a1*cos(θ1[i])\n",
    "    y = a2*sin(θ1[i]+θ2[i]) + a1*sin(θ1[i])\n",
    "    println(\"x = \", x, \", y = \", y)\n",
    "end"
   ]
  },
  {
   "cell_type": "markdown",
   "id": "1d681834",
   "metadata": {
    "slideshow": {
     "slide_type": "slide"
    }
   },
   "source": [
    "Normally we want to provide $(x,y)$ location data and the compute the joint values.   So the inverse kinematics is first.  In this next example we will use the implicit loop notation (the dot).  "
   ]
  },
  {
   "cell_type": "code",
   "execution_count": null,
   "id": "5667a0ba",
   "metadata": {
    "slideshow": {
     "slide_type": "fragment"
    }
   },
   "outputs": [],
   "source": [
    "N = 50\n",
    "t = range(1, 5, length = N)\n",
    "x =  t .+ 1.0\n",
    "y = 2 .* t .- 1.0\n",
    "p=plot(x,y, title=\"Desired Path\", aspect_ratio = :equal, legend=false)\n",
    "println(\"Done\")"
   ]
  },
  {
   "cell_type": "code",
   "execution_count": null,
   "id": "ea7088b6",
   "metadata": {
    "slideshow": {
     "slide_type": "subslide"
    }
   },
   "outputs": [],
   "source": [
    "display(p)"
   ]
  },
  {
   "cell_type": "markdown",
   "id": "5454d400",
   "metadata": {
    "slideshow": {
     "slide_type": "slide"
    }
   },
   "source": [
    "Taking these input $(x,y)$ values, we can plug into the IK and obtain the values for $\\theta_1$, $\\theta_2$."
   ]
  },
  {
   "cell_type": "code",
   "execution_count": null,
   "id": "cea77054",
   "metadata": {
    "slideshow": {
     "slide_type": "fragment"
    }
   },
   "outputs": [],
   "source": [
    "a1,a2 = 10.0,10.0\n",
    "d =  ((x.*x) .+ (y.*y) .- (a1.*a1) .- (a2.*a2))/(2.0 .* (a1.*a2))\n",
    "θ2 = atan.(-sqrt.(1.0 .- (d.*d)),d)\n",
    "θ1 = atan.(y,x) - atan.(a2.* sin.(θ2), a1 .+ a2.*cos.(θ2))\n",
    "p = plot(θ1,θ2, title=\"Plot of θ1, θ2\", aspect_ratio = :equal, legend = false)\n",
    "println(\"Done\")"
   ]
  },
  {
   "cell_type": "code",
   "execution_count": null,
   "id": "fa6df09c",
   "metadata": {
    "slideshow": {
     "slide_type": "subslide"
    }
   },
   "outputs": [],
   "source": [
    "display(p)"
   ]
  },
  {
   "cell_type": "markdown",
   "id": "6ea91ac4",
   "metadata": {
    "slideshow": {
     "slide_type": "slide"
    }
   },
   "source": [
    "The obvious question, is this correct?  An easy way to figure this out is to plug those values into the forward kinematics and plot the results."
   ]
  },
  {
   "cell_type": "code",
   "execution_count": null,
   "id": "d3a926ac",
   "metadata": {
    "slideshow": {
     "slide_type": "fragment"
    }
   },
   "outputs": [],
   "source": [
    "x1 = a2.*cos.(θ1 .+ θ2) .+ a1.*cos.(θ1)\n",
    "y1 = a2.*sin.(θ1 .+ θ2) .+ a1.*sin.(θ1)\n",
    "p = plot(x1,y1, title = \"Checking Path\", aspect_ratio = :equal, legend=false)\n",
    "# if you want to overlap the plots\n",
    "# plot!(x,y)\n",
    "println(\"Done\")"
   ]
  },
  {
   "cell_type": "code",
   "execution_count": null,
   "id": "9125b1e1",
   "metadata": {
    "slideshow": {
     "slide_type": "subslide"
    }
   },
   "outputs": [],
   "source": [
    "dislplay(p)"
   ]
  },
  {
   "cell_type": "markdown",
   "id": "3ccaa095",
   "metadata": {
    "slideshow": {
     "slide_type": "slide"
    }
   },
   "source": [
    "It can be helpful to visualize the dynamics of the manipulator.  The following example is Julia/Plots animation of the two link manipulator endpoints.   An animation needs a delay (the sleep function) and you need this clear output method to replot over the previous plot."
   ]
  },
  {
   "cell_type": "code",
   "execution_count": null,
   "id": "c97aeaba",
   "metadata": {
    "slideshow": {
     "slide_type": "subslide"
    }
   },
   "outputs": [],
   "source": [
    "for i = 1:N\n",
    "    IJulia.clear_output(true)\n",
    "    p = scatter([x[i]],[y[i]], xlim = (0,10), ylim = (0,10), aspect_ratio = :equal, legend = false, color = :green)\n",
    "    display(p)\n",
    "    sleep(0.05)\n",
    "end"
   ]
  },
  {
   "cell_type": "markdown",
   "id": "cbc00098",
   "metadata": {
    "slideshow": {
     "slide_type": "slide"
    }
   },
   "source": [
    "If you want to leave the path (the trace), you can try the following variant."
   ]
  },
  {
   "cell_type": "code",
   "execution_count": null,
   "id": "f2dbd53b",
   "metadata": {
    "slideshow": {
     "slide_type": "subslide"
    }
   },
   "outputs": [],
   "source": [
    "scatter([x[1]],[y[1]], xlim = (0,10), ylim = (0,10), aspect_ratio = :equal, legend = false, color = :green)\n",
    "for i = 2:N\n",
    "    IJulia.clear_output(true)\n",
    "    xl = x[1:i]\n",
    "    yl = y[1:i]\n",
    "    p = scatter(xl,yl, xlim = (0,10), ylim = (0,10), aspect_ratio = :equal, legend = false, color = :green)\n",
    "    display(p)\n",
    "    sleep(0.05)\n",
    "end"
   ]
  },
  {
   "cell_type": "markdown",
   "id": "9284db96",
   "metadata": {
    "slideshow": {
     "slide_type": "slide"
    }
   },
   "source": [
    "Just to play with the graphics, we change the trace.  plot! and scatter! are different functions than plot and scatter.  The \"!\" means this version will add to the previous plot.   Otherwise a new plot is created."
   ]
  },
  {
   "cell_type": "code",
   "execution_count": null,
   "id": "814d4267",
   "metadata": {
    "slideshow": {
     "slide_type": "subslide"
    }
   },
   "outputs": [],
   "source": [
    "scatter([x[1]],[y[1]], xlim = (0,10), ylim = (0,10), aspect_ratio = :equal, legend = false, color = :green)\n",
    "for i = 2:N\n",
    "    IJulia.clear_output(true)\n",
    "    xl = x[1:i]\n",
    "    yl = y[1:i]\n",
    "    p = scatter([x[i]],[y[i]], xlim = (0,10), ylim = (0,10), aspect_ratio = :equal, legend = false, color = :green)\n",
    "    plot!(xl,yl, color=:red)\n",
    "    display(p)\n",
    "    sleep(0.05)\n",
    "end"
   ]
  },
  {
   "cell_type": "markdown",
   "id": "691d66c0",
   "metadata": {
    "slideshow": {
     "slide_type": "slide"
    }
   },
   "source": [
    "An actual animation should in include the link arms."
   ]
  },
  {
   "cell_type": "code",
   "execution_count": null,
   "id": "6e49efb0",
   "metadata": {
    "slideshow": {
     "slide_type": "subslide"
    }
   },
   "outputs": [],
   "source": [
    "xmid = a1 .* cos.(θ1)\n",
    "ymid = a1 .* sin.(θ1)\n",
    "scatter([x[1]],[y[1]], xlim = (-10,10), ylim = (0,10), aspect_ratio = :equal, legend = false, color = :blue)\n",
    "for i = 2:N\n",
    "    IJulia.clear_output(true)\n",
    "    p = scatter([x[i]],[y[i]], xlim = (-10,10), ylim = (0,10), aspect_ratio = :equal, legend = false, color = :blue)\n",
    "    xl = [0, xmid[i], x[i]]\n",
    "    yl = [0, ymid[i], y[i]]\n",
    "    plot!(xl,yl, color=:blue,  linewidth=8)\n",
    "    scatter!(xl, yl, color=:red, markershape=:circle)\n",
    "    display(p)\n",
    "    sleep(0.05)\n",
    "end"
   ]
  },
  {
   "cell_type": "markdown",
   "id": "30a66366",
   "metadata": {
    "slideshow": {
     "slide_type": "slide"
    }
   },
   "source": [
    "The Interact package connects up some Javascript widgets in the Notebook with Julia.   It supports a variety of widgets and manages the callbacks for you.   This is not a tutorial on the Interact package.  There are some macros available that make the interact package easy to use.  This example sets up two slider bars which are used to set the $\\theta_1$, $\\theta_2$ values.   "
   ]
  },
  {
   "cell_type": "markdown",
   "id": "93e8bb9f",
   "metadata": {
    "slideshow": {
     "slide_type": "fragment"
    }
   },
   "source": [
    "The @manipulate macro sets up the event loop and connects the slider values to values that can be used in the event loop."
   ]
  },
  {
   "cell_type": "code",
   "execution_count": null,
   "id": "2b3b8d4e",
   "metadata": {
    "slideshow": {
     "slide_type": "fragment"
    }
   },
   "outputs": [],
   "source": [
    "function arm(θ1,θ2)\n",
    "    x1 = cos(θ1)\n",
    "    y1 = sin(θ1)\n",
    "    x2 = x1 + cos(θ1+θ2)\n",
    "    y2 = y1 + sin(θ1+θ2)\n",
    "    return x1,x2,y1,y2\n",
    "end"
   ]
  },
  {
   "cell_type": "code",
   "execution_count": null,
   "id": "276e2023",
   "metadata": {
    "slideshow": {
     "slide_type": "slide"
    }
   },
   "outputs": [],
   "source": [
    "s1 = slider(-π:0.05:π ,value = 0.0, label=\"Theta1\")\n",
    "s2 = slider(-π:0.05:π, value = 0.0, label=\"Theta2\")\n",
    "\n",
    "mp = @manipulate for θ1 in s1, θ2 in s2\n",
    "    x1,x2,y1,y2 = arm(θ1,θ2)\n",
    "    xl = [0,x1,x2]\n",
    "    yl = [0,y1,y2]\n",
    "    plot(xl,yl, legend=false,xlim=(-2,2),ylim=(-2,2), aspect_ratio = :equal, linewidth=8)\n",
    "    scatter!(xl, yl, color=:red, markershape=:circle)\n",
    "end"
   ]
  },
  {
   "cell_type": "markdown",
   "id": "653b5b84",
   "metadata": {
    "slideshow": {
     "slide_type": "slide"
    }
   },
   "source": [
    "To demonstrate how this can be used in 3D, here is the manipulator from the last homework (#23).  "
   ]
  },
  {
   "cell_type": "code",
   "execution_count": null,
   "id": "48702ad9",
   "metadata": {
    "slideshow": {
     "slide_type": "fragment"
    }
   },
   "outputs": [],
   "source": [
    "function arm3(d, a1, a2, θ1)\n",
    "    x1 = 0\n",
    "    y1 = 0\n",
    "    z1 = d\n",
    "    x2 = a1*cos(θ1)\n",
    "    y2 = a1*sin(θ1)\n",
    "    z2 = z1\n",
    "    x3 = x2\n",
    "    y3 = y2\n",
    "    z3 = z1 - a2\n",
    "    j = [x1,y1,z1,x2,y2,z2,x3,y3,z3]\n",
    "    return j\n",
    "end"
   ]
  },
  {
   "cell_type": "markdown",
   "id": "93fe401e",
   "metadata": {
    "slideshow": {
     "slide_type": "slide"
    }
   },
   "source": [
    "This gives an example of plots in 3D."
   ]
  },
  {
   "cell_type": "code",
   "execution_count": null,
   "id": "9384bda4",
   "metadata": {
    "slideshow": {
     "slide_type": "fragment"
    }
   },
   "outputs": [],
   "source": [
    "s1 = slider(0.0:0.01:π/2 ,value = 0.0, label=\"Theta1\")\n",
    "s2 = slider(1.0:0.01:5, value = 2.0, label=\"a1\")\n",
    "s3 = slider(1.0:0.01:5, value = 3.0, label=\"a2\")\n",
    "d = 5\n",
    "\n",
    "mp = @manipulate for θ1 in s1, a1 in s2, a2 in s3\n",
    "    j = arm3(d,a1,a2,θ1)\n",
    "    p1 = [0, j[1], j[4], j[7]]\n",
    "    p2 = [0,  j[2], j[5], j[8]]\n",
    "    p3 = [0, j[3], j[6], j[9]]\n",
    "    plot(p1,p2,p3, xlim=(0,6),ylim=(0,6),zlim=(0,6),linewidth=10,legend=false)\n",
    "end"
   ]
  },
  {
   "cell_type": "markdown",
   "id": "3f7780d4",
   "metadata": {
    "slideshow": {
     "slide_type": "slide"
    }
   },
   "source": [
    "A simple \"Etch-a-Sketch\" type demo:"
   ]
  },
  {
   "cell_type": "code",
   "execution_count": null,
   "id": "2cc1297f",
   "metadata": {
    "slideshow": {
     "slide_type": "fragment"
    }
   },
   "outputs": [],
   "source": [
    "s1 = slider(-1:0.1:1, value = 0.0, label=\"x\")\n",
    "s2 = slider(-1:0.1:1, value = 0.0, label=\"y\")\n",
    "plot(legend=false,xlim=(-1.5,1.5),ylim=(-1.5,1.5))\n",
    "\n",
    "mp = @manipulate for x in s1, y in s2\n",
    "    l1 = [x]\n",
    "    l2 = [y]\n",
    "    plot!(l1,l2, markershape=:circle, markercolor=:blue)\n",
    "end"
   ]
  },
  {
   "cell_type": "markdown",
   "id": "79bc7100",
   "metadata": {
    "slideshow": {
     "slide_type": "slide"
    }
   },
   "source": [
    "An interactive plotting tool:"
   ]
  },
  {
   "cell_type": "code",
   "execution_count": null,
   "id": "86649a3d",
   "metadata": {
    "slideshow": {
     "slide_type": "fragment"
    }
   },
   "outputs": [],
   "source": [
    "x = range(0, 10, length=100)\n",
    "y = sin.(x) .+ 1.5\n",
    "\n",
    "s1 = slider(1:100, value = 1, label=\"time\")\n",
    "\n",
    "scatter(legend=false,xlim=(0,10),ylim=(0,3))\n",
    "\n",
    "mp = @manipulate for t in s1\n",
    "    i = trunc(Int,t)\n",
    "    l1 = x[1:i]\n",
    "    l2 = y[1:i]\n",
    "    scatter!(l1,l2, markershape=:circle, markercolor=:blue)\n",
    "end"
   ]
  },
  {
   "cell_type": "code",
   "execution_count": null,
   "id": "768c047a",
   "metadata": {
    "slideshow": {
     "slide_type": "slide"
    }
   },
   "outputs": [],
   "source": [
    "x = y = 0:0.1:30\n",
    "\n",
    "freqs = OrderedDict(zip([\"pi/4\", \"π/2\", \"3π/4\", \"π\"], [π/4, π/2, 3π/4, π]))\n",
    "\n",
    "mp = @manipulate for freq1 in freqs, freq2 in slider(0.01:0.1:4π; label=\"freq2\")\n",
    "    y = @. sin(freq1*x) * sin(freq2*x)\n",
    "    plot(x, y)\n",
    "end"
   ]
  },
  {
   "cell_type": "markdown",
   "id": "373845a4",
   "metadata": {
    "slideshow": {
     "slide_type": "slide"
    }
   },
   "source": [
    "An example showing how to clear a plot."
   ]
  },
  {
   "cell_type": "code",
   "execution_count": null,
   "id": "01bab526",
   "metadata": {
    "slideshow": {
     "slide_type": "fragment"
    }
   },
   "outputs": [],
   "source": [
    "x = range(0, 10, length=100)\n",
    "y = sin.(x) .+ 1.5\n",
    "\n",
    "s1 = slider(1:100, value = 1, label=\"Time\")\n",
    "s2 = OrderedDict(zip([\"Plot\", \"Clear\"], [1, 0]))\n",
    "\n",
    "scatter(legend=false,xlim=(0,10),ylim=(0,3))\n",
    "\n",
    "mp = @manipulate for t in s1, Select in s2\n",
    "    i = trunc(Int,t)\n",
    "    if Select == 0\n",
    "        scatter(legend=false,xlim=(0,10),ylim=(0,3))\n",
    "    else\n",
    "        l1 = x[1:i]\n",
    "        l2 = y[1:i]\n",
    "        scatter!(l1,l2, markershape=:circle, markercolor=:blue)\n",
    "    end\n",
    "end"
   ]
  },
  {
   "cell_type": "markdown",
   "id": "0eeb0a83",
   "metadata": {
    "slideshow": {
     "slide_type": "slide"
    }
   },
   "source": [
    "### One can have a few issues using only position control"
   ]
  },
  {
   "cell_type": "code",
   "execution_count": null,
   "id": "ced2d29c",
   "metadata": {
    "slideshow": {
     "slide_type": "fragment"
    }
   },
   "outputs": [],
   "source": [
    "using Plots\n",
    "N = 100\n",
    "t = range(0, 2*π, length = N)\n",
    "x = @. 5 * cos(t) + 10.0\n",
    "y = @. 5 * sin(t) + 8.0\n",
    "p1 = plot(x,y, aspect_ratio=:equal, title=\"Requested Path\")\n",
    "\n",
    "a1,a2 = 15.0,15.0\n",
    "d =  @. ((x*x) + (y*y) - (a1*a1) - (a2*a2))/(2.0 * (a1*a2))\n",
    "t2 = @. atan(-sqrt(1.0 - (d*d)),d)\n",
    "t1 = @. atan(y,x) - atan(a2*sin(t2), a1 + a2*cos(t2))\n",
    "p2 = plot(t1,t2,aspect_ratio=:equal, title=\"Joint Angles\")\n",
    "\n",
    "x1 = @. a2*cos(t1+t2) + a1*cos(t1)\n",
    "y1 = @. a2*sin(t1+t2) + a1*sin(t1)\n",
    "p3 = plot(x1,y1,aspect_ratio=:equal, title=\"Computed Path\")\n",
    "\n",
    "x2 = @. a2*cos(t1+t2) + a1*cos(t1)\n",
    "y2 = @. a2*sin(t1+t2) + a1*sin(t1)\n",
    "p4 = scatter(x2,y2,aspect_ratio=:equal, title=\"Points\")\n",
    "println(\"Plots generated\")"
   ]
  },
  {
   "cell_type": "code",
   "execution_count": null,
   "id": "6607aa9e",
   "metadata": {
    "slideshow": {
     "slide_type": "slide"
    }
   },
   "outputs": [],
   "source": [
    "plot(p1,p2,p3,p4, layout = (2,2), legend = false)"
   ]
  },
  {
   "cell_type": "markdown",
   "id": "2db0da0e",
   "metadata": {
    "slideshow": {
     "slide_type": "slide"
    }
   },
   "source": [
    "This is what will actually happen...  \n",
    "\n",
    "L is the number of total points around the circle.   N is the number of computed postion points.\n",
    "M is the points that the controller will set (using a simple servo stepping approach)."
   ]
  },
  {
   "cell_type": "code",
   "execution_count": null,
   "id": "2543666d",
   "metadata": {
    "slideshow": {
     "slide_type": "fragment"
    }
   },
   "outputs": [],
   "source": [
    "using Plots\n",
    "L = 500\n",
    "N = 20\n",
    "M = floor(Int64, L/N)\n",
    "t = range(0, 2*π, length = N)\n",
    "x = @. 5 * cos(t) + 10.0\n",
    "y = @. 5 * sin(t) + 8.0\n",
    "p1 = scatter(x,y, aspect_ratio=:equal, title=\"Requested Path\", ms = 1)\n",
    "\n",
    "a1,a2 = 15.0,15.0\n",
    "d =  @. ((x*x) + (y*y) - (a1*a1) - (a2*a2))/(2.0 * (a1*a2))\n",
    "t2 = @. atan(-sqrt(1.0 - (d*d)),d)\n",
    "t1 = @. atan(y,x) - atan(a2*sin(t2), a1 + a2*cos(t2))\n",
    "p2 = scatter(t1,t2,aspect_ratio=:equal, title=\"Joint Angles\", ms = 1)\n",
    "\n",
    "x1 = @. a2*cos(t1+t2) + a1*cos(t1)\n",
    "y1 = @. a2*sin(t1+t2) + a1*sin(t1)\n",
    "p3 = scatter(x1,y1,aspect_ratio=:equal, title=\"Computed Path\", ms = 1)\n",
    "\n",
    "x2 = @. a2*cos(t1+t2) + a1*cos(t1)\n",
    "y2 = @. a2*sin(t1+t2) + a1*sin(t1)\n",
    "x3 = []\n",
    "y3 = []\n",
    "for i in 1:N-1\n",
    "    θ1 = range(t1[i], t1[i+1],length=M)\n",
    "    θ2 = range(t2[i], t2[i+1],length=M)\n",
    "    for j in 1:M\n",
    "        tx = a2*cos(θ1[j]+t2[i]) + a1*cos(θ1[j])\n",
    "        ty = a2*sin(θ1[j]+t2[i]) + a1*sin(θ1[j])\n",
    "        push!(x3,tx)\n",
    "        push!(y3,ty)\n",
    "    end\n",
    "    for j in 1:M\n",
    "        tx = a2*cos(t1[i+1]+θ2[j]) + a1*cos(t1[i+1])\n",
    "        ty = a2*sin(t1[i+1]+θ2[j]) + a1*sin(t1[i+1])\n",
    "        push!(x3,tx)\n",
    "        push!(y3,ty)        \n",
    "    end\n",
    "end      \n",
    "p4 = plot(x3,y3,aspect_ratio=:equal, title=\"Traversal\", ms = 1)\n",
    "println(\"Plots generated\")"
   ]
  },
  {
   "cell_type": "code",
   "execution_count": null,
   "id": "6d38696e",
   "metadata": {
    "slideshow": {
     "slide_type": "slide"
    }
   },
   "outputs": [],
   "source": [
    "plot(p1,p2,p3,p4, layout = (2,2), legend = false)"
   ]
  },
  {
   "cell_type": "markdown",
   "id": "57943680",
   "metadata": {
    "slideshow": {
     "slide_type": "slide"
    }
   },
   "source": [
    "## Differential Drive\n",
    "\n",
    "Computing trajectories of vehicles"
   ]
  },
  {
   "cell_type": "markdown",
   "id": "9b7a533e",
   "metadata": {
    "slideshow": {
     "slide_type": "fragment"
    }
   },
   "source": [
    "### Problems with Differential Drive Simulations and computations\n",
    "\n",
    "Problems:\n",
    "\n",
    "1.  What if you can’t integrate the function to get $\\theta$?\n",
    "\n",
    "2.  With $\\theta$ determined, what if you can’t integrate the $x$ and\n",
    "    $y$ formulas?\n",
    "\n",
    "Example: Let $\\dot{\\phi_1} = e^{-t^2}$ and $\\dot{\\phi_2} = t$\n",
    "$$\\theta(t) = \\theta(0) + \\int_0^t \\frac{r}{2L} \\left(e^{-\\tau^2}-\\tau\\right)d\\tau = ???$$\n",
    "Now what does one do? There is another problem as well."
   ]
  },
  {
   "cell_type": "markdown",
   "id": "a50f6c6a",
   "metadata": {
    "slideshow": {
     "slide_type": "slide"
    }
   },
   "source": [
    "### Simulation of motion - velocity control - Example\n",
    "\n",
    "Take an example:\n",
    "$$\\displaystyle \\left(\\frac{dx}{dt}, \\frac{dy}{dt}\\right) =\n",
    "\\left\\{\n",
    "\\begin{array}{ll}\n",
    "(0.5t, 0.0),  & 0 \\leq t < 2, \\\\[3mm]\n",
    "(0.25t, 0.65t),  & 2 \\leq t < 5,\n",
    "\\end{array}\n",
    "\\right.$$\n",
    "\n",
    "How should we do this?"
   ]
  },
  {
   "cell_type": "markdown",
   "id": "5f1942d7",
   "metadata": {
    "slideshow": {
     "slide_type": "fragment"
    }
   },
   "source": [
    "### Simulation of motion - velocity control\n",
    "\n",
    "The motion equations:\n",
    "$$\\displaystyle \\frac{dx}{dt} = f(t), \\quad\\quad \\displaystyle \\frac{dy}{dt} = g(t)$$\n",
    "where $f$ and $g$ are the input/control velocities.\n",
    "\n",
    "What we do in the simulation is a discrete approximation of the world -\n",
    "the digital world is a discrete sampled world."
   ]
  },
  {
   "cell_type": "markdown",
   "id": "2a1b2cba",
   "metadata": {
    "slideshow": {
     "slide_type": "slide"
    }
   },
   "source": [
    "### Simulation of motion - velocity control\n",
    "\n",
    "Arrays of velocities, $[f_1, f_2, f_3, ...]$ and $[g_1,g_2,g_3, ...]$.\n",
    "\n",
    "Using the approximation of a derivative:\n",
    "$$\\displaystyle \\frac{dx}{dt} \\approx \\frac{x_{i+1} - x_i}{\\Delta t}$$\n",
    "where $\\Delta t$ is the time between samples.\n",
    "\n",
    "We can express the formula for the change in distance based on this\n",
    "velocity update:\n",
    "$$x_{i+1} = x_i + f_i \\Delta t  , \\quad\\quad y_{i+1} = y_i + g_i \\Delta t .$$\n",
    "Now the transition from $x_i$ to $x_{i+1}$ follows the physics more\n",
    "closely (assuming you have realistic velocities)."
   ]
  },
  {
   "cell_type": "markdown",
   "id": "5fb83dd6",
   "metadata": {
    "slideshow": {
     "slide_type": "fragment"
    }
   },
   "source": [
    "### Discrete approximation\n",
    "\n",
    "What if you don’t have $\\phi(t)$ and are measuring the wheel angular\n",
    "velocity during runtime, AND it is clearly not constant?  \n",
    "We will use Euler’s method for solving the differential equations. Let\n",
    "the time between measurements be denoted by $\\Delta t$. The discretized\n",
    "variables are $$t_k \\equiv k\\Delta t, \\quad t_{k+1} = (k+1)\\Delta t$$\n",
    "$$x_k \\equiv x(t_k),  y_k \\equiv y(t_k)$$\n",
    "$$\\omega_{1, k}\\equiv \\dot{\\phi}_{1}(t_k),\n",
    "\\omega_{2, k}\\equiv \\dot{\\phi}_{2}(t_k)$$"
   ]
  },
  {
   "cell_type": "markdown",
   "id": "ddf5b805",
   "metadata": {
    "slideshow": {
     "slide_type": "slide"
    }
   },
   "source": [
    "### Discrete approximation\n",
    "\n",
    "Recall that if $x$ is position then $\\dot{x}$ is velocity (and\n",
    "$\\ddot{x}$ is acceleration).  \n",
    "One may approximate a derivative by\n",
    "$$\\dot{x} \\approx \\frac{x(t+\\Delta t) - x(t)}{\\Delta t}$$ Take a time\n",
    "step of $\\Delta t$ (meaning $t_{k+1} = t_k + \\Delta t$), Euler’s\n",
    "(“Oil-ler’s”) method is\n",
    "$$x(t_{k+1}) = x(t_k) + (\\Delta t)x'(t_k) \\quad \\mbox{and}\n",
    "\\quad y(t_{k+1}) = y(t_k) + (\\Delta t)y'(t_k).$$ And so we can write our\n",
    "differential equations as difference equations..."
   ]
  },
  {
   "cell_type": "markdown",
   "id": "cacd8424",
   "metadata": {
    "slideshow": {
     "slide_type": "fragment"
    }
   },
   "source": [
    "### Discrete approximation\n",
    "\n",
    "$$\\begin{array}{l}\n",
    "\\displaystyle \\frac{x(t+\\Delta t) - x(t)}{\\Delta t}\\approx \\dot{x} = \\frac{r}{2} (\\dot{\\phi_1}+\\dot{\\phi_2})\\cos(\\theta) \\\\[5mm]\n",
    "\\displaystyle \\frac{y(t+\\Delta t) - y(t)}{\\Delta t}\\approx \\dot{y} = \\frac{r}{2} (\\dot{\\phi_1}+\\dot{\\phi_2})\\sin(\\theta) \\\\[5mm]\n",
    "\\displaystyle \\frac{\\theta (t+\\Delta t) - \\theta (t)}{\\Delta t}\\approx \\dot{\\theta} = \\frac{r}{2L} (\\dot{\\phi_1}-\\dot{\\phi_2})\n",
    "\\end{array}$$ "
   ]
  },
  {
   "cell_type": "markdown",
   "id": "e6c233bb",
   "metadata": {
    "slideshow": {
     "slide_type": "subslide"
    }
   },
   "source": [
    "Algebra: $$\\begin{array}{l}\n",
    " x(t+\\Delta t) \\approx x(t) +\\frac{r\\Delta t}{2} (\\dot{\\phi_1}+\\dot{\\phi_2})\\cos(\\theta) \\\\[5mm]\n",
    " y(t+\\Delta t) \\approx y(t) +\\frac{r\\Delta t}{2} (\\dot{\\phi_1}+\\dot{\\phi_2})\\sin(\\theta) \\\\[5mm]\n",
    "\\theta (t+\\Delta t) \\approx \\theta (t) +\\frac{r\\Delta t}{2L} (\\dot{\\phi_1}-\\dot{\\phi_2})\n",
    "\\end{array}$$"
   ]
  },
  {
   "cell_type": "markdown",
   "id": "e7e3cb45",
   "metadata": {
    "slideshow": {
     "slide_type": "slide"
    }
   },
   "source": [
    "### Discrete Differential Drive Model\n",
    "\n",
    "Using the discrete (sample) variables, $x(t) \\to x_k$, etc, we can\n",
    "rewrite the expression in terms of the discrete variables. Given\n",
    "starting configuration and wheel velocity measurements, we have:\n",
    "$$\\begin{array}{l}\n",
    " x_{k+1} = x_k + \\frac{r\\Delta t}{2} (\\omega_{1, k}+\\omega_{2, k})\\cos(\\theta_k) \\\\[5mm]\n",
    "y_{k+1} = y_k + \\frac{r\\Delta t}{2} (\\omega_{1, k}+\\omega_{2, k})\\sin(\\theta_k) \\\\[5mm]\n",
    "\\theta_{k+1} = \\theta_k + \\frac{r\\Delta t}{2L} (\\omega_{1, k}-\\omega_{2, k})\n",
    "\\end{array}$$"
   ]
  },
  {
   "cell_type": "markdown",
   "id": "fd52c6ae",
   "metadata": {
    "slideshow": {
     "slide_type": "slide"
    }
   },
   "source": [
    "### How do we do this?"
   ]
  },
  {
   "cell_type": "code",
   "execution_count": null,
   "id": "f54a8337",
   "metadata": {
    "slideshow": {
     "slide_type": "fragment"
    }
   },
   "outputs": [],
   "source": [
    "function DDstep(θ, r, L, ϕ1dot, ϕ2dot, dt)\n",
    "    δx = (r*dt/2)*(ϕ1dot+ϕ2dot)*cos(θ)\n",
    "    δy = (r*dt/2)*(ϕ1dot+ϕ2dot)*sin(θ)\n",
    "    δθ = (r*dt/(2*L))*(ϕ1dot-ϕ2dot)\n",
    "    return δx, δy, δθ\n",
    "end"
   ]
  },
  {
   "cell_type": "markdown",
   "id": "1a0b6d46",
   "metadata": {
    "slideshow": {
     "slide_type": "fragment"
    }
   },
   "source": [
    "Variable setup for the simulation."
   ]
  },
  {
   "cell_type": "code",
   "execution_count": null,
   "id": "c36ca9ed",
   "metadata": {
    "slideshow": {
     "slide_type": "slide"
    }
   },
   "outputs": [],
   "source": [
    "using Plots\n",
    "r = 1\n",
    "L = 2\n",
    "N = 100\n",
    "t = range(0, 5, length = N)\n",
    "ω1 = 1.25 .+ cos.(t)\n",
    "ω2 = 1.0 .+ sin.(t)\n",
    "dt = 5/N\n",
    "x, y = 0, 0\n",
    "θ = 0"
   ]
  },
  {
   "cell_type": "code",
   "execution_count": null,
   "id": "2e8a6bd9",
   "metadata": {
    "slideshow": {
     "slide_type": "fragment"
    }
   },
   "outputs": [],
   "source": [
    "lx = zeros(N)\n",
    "ly = zeros(N)\n",
    "lθ = zeros(N)\n",
    "\n",
    "for i = 1:(N-1)\n",
    "    δx, δy, δθ = DDstep(lθ[i], r, L, ω1[i], ω2[i], dt)\n",
    "    lx[i+1] = lx[i] + δx\n",
    "    ly[i+1] = ly[i] + δy\n",
    "    lθ[i+1] = lθ[i] + δθ\n",
    "end\n",
    "p = scatter(lx,ly, xlim = (0,12), ylim = (-1,2.5), legend = false, color = :blue)\n",
    "println(\"Done\")"
   ]
  },
  {
   "cell_type": "code",
   "execution_count": null,
   "id": "fab44766",
   "metadata": {
    "slideshow": {
     "slide_type": "slide"
    }
   },
   "outputs": [],
   "source": [
    "display(p)"
   ]
  },
  {
   "cell_type": "markdown",
   "id": "318f4b82",
   "metadata": {
    "slideshow": {
     "slide_type": "slide"
    }
   },
   "source": [
    "The animation of the simulation loop"
   ]
  },
  {
   "cell_type": "code",
   "execution_count": null,
   "id": "19007ef1",
   "metadata": {
    "slideshow": {
     "slide_type": "slide"
    }
   },
   "outputs": [],
   "source": [
    "for i = 1:N\n",
    "    global x, y, θ\n",
    "    δx, δy, δθ = DDstep(θ, r, L, ω1[i], ω2[i], dt)\n",
    "    x = x + δx\n",
    "    y = y + δy\n",
    "    θ = θ + δθ\n",
    "    p = scatter([x],[y], xlim = (0,12), ylim = (-1,3), legend = false, color = :blue)\n",
    "    display(p)\n",
    "    sleep(0.2)\n",
    "    IJulia.clear_output(true)\n",
    "end"
   ]
  },
  {
   "cell_type": "markdown",
   "id": "eb1dafbf",
   "metadata": {
    "slideshow": {
     "slide_type": "fragment"
    }
   },
   "source": [
    "### Guidance\n",
    "\n",
    "Moving the robot ..."
   ]
  },
  {
   "cell_type": "markdown",
   "id": "d459ec04",
   "metadata": {
    "slideshow": {
     "slide_type": "slide"
    }
   },
   "source": [
    "### Differential Drive Model\n",
    "\n",
    "Recall the differential drive model $$\\begin{array}{l}\n",
    " \\dot{x} = \\frac{r}{2} (\\dot{\\phi_1}+\\dot{\\phi_2})\\cos(\\theta) \\\\[5mm]\n",
    "\\dot{y} = \\frac{r}{2} (\\dot{\\phi_1}+\\dot{\\phi_2})\\sin(\\theta) \\\\[5mm]\n",
    "\\dot{\\theta} = \\frac{r}{2L} (\\dot{\\phi_1}-\\dot{\\phi_2})\n",
    "\\end{array},$$\n",
    "\n",
    "How does one set the wheel speeds to obtain the desired motion in the\n",
    "plane?"
   ]
  },
  {
   "cell_type": "markdown",
   "id": "a4cf7b66",
   "metadata": {
    "slideshow": {
     "slide_type": "slide"
    }
   },
   "source": [
    "### Driving the Differential Drive Model\n",
    "\n",
    "Similarly how does one obtain desired motion with the discrete model:\n",
    "$$\\begin{array}{l}\n",
    " x_{k+1} = x_k + \\frac{r\\Delta t}{2} (\\omega_{1, k}+\\omega_{2, k})\\cos(\\theta_k) \\\\[5mm]\n",
    "y_{k+1} = y_k + \\frac{r\\Delta t}{2} (\\omega_{1, k}+\\omega_{2, k})\\sin(\\theta_k) \\\\[5mm]\n",
    "\\theta_{k+1} = \\theta_k + \\frac{r\\Delta t}{2L} (\\omega_{1, k}-\\omega_{2, k})\n",
    "\\end{array}$$"
   ]
  },
  {
   "cell_type": "markdown",
   "id": "63ac4753",
   "metadata": {
    "slideshow": {
     "slide_type": "slide"
    }
   },
   "source": [
    "### Background on Parametric Curves\n",
    "\n",
    "How does one follow a curve given in function form: $y=f(x)$. First, you\n",
    "need to write in parametric form: $x(t)$, $y(t)$. This is easily done by\n",
    "$$\\mbox{Let } x = t  \\quad \\to \\quad y = f(x) = f(t)$$ Example: convert\n",
    "$y=x^2$ to parametric\n",
    "$$\\mbox{Let } x = t  \\quad \\to \\quad y = x^2 = t^2$$ Note that there are\n",
    "an infinite number of choices:\n",
    "$$\\mbox{Let } x = ct  \\quad c\\mbox{~nonzero}\\quad \\to \\quad y = x^2 = c^2t^2$$\n",
    "$$\\mbox{Let } x = ce^t  \\quad c\\mbox{~nonzero}\\quad \\to \\quad y = x^2 = e^{2t}$$\n",
    "etc ..."
   ]
  },
  {
   "cell_type": "markdown",
   "id": "4c6bf94e",
   "metadata": {
    "slideshow": {
     "slide_type": "fragment"
    }
   },
   "source": [
    "### Functional vs Parametric form\n",
    "\n",
    "All the parametric forms provide the same curve, same shape, same\n",
    "geometry. They vary in the speed. Think of the function form tells you\n",
    "the shape - like the shape of a road. The parametric form gives you\n",
    "shape and velocity - includes how fast you drive the road."
   ]
  },
  {
   "cell_type": "markdown",
   "id": "73c0ffea",
   "metadata": {
    "slideshow": {
     "slide_type": "slide"
    }
   },
   "source": [
    "### Speed\n",
    "\n",
    "$x(t) = \\phi(t)$, $y(t) = \\psi(t)$ such that\n",
    "$$v(t) = \\sqrt{\\dot{\\phi}^2 + \\dot{\\psi}^2}$$\n",
    "\n",
    "Note the tangent vector\n",
    "$T = <\\dot{x} , \\dot{y} > = <\\dot{\\phi} , \\dot{\\psi} >$.\n",
    "\n",
    "The speed is given by\n",
    "$$\\| T \\|= \\|<\\dot{x} , \\dot{y} >\\|  = \\sqrt{\\dot{\\phi}^2 + \\dot{\\psi}^2 }$$\n",
    "where $\\| \\cdot \\|$ is the length or norm of the vector."
   ]
  },
  {
   "cell_type": "markdown",
   "id": "ff48eabe",
   "metadata": {
    "slideshow": {
     "slide_type": "slide"
    }
   },
   "source": [
    "Recall that the Inverse Kinematics are\n",
    "$$\n",
    "  \\dot{\\phi_1} =  \\frac{L\\dot{\\theta}}{r} \\pm \\frac{v}{r}, \\quad\n",
    "   \\dot{\\phi_2} = -\\frac{L\\dot{\\theta}}{r} \\pm \\frac{v}{r}\n",
    "$$\n",
    "which is\n",
    "$$\n",
    "  \\dot{\\phi_1} = \\displaystyle \\frac{L}{r}\\left( \\frac{\\dot{x}\\ddot{y} - \\dot{y}\\ddot{x}}{\\dot{x}^2 + \\dot{y}^2}\\right) \\pm \\frac{\\sqrt{\\dot{x}^2 + \\dot{y}^2}}{r}\n",
    "  $$\n",
    "  $$\n",
    "   \\dot{\\phi_2} = \\displaystyle -\\frac{L}{r}\\left(\\frac{\\dot{x}\\ddot{y} - \\dot{y}\\ddot{x}}{\\dot{x}^2 + \\dot{y}^2}\\right) \\pm \\frac{\\sqrt{\\dot{x}^2 + \\dot{y}^2}}{r}\n",
    "$$\n",
    "or written in terms of the curve parameters\n",
    "$$\n",
    " \\boxed{\n",
    "   \\begin{array}{l}\n",
    "   v = \\sqrt{\\dot{x}^2 + \\dot{y}^2}\\\\[3mm]\n",
    "   \\kappa =   \\displaystyle  \\frac{\\dot{x}\\ddot{y} - \\dot{y}\\ddot{x}}{v^3} = \\frac{\\dot{\\theta}}{v}\\\\[3mm]\n",
    "   \\dot{\\phi_1} = \\displaystyle \\frac{v}{r}\\left(\\kappa L + 1\\right) \\\\[3mm]\n",
    "   \\dot{\\phi_2} = \\displaystyle \\frac{v}{r}\\left(-\\kappa L + 1\\right)\n",
    "   \\end{array}}\n",
    "$$"
   ]
  },
  {
   "cell_type": "markdown",
   "id": "bca8e3b4",
   "metadata": {
    "slideshow": {
     "slide_type": "slide"
    }
   },
   "source": [
    "### Example Code"
   ]
  },
  {
   "cell_type": "code",
   "execution_count": null,
   "id": "fb5fae45",
   "metadata": {
    "slideshow": {
     "slide_type": "subslide"
    }
   },
   "outputs": [],
   "source": [
    "N=200\n",
    "t0 = 0.0\n",
    "t1 = 2.0\n",
    "t = range(t0,t1,length =N)\n",
    "y = zeros(N)\n",
    "x = t.*t\n",
    "y = t\n",
    "p = plot(x,y, legend=false)\n",
    "println(\"Done\")"
   ]
  },
  {
   "cell_type": "code",
   "execution_count": null,
   "id": "02efdaf3",
   "metadata": {
    "slideshow": {
     "slide_type": "subslide"
    }
   },
   "outputs": [],
   "source": [
    "display(p)"
   ]
  },
  {
   "cell_type": "markdown",
   "id": "0755d03e",
   "metadata": {
    "slideshow": {
     "slide_type": "slide"
    }
   },
   "source": [
    "### Example Code"
   ]
  },
  {
   "cell_type": "code",
   "execution_count": null,
   "id": "9a1afa1b",
   "metadata": {
    "slideshow": {
     "slide_type": "fragment"
    }
   },
   "outputs": [],
   "source": [
    "doty=ones(N)\n",
    "dotx=2.0*t\n",
    "ddoty=zeros(N)\n",
    "ddotx=2.0*ones(N)\n",
    "\n",
    "r = 1.0\n",
    "L = 4.0\n",
    "v = @. sqrt(dotx*dotx + doty*doty)\n",
    "kappa = @. (dotx*ddoty - doty*ddotx)/(v*v*v)\n",
    "dotphi1 = @. (v/r)*(kappa*L +1)\n",
    "dotphi2 = @. (v/r)*(-kappa*L+1)\n",
    "plot(t,dotphi1)\n",
    "p=plot!(t,dotphi2)\n",
    "println(\"Done\")"
   ]
  },
  {
   "cell_type": "code",
   "execution_count": null,
   "id": "1a7f17fd",
   "metadata": {
    "slideshow": {
     "slide_type": "subslide"
    }
   },
   "outputs": [],
   "source": [
    "display(p)"
   ]
  },
  {
   "cell_type": "markdown",
   "id": "055eca9c",
   "metadata": {
    "slideshow": {
     "slide_type": "slide"
    }
   },
   "source": [
    "### Example Code"
   ]
  },
  {
   "cell_type": "code",
   "execution_count": null,
   "id": "181c7095",
   "metadata": {
    "slideshow": {
     "slide_type": "fragment"
    }
   },
   "outputs": [],
   "source": [
    "xp = zeros(N)\n",
    "yp = zeros(N)\n",
    "th = zeros(N)\n",
    "th[1] = π/2\n",
    "Δt = (t1-t0)/N\n",
    "δ = r*Δt/2.0\n",
    "for i in 1:N-1\n",
    "    xp[i+1] = xp[i] + δ*(dotphi1[i]+dotphi2[i])*cos(th[i])\n",
    "    yp[i+1] = yp[i] + δ*(dotphi1[i]+dotphi2[i])*sin(th[i])\n",
    "    th[i+1] = th[i] + δ*(dotphi1[i]-dotphi2[i])/L\n",
    "end\n",
    "plot(x,y)\n",
    "p = scatter!(xp,yp)\n",
    "println(\"Done\")"
   ]
  },
  {
   "cell_type": "code",
   "execution_count": null,
   "id": "d4035fb9",
   "metadata": {
    "slideshow": {
     "slide_type": "subslide"
    }
   },
   "outputs": [],
   "source": [
    "display(p)"
   ]
  },
  {
   "cell_type": "markdown",
   "id": "3591b3c4",
   "metadata": {
    "slideshow": {
     "slide_type": "slide"
    }
   },
   "source": [
    "### Following a Path\n",
    "\n",
    "Given a discrete set of points, there are an infinite set of curves that\n",
    "interpolate the points.\n",
    "\n",
    "A very simple approach is to connect the points with line segments. This\n",
    "is known as linear interpolation.\n",
    "\n",
    "Drive straight, stop, rotate and drive straight again. Repeat.\n",
    "\n",
    "Problems with this?"
   ]
  },
  {
   "cell_type": "markdown",
   "id": "785cf943",
   "metadata": {
    "slideshow": {
     "slide_type": "fragment"
    }
   },
   "source": [
    "### Freeway Lane Change\n",
    "\n",
    "Although you may think that the drivers in your region are bad …\n",
    "\n",
    "This is nothing like having each one slam on their brakes on the\n",
    "freeway, stop, turn and drive to the new lane and stop.\n",
    "\n",
    "Then they turn and floor it back up to speed. Complete chaos.\n",
    "\n",
    "The linear interpolant approach does not work for any system that\n",
    "requires smooth fluid motion."
   ]
  },
  {
   "cell_type": "markdown",
   "id": "b6f4b52c",
   "metadata": {
    "slideshow": {
     "slide_type": "slide"
    }
   },
   "source": [
    "### Cubic Splines\n",
    "\n",
    "Assume that you have two points  \n",
    "$t_0: (x_0,y_0)$ and $t_1: (x_1, y_1)$.\n",
    "\n",
    "Also assume that you have the tangent (or the derivative) at each\n",
    "point:  \n",
    "$t_0: (\\dot{x}_0, \\dot{y}_0)$ and $t_1: (\\dot{x}_1, \\dot{y}_1)$."
   ]
  },
  {
   "cell_type": "markdown",
   "id": "659c402e",
   "metadata": {
    "slideshow": {
     "slide_type": "slide"
    }
   },
   "source": [
    "### Cubic Splines\n",
    "\n",
    "The cubic spline is\n",
    "$$x(t) = (1-z)x_0 + z x_1 + z(1-z)\\left[ a(1-z) +b z\\right]$$\n",
    "$$y(t) = (1-z)y_0 + z y_1 + z(1-z)\\left[ c(1-z) +d z\\right]$$ where\n",
    "$$a = \\dot{x}_0(t_1-t_0)-(x_1-x_0), \\quad b = -\\dot{x}_1(t_1-t_0)+(x_1-x_0)$$\n",
    "$$c = \\dot{y}_0(t_1-t_0)-(y_1-y_0), \\quad d = -\\dot{y}_1(t_1-t_0)+(y_1-y_0)$$\n",
    "$$z = \\displaystyle \\frac{t - t_0}{t_1-t_0}$$"
   ]
  },
  {
   "cell_type": "markdown",
   "id": "dbd7758e",
   "metadata": {
    "slideshow": {
     "slide_type": "slide"
    }
   },
   "source": [
    "### Cubic Spline Formulas for $t_0 \\leq t \\leq t_1$:\n",
    "\n",
    "$$\\displaystyle \\frac{dx}{dt} =  \\frac{dx}{dz}  \\frac{dz}{dt} = \\left\\{x_1 -x_0  + (1 - 2z)\\left[ a(1-z) +b z\\right] + z(1-z)\\left[ b-a\\right]\\right\\}\\dot{z}$$\n",
    "$$\\displaystyle \\frac{dy}{dt} =  \\frac{dy}{dz}  \\frac{dz}{dt} = \\left\\{y_1 -y_0  + (1 - 2z)\\left[ c(1-z) +d z\\right] + z(1-z)\\left[ d-c\\right]\\right\\}\\dot{z}$$\n",
    "$$\\displaystyle \\frac{d^2x}{dt^2} =  \\frac{d\\dot{x}}{dz}  \\frac{dz}{dt} = \\left\\{-2\\left[ a(1-z) +b z\\right] + 2(1-2z)\\left[ b-a\\right]\\right\\}\\dot{z}^2$$\n",
    "$$\\displaystyle \\frac{d^2y}{dt^2} =  \\frac{d\\dot{y}}{dz}  \\frac{dz}{dt} = \\left\\{-2\\left[ c(1-z) +d z\\right] + 2(1-2z)\\left[ d-c\\right]\\right\\}\\dot{z}^2$$\n",
    "$$z = \\displaystyle \\frac{t - t_0}{t_1-t_0}, \\quad  \\dot{z} = \\frac{1}{t_1-t_0}$$"
   ]
  },
  {
   "cell_type": "markdown",
   "id": "8bb75d24",
   "metadata": {
    "slideshow": {
     "slide_type": "slide"
    }
   },
   "source": [
    "### Example\n",
    "\n",
    "Assume you want the spline that connects the points (1,-1) with (3,4).\n",
    "Also assume that the derivative at (1,-1) is given by $<1,-3>$ and at\n",
    "(3,4) is given by $<0,2>$.\n",
    "\n",
    "We can take $t_0=0$ and $t_1 = 1$. This gives $z = t$, $\\dot{z} = 1$,\n",
    "$a = 1 - 2 = -1$, $b = 2$, $c = -8$, $d = 3$. This gives us the two\n",
    "splines for the parametric description of the curve:\n",
    "$$x(t) = (1-t) + 3t + t(1-t)[-1(1-t) + 2t] = -3 t^3+4 t^2+t+1$$\n",
    "$$y(t) = -(1-t) + 4t + t(1-t)[-8(1-t)+3t] = -11 t^3+19 t^2-3 t-1$$\n",
    "$$\\dot{x} = -9t^2+8t+1 \\quad,\\quad  \\dot{y} = -33t^2 +38t -3$$"
   ]
  },
  {
   "cell_type": "markdown",
   "id": "642e7e29",
   "metadata": {
    "slideshow": {
     "slide_type": "slide"
    }
   },
   "source": [
    "### Example\n",
    "\n",
    "$$\\begin{array}{l}\n",
    "v = \\sqrt{(-9t^2+8t+1)^2 + ( -33t^2 +38t -3)^2}\\\\[3mm]\n",
    "\\kappa =   \\displaystyle  \\frac{(-9t^2+8t+1)( -66t+38) - ( -33t^2 +38t -3)( -18t+8)}{v^3}\\\\[3mm]\n",
    "\\dot{\\phi_1} = \\displaystyle \\frac{v}{r}\\left(\\kappa L \\pm 1\\right) \\\\[3mm]\n",
    "\\dot{\\phi_2} = \\displaystyle \\frac{v}{r}\\left(-\\kappa L \\pm 1\\right)\n",
    "\\end{array}$$"
   ]
  },
  {
   "cell_type": "markdown",
   "id": "526c50c2",
   "metadata": {
    "slideshow": {
     "slide_type": "slide"
    }
   },
   "source": [
    "### Spline Example"
   ]
  },
  {
   "cell_type": "code",
   "execution_count": null,
   "id": "0a8def47",
   "metadata": {
    "slideshow": {
     "slide_type": "fragment"
    }
   },
   "outputs": [],
   "source": [
    "t0, t1 = 0, 1\n",
    "x0, y0 = 1, -1\n",
    "x1, y1 = 3, 4\n",
    "xd0 , yd0 = 1, -3\n",
    "xd1 = 0\n",
    "yd1 = 2\n",
    "dt = (t1-t0)\n",
    "dx = (x1-x0)\n",
    "dy = (y1-y0)\n",
    "a = xd0*dt- dx\n",
    "b = -xd1*dt+dx\n",
    "c = yd0*dt-dy\n",
    "d = -yd1*dt+dy"
   ]
  },
  {
   "cell_type": "code",
   "execution_count": null,
   "id": "9b8dfe5f",
   "metadata": {
    "slideshow": {
     "slide_type": "slide"
    }
   },
   "outputs": [],
   "source": [
    "N = 100\n",
    "t = range(t0,t1,length=N)\n",
    "dotz = 1.0/dt\n",
    "z = @. (dotz)*(t-t0)\n",
    "x = @. (1-z)*x0 + z*x1+z*(1-z)*(a*(1-z)+b*z)\n",
    "y = @. (1-z)*y0 + z*y1+z*(1-z)*(c*(1-z)+d*z)\n",
    "ptx = [x0,x1]\n",
    "pty = [y0,y1]\n",
    "plot(x,y,legend=false, title = \"Cubic Interpolant\", xlims=(0,4), ylims=(-2,5))\n",
    "p=scatter!(ptx,pty)\n",
    "println(\"Done\")"
   ]
  },
  {
   "cell_type": "code",
   "execution_count": null,
   "id": "09587202",
   "metadata": {
    "slideshow": {
     "slide_type": "subslide"
    }
   },
   "outputs": [],
   "source": [
    "display(p)"
   ]
  },
  {
   "cell_type": "markdown",
   "id": "330aea51",
   "metadata": {
    "slideshow": {
     "slide_type": "slide"
    }
   },
   "source": [
    "### Example"
   ]
  },
  {
   "cell_type": "code",
   "execution_count": null,
   "id": "b3760ee9",
   "metadata": {
    "slideshow": {
     "slide_type": "fragment"
    }
   },
   "outputs": [],
   "source": [
    "dotx = @. (dx+(1-2*z)*(a*(1-z)+b*z)+z*(1-z)*(b-a))*dotz\n",
    "doty = @. (dy+(1-2*z)*(c*(1-z)+d*z)+z*(1-z)*(d-c))*dotz\n",
    "ddotx = @. (-2*(a*(1-z)+b*z)+2*(1-2*z)*(b-a))*dotz\n",
    "ddoty = @. (-2*(c*(1-z)+d*z)+2*(1-2*z)*(d-c))*dotz\n",
    "\n",
    "r = 1.0\n",
    "L = 4.0\n",
    "v = @. sqrt(dotx*dotx + doty*doty)\n",
    "kappa =  @. (dotx*ddoty - doty*ddotx)/(v*v*v)\n",
    "dotphi1 = @. (v/r)*(kappa*L +1)\n",
    "dotphi2 = @. (v/r)*(-kappa*L+1)\n",
    "\n",
    "plot(t,dotphi1)\n",
    "p = plot!(t,dotphi2, title = \"Wheel Speeds\")\n",
    "println(\"Done\")"
   ]
  },
  {
   "cell_type": "code",
   "execution_count": null,
   "id": "66ac4b42",
   "metadata": {
    "slideshow": {
     "slide_type": "subslide"
    }
   },
   "outputs": [],
   "source": [
    "display(p)"
   ]
  },
  {
   "cell_type": "code",
   "execution_count": null,
   "id": "d18d3d5c",
   "metadata": {
    "slideshow": {
     "slide_type": "slide"
    }
   },
   "outputs": [],
   "source": [
    "r = 1.0\n",
    "L = 4.0\n",
    "xp = zeros(N)\n",
    "yp = zeros(N)\n",
    "th = zeros(N)\n",
    "xp[1] = 1\n",
    "yp[1] = -1\n",
    "th[1] = atan(-3,1)\n",
    "Δt = (t1-t0)/N\n",
    "δ = (r*Δt/2.0)\n",
    "for i in 1:N-1\n",
    "    xp[i+1] = xp[i] + δ*(dotphi1[i]+dotphi2[i])*cos(th[i])\n",
    "    yp[i+1] = yp[i] + δ*(dotphi1[i]+dotphi2[i])*sin(th[i])\n",
    "    th[i+1] = th[i] + δ*(dotphi1[i]-dotphi2[i])/L\n",
    "end\n",
    "plot(xp,yp, legend = false)\n",
    "ptx = [x0,x1]\n",
    "pty = [y0,y1]\n",
    "plot(xp,yp,legend=false, title = \"Path\", xlims=(0,4), ylims=(-2,5))\n",
    "p = scatter!(ptx,pty)\n",
    "println(\"Done\")"
   ]
  },
  {
   "cell_type": "code",
   "execution_count": null,
   "id": "47e09e20",
   "metadata": {
    "slideshow": {
     "slide_type": "subslide"
    }
   },
   "outputs": [],
   "source": [
    "display(p)"
   ]
  },
  {
   "cell_type": "markdown",
   "id": "89dfd1ed",
   "metadata": {
    "slideshow": {
     "slide_type": "slide"
    }
   },
   "source": [
    "The reality is that errors crop up and one will miss ...\n",
    "\n",
    "[Run the following]"
   ]
  },
  {
   "cell_type": "code",
   "execution_count": null,
   "id": "3fcfd074",
   "metadata": {
    "slideshow": {
     "slide_type": "skip"
    }
   },
   "outputs": [],
   "source": [
    "function addpath!(N, c, p, col)\n",
    "    t0, t1 = 0, 1\n",
    "    x0, y0 = c[1], c[2]\n",
    "    x1, y1 = c[3], c[4]\n",
    "    xd0 ,yd0 = c[5], c[6]\n",
    "    xd1, yd1 = c[7], c[8]\n",
    "    dt = (t1-t0)\n",
    "    dx = (x1-x0)\n",
    "    dy = (y1-y0)\n",
    "    a = xd0*dt- dx\n",
    "    b = -xd1*dt+dx\n",
    "    c = yd0*dt-dy\n",
    "    d = -yd1*dt+dy\n",
    "    t = range(t0,t1,length=N)\n",
    "    dotz = 1.0/dt\n",
    "    z = @. (dotz)*(t-t0)\n",
    "    x = @. (1-z)*x0 + z*x1+z*(1-z)*(a*(1-z)+b*z)\n",
    "    y = @. (1-z)*y0 + z*y1+z*(1-z)*(c*(1-z)+d*z)\n",
    "    ptx = [x0,x1]\n",
    "    pty = [y0,y1]\n",
    "    ax = [x1-0.1,x1]\n",
    "    ay = [y1,y1]\n",
    "    plot!(x,y, color = col)\n",
    "    scatter!(ptx,pty)\n",
    "    plot!(ax, ay,arrow=true,color=:black,linewidth=2,label=\"\")\n",
    "    return p\n",
    "end\n",
    "\n",
    "N = 20\n",
    "c = zeros(8)\n",
    "p = plot(legend=false, linewidth = 2, axis = false, ticks = false, title = \"Trajectories\", xlims=(-3,3), ylims=(-0.25,5))\n",
    "\n",
    "c = [0, 1, 1, 2, 1, 0, 1, 0]\n",
    "p = addpath!(N, c, p, \"blue\")\n",
    "c = [1, 2, 2, 1, 1, 0, 1, 0]\n",
    "p = addpath!(N, c, p, \"blue\")\n",
    "\n",
    "c = [0, 2, 1, 3.3, 1, 0, 1, 0]\n",
    "p = addpath!(N, c, p, \"green\")\n",
    "c = [1, 3, 2, 2, 1, 0, 1, 0]\n",
    "p = addpath!(N, c, p, \"blue\")\n",
    "\n",
    "c = [0, 3, 1, 4.3, 1, 0, 1, 0]\n",
    "p = addpath!(N, c, p, \"green\")\n",
    "c = [1, 4.3, 2, 3, 1, 0, 1, 0]\n",
    "p = addpath!(N, c, p, \"red\")\n",
    "annotate!(-1.5,1,\"Planned Path\")\n",
    "annotate!(-1.5,2,\"Actual Path\")\n",
    "annotate!(-1.5,3,\"Corrected Path\")\n",
    "println(\"Plots generated\")"
   ]
  },
  {
   "cell_type": "code",
   "execution_count": null,
   "id": "ec23cb6c",
   "metadata": {
    "slideshow": {
     "slide_type": "slide"
    }
   },
   "outputs": [],
   "source": [
    "plot(p)"
   ]
  },
  {
   "cell_type": "markdown",
   "id": "c4d7483d",
   "metadata": {
    "slideshow": {
     "slide_type": "slide"
    }
   },
   "source": [
    "### Discrete Inverse Kinematics\n",
    "\n",
    "Recall the discrete forward kinematics $$\\begin{array}{l}\n",
    " x_{k+1} = x_k + \\frac{r\\Delta t}{2} (\\omega_{1, k}+\\omega_{2, k})\\cos(\\theta_k) \\\\[5mm]\n",
    "y_{k+1} = y_k + \\frac{r\\Delta t}{2} (\\omega_{1, k}+\\omega_{2, k})\\sin(\\theta_k) \\\\[5mm]\n",
    "\\theta_{k+1} = \\theta_k + \\frac{r\\Delta t}{2L} (\\omega_{1, k}-\\omega_{2, k})\n",
    "\\end{array}$$"
   ]
  },
  {
   "cell_type": "markdown",
   "id": "960ff778",
   "metadata": {
    "slideshow": {
     "slide_type": "slide"
    }
   },
   "source": [
    "### Discrete Inverse Kinematics\n",
    "\n",
    "The inverse kinematics involve both first and second order derivatives.\n",
    "If you don’t have the expression explicitly, the derivatives can be\n",
    "approximated: $$\\begin{array}{l}\n",
    " \\displaystyle \\dot{x}_k\\approx \\nabla x_k =  \\frac{x_k  - x_{k-1}}{\\Delta t}, \\quad\n",
    " \\displaystyle  \\dot{y}_k\\approx  \\nabla y_k =\\frac{y_k  - y_{k-1}}{\\Delta t} \\\\[10mm]\n",
    " \\displaystyle \\ddot{x}_k\\approx \\delta^2 x_k = \\frac{x_{k+1}  - 2x_{k} + x_{k-1}}{\\Delta t^2}, \\quad\n",
    " \\displaystyle \\ddot{y}_k\\approx \\delta^2 y_k = \\frac{y_{k+1}  - 2y_{k}  + y_{k-1}}{\\Delta t^2}  .\n",
    "\\end{array}$$"
   ]
  },
  {
   "cell_type": "markdown",
   "id": "c1696c64",
   "metadata": {
    "slideshow": {
     "slide_type": "slide"
    }
   },
   "source": [
    "### Discrete Inverse Kinematics\n",
    "\n",
    "Plugging in the derivatives we then obtain the formulas for the wheel\n",
    "velocities. In normal applications, the points come in from a path\n",
    "planning routine, but the controls are discretized. Meaning you will\n",
    "have discrete values for time. You can use the formulas at $t=t_k$ for\n",
    "the points between the interpolating points: $$\\boxed{\n",
    "\\begin{array}{l}\n",
    "v_k = \\sqrt{\\dot{x}(t_k)^2 + \\dot{y}(t_k)^2} , \\quad\\quad\n",
    "\\displaystyle  \\kappa_k = \\frac{\\dot{x}(t_k) \\ddot{y}(t_k ) -  \\dot{y}(t_k) \\ddot{x}(t_k)}{v_k^3}, \\\\[3mm]\n",
    "\\displaystyle  \\omega_{1,k} = \\frac{v_k}{r}(\\kappa_k L + 1), \\quad\\quad\n",
    "\\displaystyle  \\omega_{2,k} = \\frac{v_k}{r}(-\\kappa_k L + 1)\n",
    "\\end{array} }$$"
   ]
  },
  {
   "cell_type": "markdown",
   "id": "a576da6b",
   "metadata": {
    "slideshow": {
     "slide_type": "slide"
    }
   },
   "source": [
    "## Simulation with noise"
   ]
  },
  {
   "cell_type": "code",
   "execution_count": null,
   "id": "52d82c62",
   "metadata": {
    "slideshow": {
     "slide_type": "fragment"
    }
   },
   "outputs": [],
   "source": [
    "using Random, Distributions, Plots\n",
    "Random.seed!(123) # Setting the seed\n",
    "μ1 = 1.0\n",
    "σ1 = 0.5\n",
    "d1 = Normal(μ1, σ1)\n",
    "μ2 = 2.0\n",
    "σ2 = 1.0\n",
    "d2 = Normal(μ2, σ2)\n",
    "x = rand(d1,100)\n",
    "y = rand(d2,100)\n",
    "p1=scatter(x,y,ratio=1)\n",
    "\n",
    "error = rand(Normal(μ1, σ1),100)\n",
    "x = LinRange(0,5,100)\n",
    "y = 2 .* x.+1.0 .+ error\n",
    "p2 = scatter(x,y,ratio=1)\n",
    "p=plot(p1,p2, layout=(1,2))\n",
    "println(\"Done\")"
   ]
  },
  {
   "cell_type": "code",
   "execution_count": null,
   "id": "1e81d145",
   "metadata": {
    "slideshow": {
     "slide_type": "subslide"
    }
   },
   "outputs": [],
   "source": [
    "display(p)"
   ]
  },
  {
   "cell_type": "markdown",
   "id": "c4927734",
   "metadata": {
    "slideshow": {
     "slide_type": "slide"
    }
   },
   "source": [
    "### An example"
   ]
  },
  {
   "cell_type": "code",
   "execution_count": null,
   "id": "8c7faf12",
   "metadata": {
    "slideshow": {
     "slide_type": "fragment"
    }
   },
   "outputs": [],
   "source": [
    "using Distributions, Plots, StatsPlots\n",
    "\n",
    "function wheels(t)\n",
    "   if (t < 1.5)\n",
    "       w1 = 1.0\n",
    "       w2 = 1.0\n",
    "       return w1, w2\n",
    "   end\n",
    "   if (t < 3)\n",
    "       w1 = 2.0\n",
    "       w2 = 1.0\n",
    "       return w1, w2\n",
    "   end\n",
    "   w1 = 1.0\n",
    "   w2 = 1.0\n",
    "   return w1, w2\n",
    "end"
   ]
  },
  {
   "cell_type": "code",
   "execution_count": null,
   "id": "e5459af4",
   "metadata": {
    "slideshow": {
     "slide_type": "slide"
    }
   },
   "outputs": [],
   "source": [
    "using Distributions, Plots, StatsPlots\n",
    "\n",
    "r = 20.0\n",
    "l = 12.0\n",
    "N = 10\n",
    "dt = 0.01\n",
    "Tend = 5\n",
    "NumP = Int(Tend/dt)\n",
    "\n",
    "μ1, σ1 = 0.0, 0.05\n",
    "μ2, σ2 = 0.0, 0.01\n",
    "d1 = Normal(μ1, σ1)\n",
    "d2 = Normal(μ2, σ2)\n",
    "tp = LinRange(0,Tend,NumP)\n",
    "x, y = 0, 0\n",
    "xp  = zeros(NumP)\n",
    "yp = zeros(NumP)\n",
    "thp = zeros(NumP)\n",
    "xpath  = zeros(N,NumP)\n",
    "ypath = zeros(N,NumP)\n",
    "thpath = zeros(N,NumP)\n",
    "xpts = zeros(N)\n",
    "ypts = zeros(N)\n",
    "println(\"Arrays set\")"
   ]
  },
  {
   "cell_type": "code",
   "execution_count": null,
   "id": "f32d6952",
   "metadata": {
    "slideshow": {
     "slide_type": "slide"
    }
   },
   "outputs": [],
   "source": [
    "x, y = 0, 0\n",
    "th = 0.0\n",
    "for i = 2:NumP\n",
    "    w1,w2 = wheels(tp[i])\n",
    "    dx = (r*dt/2.0)*(w1+w2)*cos(th)\n",
    "    dy = (r*dt/2.0)*(w1+w2)*sin(th)\n",
    "    dth = (r*dt/(2.0*l))*(w1-w2) \n",
    "    x = x + dx\n",
    "    y = y + dy\n",
    "    th = th + dth\n",
    "    xp[i] = x\n",
    "    yp[i] = y\n",
    "    thp[i] = th\n",
    "end"
   ]
  },
  {
   "cell_type": "code",
   "execution_count": null,
   "id": "24d4375e",
   "metadata": {
    "slideshow": {
     "slide_type": "slide"
    }
   },
   "outputs": [],
   "source": [
    "for k = 1:N\n",
    "    th = 0.0\n",
    "    x = 0.0\n",
    "    y = 0.0\n",
    "    errx = rand(d1,NumP)\n",
    "    erry = rand(d1,NumP)\n",
    "    errth = rand(d2,NumP)\n",
    "    for i = 2:NumP\n",
    "        w1,w2 = wheels(tp[i])\n",
    "        dx = (r*dt/2.0)*(w1+w2)*cos(th) + errx[i]\n",
    "        dy = (r*dt/2.0)*(w1+w2)*sin(th) + erry[i]\n",
    "        dth = (r*dt/(2.0*l))*(w1-w2) + errth[i]\n",
    "        x = x + dx\n",
    "        y = y + dy\n",
    "        th = th + dth\n",
    "        xpath[k,i] = x\n",
    "        ypath[k,i] = y\n",
    "        thpath[k,i] = th\n",
    "    end\n",
    "    xpts[k] = x\n",
    "    ypts[k] = y\n",
    "end"
   ]
  },
  {
   "cell_type": "code",
   "execution_count": null,
   "id": "a3067329",
   "metadata": {
    "slideshow": {
     "slide_type": "slide"
    }
   },
   "outputs": [],
   "source": [
    "plot(0,0,legend=false)\n",
    "for j=1:N\n",
    "    plot!(xpath[j,:], ypath[j,:], legend=false)\n",
    "end\n",
    "\n",
    "p = plot!(title=\"Paths with noise\")\n",
    "display(p)"
   ]
  },
  {
   "cell_type": "markdown",
   "id": "55f908e4",
   "metadata": {
    "slideshow": {
     "slide_type": "slide"
    }
   },
   "source": [
    "The following will plots the error ellipse (not complete yet)"
   ]
  },
  {
   "cell_type": "code",
   "execution_count": null,
   "id": "fcc3a729",
   "metadata": {
    "slideshow": {
     "slide_type": "slide"
    }
   },
   "outputs": [],
   "source": [
    "A = [xpts ypts]\n",
    "cmat = cov(A)\n",
    "mx = mean(xpts)\n",
    "my = mean(ypts)\n",
    "covellipse([mx,my], cmat, n_std=2)\n",
    "plot!(xp,yp, legend=false)\n",
    "p = scatter!(xpts, ypts)\n",
    "println(\"Done\")"
   ]
  },
  {
   "cell_type": "code",
   "execution_count": null,
   "id": "569e6391",
   "metadata": {
    "slideshow": {
     "slide_type": "subslide"
    }
   },
   "outputs": [],
   "source": [
    "display(p)"
   ]
  },
  {
   "cell_type": "markdown",
   "id": "8921d05a",
   "metadata": {
    "slideshow": {
     "slide_type": "slide"
    }
   },
   "source": [
    "## System Architecture"
   ]
  },
  {
   "cell_type": "markdown",
   "id": "4b23e8c6",
   "metadata": {
    "slideshow": {
     "slide_type": "fragment"
    }
   },
   "source": [
    "A robot is built from\n",
    "\n",
    "- Sensors\n",
    "- Sensor fusion and Mapping\n",
    "- Planning and Control\n",
    "- Actuation"
   ]
  },
  {
   "cell_type": "markdown",
   "id": "5de10e0f",
   "metadata": {
    "slideshow": {
     "slide_type": "fragment"
    }
   },
   "source": [
    "All of these run at different speeds (frequencies)"
   ]
  },
  {
   "cell_type": "markdown",
   "id": "a56813ee",
   "metadata": {
    "slideshow": {
     "slide_type": "fragment"
    }
   },
   "source": [
    "There is not one good loop frequency that will work."
   ]
  },
  {
   "cell_type": "markdown",
   "id": "a44b6fef",
   "metadata": {
    "slideshow": {
     "slide_type": "slide"
    }
   },
   "source": [
    "##  Modular design"
   ]
  },
  {
   "cell_type": "markdown",
   "id": "c4e6c378",
   "metadata": {
    "slideshow": {
     "slide_type": "fragment"
    }
   },
   "source": [
    "Good design means one uses different functions, classes,  modules for different software components."
   ]
  },
  {
   "cell_type": "markdown",
   "id": "390a0575",
   "metadata": {
    "slideshow": {
     "slide_type": "fragment"
    }
   },
   "source": [
    "Problems:\n",
    "\n",
    "- Some aspects of the system are synchronous and some is asynchronous.\n",
    "- Different components have frequencies and interrupt semantics.\n",
    "- Multiple processors are often required.\n",
    "- Processors need not live in the same address space.\n",
    "- The world requires fault tolerance.\n",
    "- Software and hardware is constantly changing.\n",
    "- Multiple languages are useful.\n"
   ]
  },
  {
   "cell_type": "markdown",
   "id": "b00c626b",
   "metadata": {
    "slideshow": {
     "slide_type": "slide"
    }
   },
   "source": [
    "## Interprocess Communication"
   ]
  },
  {
   "cell_type": "markdown",
   "id": "c51d67f3",
   "metadata": {
    "slideshow": {
     "slide_type": "fragment"
    }
   },
   "source": [
    "Tasks can communicate via\n",
    "\n",
    "- Monolithic architecture via function calls\n",
    "- Shared file system\n",
    "- Shared memory\n",
    "- Messages (via SVIPC or similar)\n",
    "- Sockets"
   ]
  },
  {
   "cell_type": "markdown",
   "id": "559d7906",
   "metadata": {
    "slideshow": {
     "slide_type": "slide"
    }
   },
   "source": [
    "### Sockets \n",
    "\n",
    "For modular, asynchronous, OS and language agnostic communication - sockets are the popular choice."
   ]
  },
  {
   "cell_type": "markdown",
   "id": "982fb57b",
   "metadata": {
    "slideshow": {
     "slide_type": "fragment"
    }
   },
   "source": [
    "Low level socket programming (in C) is fast and powerful ...\n",
    "\n",
    "but can be challenging.   "
   ]
  },
  {
   "cell_type": "markdown",
   "id": "7843c132",
   "metadata": {
    "slideshow": {
     "slide_type": "fragment"
    }
   },
   "source": [
    "We will use an wrapper library which hides the details.\n",
    "\n",
    "Called ZeroMQ or 0MQ"
   ]
  },
  {
   "cell_type": "markdown",
   "id": "73934c66",
   "metadata": {
    "slideshow": {
     "slide_type": "slide"
    }
   },
   "source": [
    "## Zero MQ"
   ]
  },
  {
   "cell_type": "markdown",
   "id": "c453844b",
   "metadata": {
    "slideshow": {
     "slide_type": "fragment"
    }
   },
   "source": [
    "ZeroMQ (also known as ØMQ, 0MQ, or zmq) looks like an embeddable networking library but acts like a concurrency framework. It gives you sockets that carry atomic messages across various transports like in-process, inter-process, TCP, and multicast. \n",
    "\n",
    "You can connect sockets N-to-N with patterns like fan-out, pub-sub, task distribution, and request-reply. It’s fast enough to be the fabric for clustered products. \n",
    "\n",
    "Its asynchronous I/O model gives you scalable multicore applications, built as asynchronous message-processing tasks. "
   ]
  },
  {
   "cell_type": "markdown",
   "id": "bb1585cb",
   "metadata": {
    "slideshow": {
     "slide_type": "slide"
    }
   },
   "source": [
    "## Goal 1\n",
    "\n",
    "Goal one is to communicate from one process to another.  We can shoot for a sequence as shown:"
   ]
  },
  {
   "cell_type": "code",
   "execution_count": null,
   "id": "c94dff37",
   "metadata": {
    "slideshow": {
     "slide_type": "skip"
    }
   },
   "outputs": [],
   "source": [
    "using GraphRecipes, Plots\n",
    "x = [1,2,3]\n",
    "y = [1,1,1]\n",
    "ax = [.25,.75, NaN, 1.25, 1.75, NaN, 2.25, 2.75]\n",
    "ay = [1,1, NaN, 1, 1, NaN, 1, 1]\n",
    "plot(xlims=(0,4), ylims = (0,2), legend = false, ticks = false, axis = false, title=\"Data Flow\")\n",
    "scatter!(x,y, shape=:rect, ms = 30)\n",
    "#plot!(ax, ay,arrow=true,color=:black,linewidth=2,label=\"\")\n",
    "p = plot!(ax,ay, arrow=true, arrowsize=0.5, color=:black)\n",
    "println(\"Plot done\")"
   ]
  },
  {
   "cell_type": "code",
   "execution_count": null,
   "id": "057e5ab8",
   "metadata": {
    "slideshow": {
     "slide_type": "fragment"
    }
   },
   "outputs": [],
   "source": [
    "display(p)"
   ]
  },
  {
   "cell_type": "markdown",
   "id": "0ac7702c",
   "metadata": {
    "slideshow": {
     "slide_type": "slide"
    }
   },
   "source": [
    "## Goal 2\n",
    "\n",
    "Goal two is bidirectional communication."
   ]
  },
  {
   "cell_type": "code",
   "execution_count": null,
   "id": "f566b2d4",
   "metadata": {
    "slideshow": {
     "slide_type": "skip"
    }
   },
   "outputs": [],
   "source": [
    "x = [1,2,3]\n",
    "y = [1,1,1]\n",
    "ax = [1.25, 1.75, NaN, 2.25, 2.75]\n",
    "ay = [.9, .9, NaN, .9, .9]\n",
    "bx = [1.75, 1.25, NaN, 2.75, 2.25]\n",
    "by = [1.1, 1.1, NaN, 1.1, 1.1]\n",
    "plot(xlims=(0,4), ylims = (0,2), legend = false, ticks = false, axis = false, title=\"Data Flow\")\n",
    "scatter!(x,y, shape=:rect, ms = 30)\n",
    "plot!(ax,ay, arrow=true, arrowsize=0.5, color=:black)\n",
    "p = plot!(bx,by, arrow=true, arrowsize=0.5, color=:black)\n",
    "println(\"Plot done\")"
   ]
  },
  {
   "cell_type": "code",
   "execution_count": null,
   "id": "b4d52dc9",
   "metadata": {
    "slideshow": {
     "slide_type": "fragment"
    }
   },
   "outputs": [],
   "source": [
    "display(p)"
   ]
  },
  {
   "cell_type": "markdown",
   "id": "3fee126b",
   "metadata": {
    "slideshow": {
     "slide_type": "slide"
    }
   },
   "source": [
    "## Goal 3\n",
    "\n",
    "Many to many communication"
   ]
  },
  {
   "cell_type": "code",
   "execution_count": null,
   "id": "2ec2753f",
   "metadata": {
    "slideshow": {
     "slide_type": "skip"
    }
   },
   "outputs": [],
   "source": [
    "x = [1,2,3, 1, 3]\n",
    "y = [1,1,1, 2.25, 2.25]\n",
    "ax = [1.25, 1.75, NaN, 2.25, 2.75, NaN, 1, 1, NaN, 1.25, 1.75, NaN, 1.25, 2.75, NaN, 2.75, 2.25, NaN, 3, 3]\n",
    "ay = [1, 1, NaN, 1, 1, NaN, 1.4, 1.85, NaN, 2.2, 1.2, NaN, 2.2, 2.2, NaN, 2.2, 1.2, NaN, 1.85, 1.4]\n",
    "plot(xlims=(0,4), ylims = (0,4), legend = false, ticks = false, axis = false, title=\"Data Flow\")\n",
    "scatter!(x,y, shape=:rect, ms = 30)\n",
    "p = plot!(ax,ay, arrow=true, arrowsize=0.5, color=:black)\n",
    "println(\"Plot done\")"
   ]
  },
  {
   "cell_type": "code",
   "execution_count": null,
   "id": "819b2709",
   "metadata": {
    "slideshow": {
     "slide_type": "fragment"
    }
   },
   "outputs": [],
   "source": [
    "display(p)"
   ]
  },
  {
   "cell_type": "markdown",
   "id": "4931e59a",
   "metadata": {
    "slideshow": {
     "slide_type": "slide"
    }
   },
   "source": [
    "## ZMQ  Request - Reply  Server - One to One"
   ]
  },
  {
   "cell_type": "raw",
   "id": "8c2d3a41",
   "metadata": {
    "slideshow": {
     "slide_type": "fragment"
    }
   },
   "source": [
    "using ZMQ\n",
    "\n",
    "context = Context()\n",
    "socket = Socket(context, REP)\n",
    "ZMQ.bind(socket, \"tcp://*:5555\")\n",
    "\n",
    "while true\n",
    "    # Wait for next request from client\n",
    "    message = String(ZMQ.recv(socket))\n",
    "    println(\"Received request: $message\")\n",
    "\n",
    "    # Do some 'work'\n",
    "    sleep(1)\n",
    "\n",
    "    # Send reply back to client\n",
    "    ZMQ.send(socket, \"World\")\n",
    "end\n",
    "\n",
    "ZMQ.close(socket)\n",
    "ZMQ.close(context)"
   ]
  },
  {
   "cell_type": "markdown",
   "id": "835cc8e3",
   "metadata": {
    "slideshow": {
     "slide_type": "slide"
    }
   },
   "source": [
    "## ZMQ Request - Reply Client"
   ]
  },
  {
   "cell_type": "raw",
   "id": "d42744c7",
   "metadata": {
    "slideshow": {
     "slide_type": "fragment"
    }
   },
   "source": [
    "using ZMQ\n",
    "\n",
    "context = Context()\n",
    "\n",
    "# Socket to talk to server\n",
    "println(\"Connecting to hello world server...\")\n",
    "socket = Socket(context, REQ)\n",
    "ZMQ.connect(socket, \"tcp://localhost:5555\")\n",
    "\n",
    "for request in 1:10\n",
    "    println(\"Sending request $request ...\")\n",
    "    ZMQ.send(socket, \"Hello\")\n",
    "\n",
    "    # Get the reply.\n",
    "    message = String(ZMQ.recv(socket))\n",
    "    println(\"Received reply $request [ $message ]\")\n",
    "end\n",
    "\n",
    "ZMQ.close(socket)\n",
    "ZMQ.close(context)"
   ]
  },
  {
   "cell_type": "markdown",
   "id": "d73d3217",
   "metadata": {
    "slideshow": {
     "slide_type": "slide"
    }
   },
   "source": [
    "### Robotics Example"
   ]
  },
  {
   "cell_type": "raw",
   "id": "d7c38362",
   "metadata": {
    "slideshow": {
     "slide_type": "fragment"
    }
   },
   "source": [
    "import ZMQ\n",
    "\n",
    "ctx = ZMQ.Context()\n",
    "socket = ZMQ.Socket(ctx,ZMQ.REP)\n",
    "ZMQ.bind(socket,\"tcp://*:5678\")\n",
    "\n",
    "println(\"Waiting on client\")\n",
    "message = String(ZMQ.recv(socket))\n",
    "println(\"Received request:\", message)\n",
    "\n",
    "t = 0.0\n",
    "\n",
    "while true\n",
    "    global t\n",
    "    # Pace the data stream\n",
    "    sleep(0.5)\n",
    "    \n",
    "    #  Send reply back to client\n",
    "    x = 5*cos(t) + 8.0\n",
    "    y = 5*sin(t) + 7.0\n",
    "    msg = \"$x  $y\"\n",
    "    ZMQ.send(socket, msg)\n",
    "    t = t + 0.05\n",
    "    msg = String(ZMQ.recv(socket))\n",
    "    if msg == \"0\"\n",
    "        break\n",
    "    end\n",
    "end\n",
    "\n",
    "close(socket)\n",
    "close(ctx)"
   ]
  },
  {
   "cell_type": "markdown",
   "id": "ecd6f178",
   "metadata": {
    "slideshow": {
     "slide_type": "slide"
    }
   },
   "source": [
    "### Robotics example cont."
   ]
  },
  {
   "cell_type": "raw",
   "id": "a1594aad",
   "metadata": {
    "slideshow": {
     "slide_type": "fragment"
    }
   },
   "source": [
    "import ZMQ\n",
    "\n",
    "ctx = ZMQ.Context()\n",
    "\n",
    "println(\"Connecting to hello world server…\")\n",
    "socket = ZMQ.Socket(ctx, ZMQ.REQ)\n",
    "\n",
    "ZMQ.connect(socket, \"tcp://localhost:5678\")\n",
    "\n",
    "println(\"Sending request \")\n",
    "ZMQ.send(socket, \"Hello\")\n",
    "\n",
    "a1 = 15\n",
    "a2 = 15\n",
    "for i in 1:10\n",
    "    #  Get the message\n",
    "    message = String(ZMQ.recv(socket))\n",
    "    xm,ym = split(message)\n",
    "    x = parse(Float64,xm)\n",
    "    y = parse(Float64,ym)\n",
    "    d =  (x*x+y*y-a1*a1-a2*a2)/(2*a1*a2)\n",
    "    t2 = atan(-sqrt(1.0-d*d),d)\n",
    "    t1 = atan(y,x) - atan(a2*sin(t2),a1+a2*cos(t2))\n",
    "    println(t1,\"   \", t2)\n",
    "    cmd = \"1\"\n",
    "    if i == 10\n",
    "        cmd = \"0\"\n",
    "    end\n",
    "    ZMQ.send(socket, cmd)\n",
    "end   \n",
    "    \n",
    "\n",
    "close(socket)\n",
    "close(ctx)    "
   ]
  },
  {
   "cell_type": "markdown",
   "id": "48b5236e",
   "metadata": {
    "slideshow": {
     "slide_type": "slide"
    }
   },
   "source": [
    "## ZMQ Publisher  - One to many"
   ]
  },
  {
   "cell_type": "raw",
   "id": "d1ac9998",
   "metadata": {
    "slideshow": {
     "slide_type": "fragment"
    }
   },
   "source": [
    "using ZMQ\n",
    "\n",
    "context = Context()\n",
    "socket = Socket(context, PUB)\n",
    "bind(socket, \"tcp://*:5556\")\n",
    "\n",
    "while true\n",
    "    zipcode = rand(10000:99999)\n",
    "    temperature = rand(-80:135)\n",
    "    relhumidity = rand(10:60)\n",
    "    message = \"$zipcode $temperature $relhumidity\"\n",
    "    send(socket, message)\n",
    "    yield()\n",
    "end\n",
    "\n",
    "close(socket)\n",
    "close(context)"
   ]
  },
  {
   "cell_type": "markdown",
   "id": "4485001d",
   "metadata": {
    "slideshow": {
     "slide_type": "slide"
    }
   },
   "source": [
    "## ZMQ Subscriber"
   ]
  },
  {
   "cell_type": "raw",
   "id": "d2af9306",
   "metadata": {
    "slideshow": {
     "slide_type": "fragment"
    }
   },
   "source": [
    "using ZMQ\n",
    "\n",
    "context = Context()\n",
    "socket = Socket(context, SUB)\n",
    "\n",
    "println(\"Collecting updates from weather server...\")\n",
    "connect(socket, \"tcp://localhost:5556\")\n",
    "\n",
    "# Subscribe to zipcode, default is NYC, 10001\n",
    "zip_filter = length(ARGS) > 0 ? int(ARGS[1]) : 10001\n",
    "\n",
    "subscribe(socket, string(zip_filter))\n",
    "\n",
    "# Process 5 updates\n",
    "update_nbr = 5\n",
    "\n",
    "total_temp = 0\n",
    "for update in 1:update_nbr\n",
    "    global total_temp\n",
    "    message = unsafe_string(recv(socket))\n",
    "    zipcode, temperature, relhumidity = split(message)\n",
    "    total_temp += parse(Int, temperature)\n",
    "end\n",
    "\n",
    "avg_temp = total_temp / update_nbr\n",
    "\n",
    "println(\"Average temperature for zipcode $zip_filter was $(avg_temp)F\")\n",
    "\n",
    "# Making a clean exit.\n",
    "close(socket)\n",
    "close(context)"
   ]
  },
  {
   "cell_type": "markdown",
   "id": "18cee585",
   "metadata": {
    "slideshow": {
     "slide_type": "slide"
    }
   },
   "source": [
    "### Environment"
   ]
  },
  {
   "cell_type": "markdown",
   "id": "500b19a3",
   "metadata": {
    "slideshow": {
     "slide_type": "fragment"
    }
   },
   "source": [
    "### Map Representation\n",
    "\n",
    "1.  Map precision vs. application\n",
    "\n",
    "2.  Features precision vs. map precision\n",
    "\n",
    "3.  Precision vs. computational complexity\n",
    "\n",
    "-   Continuous representation\n",
    "\n",
    "-   Decomposition (discretization)"
   ]
  },
  {
   "cell_type": "markdown",
   "id": "33a2d265",
   "metadata": {
    "slideshow": {
     "slide_type": "fragment"
    }
   },
   "source": [
    "### Representation of the Environment\n",
    "\n",
    "Environment Representation  \n",
    "\n",
    "-   Continuous Metric $\\to x, y, \\theta$  \n",
    "\n",
    "-   Discrete Metric $\\to$ metric grid  \n",
    "\n",
    "-   Discrete Topological $\\to$ topological grid"
   ]
  },
  {
   "cell_type": "markdown",
   "id": "0ff4fac0",
   "metadata": {
    "slideshow": {
     "slide_type": "slide"
    }
   },
   "source": [
    "### Representation of the Environment\n",
    "\n",
    "Environmental Modeling\n",
    "\n",
    "-   Raw sensor data, e.g. laser range data, grayscale images\n",
    "\n",
    "    -   large volume of data, low distinctiveness on the level of\n",
    "        individual values\n",
    "\n",
    "    -   makes use of all acquired information\n",
    "\n",
    "-   Low level features, e.g. line other geometric features\n",
    "\n",
    "    -   medium volume of data, average distinctiveness\n",
    "\n",
    "    -   filters out the useful information, still ambiguities\n",
    "\n",
    "-   High level features, e.g. doors, a car, Mt Rushmore\n",
    "\n",
    "    -   low volume of data, high distinctiveness\n",
    "\n",
    "    -   filters out the useful information, few/no ambiguities, not\n",
    "        enough information"
   ]
  },
  {
   "cell_type": "markdown",
   "id": "ada752c4",
   "metadata": {
    "slideshow": {
     "slide_type": "slide"
    }
   },
   "source": [
    "### Representing the World - Obstacles"
   ]
  },
  {
   "cell_type": "code",
   "execution_count": null,
   "id": "086db282",
   "metadata": {
    "slideshow": {
     "slide_type": "subslide"
    }
   },
   "outputs": [],
   "source": [
    "function collide(center1, r1, center2, r2)\n",
    "    x1 = center1[1]\n",
    "    y1 = center1[2]\n",
    "    x2 = center2[1]\n",
    "    y2 = center2[2]\n",
    "    d = sqrt((x1-x2)*(x1-x2) + (y1-y2)*(y1-y2))-r1-r2\n",
    "    return d\n",
    "end"
   ]
  },
  {
   "cell_type": "markdown",
   "id": "9de35bfe",
   "metadata": {
    "slideshow": {
     "slide_type": "slide"
    }
   },
   "source": [
    "### Representing the World - Collision"
   ]
  },
  {
   "cell_type": "code",
   "execution_count": null,
   "id": "64824fa5",
   "metadata": {
    "slideshow": {
     "slide_type": "skip"
    }
   },
   "outputs": [],
   "source": [
    "using Plots\n",
    "\n",
    "function build(r, h, k)\n",
    "    t = range(0,π, length=60)\n",
    "    hx = r*cos.(t) .+ h\n",
    "    hy = r*sin.(t) .+ k\n",
    "    ly = -r*sin.(t) .+ k\n",
    "    return hx, hy, ly\n",
    "end\n",
    "\n",
    "function graph!(hx,hy,ly, col, p)\n",
    "    p = plot!(hx, ly, fillrange = hy, fillalpha = 0.35, color=col)\n",
    "    p = plot!(hx,hy, color=:black)\n",
    "    p = plot!(hx,ly, color=:black)\n",
    "    return p\n",
    "end\n",
    "\n",
    "hx1, hy1, ly1 = build(2,4,5)\n",
    "hx2, hy2, ly2 = build(2,7,7.6)\n",
    "\n",
    "p = plot(xlims = (0,10), ylims = (0,10), legend = false, aspect_ratio = :equal, title = \"Collision\", axis = false, ticks=false)\n",
    "p = graph!(hx1,hy1,ly1, :blue, p)\n",
    "p = graph!(hx2,hy2,ly2, :red, p)\n",
    "println(\"Plot Done\")"
   ]
  },
  {
   "cell_type": "code",
   "execution_count": null,
   "id": "26d15e29",
   "metadata": {
    "slideshow": {
     "slide_type": "fragment"
    }
   },
   "outputs": [],
   "source": [
    "display(p)"
   ]
  },
  {
   "cell_type": "markdown",
   "id": "9d3eff5e",
   "metadata": {
    "slideshow": {
     "slide_type": "slide"
    }
   },
   "source": [
    "### Representing the World - Collision Sensing"
   ]
  },
  {
   "cell_type": "code",
   "execution_count": null,
   "id": "8393706b",
   "metadata": {
    "slideshow": {
     "slide_type": "skip"
    }
   },
   "outputs": [],
   "source": [
    "t = range(0,2*π, length=60)\n",
    "s = range(0,2*π, length=24)\n",
    "x = cos.(t).+2\n",
    "y = sin.(t).+2\n",
    "xx = cos.(s).+2\n",
    "yy = sin.(s).+2\n",
    "p = plot(xlims = (0.5,3.5), ylims = (0.5,3.5), legend = false, aspect_ratio = :equal, title = \"Collision\", axis = false, ticks=false)\n",
    "plot!(x,y)\n",
    "p = scatter!(xx,yy, ms = 10)\n",
    "println(\"Plot Done\")"
   ]
  },
  {
   "cell_type": "code",
   "execution_count": null,
   "id": "c267114e",
   "metadata": {
    "slideshow": {
     "slide_type": "fragment"
    }
   },
   "outputs": [],
   "source": [
    "display(p)"
   ]
  },
  {
   "cell_type": "code",
   "execution_count": null,
   "id": "7c20f686",
   "metadata": {
    "slideshow": {
     "slide_type": "skip"
    }
   },
   "outputs": [],
   "source": [
    "t = range(0,2*π, length=60)\n",
    "s = range(0,2*π, length=24)\n",
    "x = cos.(t).+2\n",
    "y = sin.(t).+2\n",
    "xx = cos.(s).+2\n",
    "yy = sin.(s).+2\n",
    "u = sqrt.(t).-0.55\n",
    "p = plot(xlims = (0.25,3.5), ylims = (0.25,3.5), legend = false, aspect_ratio = :equal, title = \"Collision and Sensing\", axis = false, ticks=false)\n",
    "p = plot!(x,y, color=:black)\n",
    "p = scatter!(xx,yy, ms = 10, color=:blue)\n",
    "p = plot!(t, u)\n",
    "p = plot!([2.35,2],[1,2],arrow=true,color=:black,linewidth=2,label=\"\")\n",
    "p = plot!([2,2.85],[2,2.3],arrow=true,color=:black,linewidth=2,label=\"\")\n",
    "println(\"Plot Done\")"
   ]
  },
  {
   "cell_type": "code",
   "execution_count": null,
   "id": "ba84fbd5",
   "metadata": {
    "slideshow": {
     "slide_type": "subslide"
    }
   },
   "outputs": [],
   "source": [
    "display(p)"
   ]
  },
  {
   "cell_type": "markdown",
   "id": "efbac5be",
   "metadata": {
    "slideshow": {
     "slide_type": "subslide"
    }
   },
   "source": [
    "### Representing the World - Collision Sensing\n",
    "\n",
    "Using the normal vector, $\\hat{n} = <n_1, n_2>$, the tangent to the\n",
    "boundary is computed via $$T = \\pm <n_2, -n_1>$$ where the sign is taken\n",
    "so that motion is to the right (right hand rule)."
   ]
  },
  {
   "cell_type": "markdown",
   "id": "7f5521f7",
   "metadata": {
    "slideshow": {
     "slide_type": "slide"
    }
   },
   "source": [
    "### LIDAR\n",
    "\n",
    "At each angle or direction, the lidar unit projects a laser beam out. It\n",
    "receives the reflected signal and computes the distance. Naively one\n",
    "simply measures the time of flight, divides by two (for the round trip)\n",
    "and multiplies by $c$ (the speed of light): $D = RT$. This provides the\n",
    "distance of the nearest obstacle at the current angle."
   ]
  },
  {
   "cell_type": "markdown",
   "id": "030621c8",
   "metadata": {
    "slideshow": {
     "slide_type": "fragment"
    }
   },
   "source": [
    "### How is this done?\n",
    "\n",
    "Using a two colored image, let white be free space and red or black\n",
    "indicate occupied space. To simulate the beam out of the LIDAR, create a\n",
    "virtual line out of the lidar and follow a straight line along white\n",
    "pixels until you run into a colored pixel. Stop at the first colored\n",
    "pixel. Using the endpoints of the line segment (virtual lidar to object\n",
    "pixel), the distance can be computed. Let $(n,m)$ be the start of the\n",
    "line and let $(i,j)$ be the location of the object pixel and recall the\n",
    "distance is $d = \\sqrt{(i-n)^2 + (j-m)^2}$"
   ]
  },
  {
   "cell_type": "markdown",
   "id": "589ef556",
   "metadata": {
    "slideshow": {
     "slide_type": "slide"
    }
   },
   "source": [
    "### LIDAR Simulation Algorithm\n",
    "\n",
    "Algorithm"
   ]
  },
  {
   "cell_type": "raw",
   "id": "c7aebf90",
   "metadata": {
    "slideshow": {
     "slide_type": "fragment"
    }
   },
   "source": [
    "Range = 10\n",
    "k=1\n",
    "N = 100\n",
    "M = Int(ceil(2*π*Range))\n",
    "θvals = range(0, 2*π, length = M)\n",
    "R = range(0, Range, length = N)\n",
    "for θ in θvals\n",
    "    for r in R\n",
    "        i = Int(r*cos(θ))\n",
    "        j = Int(r*sin(θ))\n",
    "        if Map[i,j] == 1\n",
    "            break\n",
    "        end\n",
    "    end\n",
    "    Distance[k] = r\n",
    "    k += 1\n",
    "end"
   ]
  }
 ],
 "metadata": {
  "@webio": {
   "lastCommId": "942c907c26a647ec96c98a4a62632a54",
   "lastKernelId": "0ade037f-7b83-4935-a184-ee0a15a53a92"
  },
  "celltoolbar": "Slideshow",
  "kernelspec": {
   "display_name": "Julia 1.6.2",
   "language": "julia",
   "name": "julia-1.6"
  },
  "language_info": {
   "file_extension": ".jl",
   "mimetype": "application/julia",
   "name": "julia",
   "version": "1.6.2"
  }
 },
 "nbformat": 4,
 "nbformat_minor": 5
}

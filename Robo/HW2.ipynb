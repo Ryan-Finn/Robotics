{
 "cells": [
  {
   "cell_type": "markdown",
   "id": "252f1700",
   "metadata": {},
   "source": [
    "# Homework 2"
   ]
  },
  {
   "cell_type": "code",
   "execution_count": 36,
   "id": "372763b2",
   "metadata": {},
   "outputs": [],
   "source": [
    "using LinearAlgebra"
   ]
  },
  {
   "cell_type": "markdown",
   "id": "3ff0e202",
   "metadata": {},
   "source": [
    "#### 8. Assume that you have a two link planar manipulator. $\\theta_1$ is the angle between the x axis (measured counter-clockwise as positive) and the first link arm. $\\theta_2$ is the angle between the second link arm and the first link arm (again measured counter-clockwise as positive). The link lengths are $a_1$, $a_2$. Derive the formulas for $dx/dt$ and $dy/dt$ as a function of $d\\theta_1/dt$ and $d\\theta_2/dt$."
   ]
  },
  {
   "cell_type": "markdown",
   "id": "f765ee43",
   "metadata": {},
   "source": [
    "$$ x = a_2cos(\\theta_1 + \\theta_2) + a_1cos(\\theta_1) $$\n",
    "\n",
    "$$ y = a_2sin(\\theta_1 + \\theta_2) + a_1sin(\\theta_1) $$\n",
    "\n",
    "$$ J_f = \\begin{pmatrix} \\frac{\\partial x}{\\partial\\theta_1} & \\frac{\\partial x}{\\partial\\theta_2} \\\\ \\frac{\\partial y}{\\partial\\theta_1} & \\frac{\\partial y}{\\partial\\theta_2} \\end{pmatrix}, v = J_f\\dot q $$\n",
    "\n",
    "$$ v = \\begin{pmatrix} \\frac{dx}{dt} \\\\ \\frac{dy}{dt} \\end{pmatrix} = \\begin{pmatrix}\n",
    "-a_2sin(\\theta_1 + \\theta_2) - a_1sin(\\theta_1) & -a_2sin(\\theta_1 + \\theta_2)\\\\\n",
    "a_2cos(\\theta_1 + \\theta_2) + a_1cos(\\theta_1) & a_2cos(\\theta_1 + \\theta_2)\n",
    "\\end{pmatrix} \\begin{pmatrix} \\frac{d\\theta_1}{dt} \\\\ \\frac{d\\theta_2}{dt} \\end{pmatrix} $$"
   ]
  },
  {
   "cell_type": "markdown",
   "id": "a680e645",
   "metadata": {},
   "source": [
    "#### 9. Using the two link planar manipulator described in the previous problem. Derive the formulas for $d\\theta_1/dt$ and $d\\theta_2/dt$ as a function of $x$, $y$, $dx/dt$ and $dy/dt$."
   ]
  },
  {
   "cell_type": "markdown",
   "id": "217f687e",
   "metadata": {},
   "source": [
    "$$ D = \\frac{x^2 + y^2 - a^2_1 - a^2_2}{2a_1a_2} $$\n",
    "\n",
    "$$\n",
    "\\theta_2 = tan^{-1}\\left(\\frac{\\pm\\sqrt{1 - D^2}}{D}\\right), \\theta_1 = tan^{-1}\\left(\\frac{y}{x}\\right) - \n",
    "tan^{-1}\\left(\n",
    "    \\frac{a_2sin\\left(\n",
    "        \\theta_2\n",
    "    \\right)}{a_1 + a_2cos\\left(\n",
    "        \\theta_2\n",
    "    \\right)}\n",
    "\\right)\n",
    "$$\n",
    "\n",
    "$$ J^{-1}_f = \\frac{1}{\\frac{\\partial x}{\\partial\\theta_1}\\frac{\\partial y}{\\partial\\theta_2} - \\frac{\\partial x}{\\partial\\theta_2}\\frac{\\partial y}{\\partial\\theta_1}} \\begin{pmatrix} \\frac{\\partial x}{\\partial\\theta_1} & \\frac{\\partial x}{\\partial\\theta_2} \\\\ \\frac{\\partial y}{\\partial\\theta_1} & \\frac{\\partial y}{\\partial\\theta_2} \\end{pmatrix}, \\dot q = J^{-1}_fv $$\n",
    "\n",
    "$$ \\dot q = \\begin{pmatrix} \\frac{d\\theta_1}{dt} \\\\ \\frac{d\\theta_2}{dt} \\end{pmatrix} = \\frac{1}{a_1a_2sin(\\theta_2)} \\begin{pmatrix}\n",
    "a_2cos(\\theta_1 + \\theta_2) & a_2sin(\\theta_1 + \\theta_2)\\\\\n",
    "-a_2cos(\\theta_1 + \\theta_2) - a_1cos(\\theta_1) & -a_2sin(\\theta_1 + \\theta_2) - a_1sin(\\theta_1)\n",
    "\\end{pmatrix} \\begin{pmatrix} \\frac{dx}{dt} \\\\ \\frac{dy}{dt} \\end{pmatrix} $$"
   ]
  },
  {
   "cell_type": "markdown",
   "id": "523b7999",
   "metadata": {},
   "source": [
    "#### 10. Given the two link manipulator as described in the previous problems with the length of the first link $a_1 = 10$ and the second link $a_2 = 10$."
   ]
  },
  {
   "cell_type": "markdown",
   "id": "ce60ff5c",
   "metadata": {},
   "source": [
    "##### a. If $\\theta_1 = 45^{\\circ}$, $\\theta_2 = 45^{\\circ}$, find $x$ and $y$.\n",
    "$$ x = 10cos(90^{\\circ}) + 10cos(45^{\\circ}) = 5\\sqrt{2} $$\n",
    "\n",
    "$$ y = 10sin(90^{\\circ}) + 10sin(45^{\\circ}) = 10 + 5\\sqrt{2} $$"
   ]
  },
  {
   "cell_type": "markdown",
   "id": "cb0d1747",
   "metadata": {},
   "source": [
    "##### b. If $\\theta_1 = 45^{\\circ}$, $\\theta_2 = 45^{\\circ}$, $d\\theta_1/dt = 5^{\\circ}s^{-1}$, $d\\theta_2/dt = 10^{\\circ}s^{-1}$ find $dx/dt$ and $dy/dt$.\n",
    "$$ \\theta_1 = \\frac{\\pi}{4}, \\theta_2 = \\frac{\\pi}{4}, \\frac{d\\theta_1}{dt} = \\frac{\\pi}{36}s^{-1}, \\frac{d\\theta_2}{dt} = \\frac{\\pi}{18}s^{-1} $$\n",
    "\n",
    "$$ \\begin{pmatrix} \\frac{dx}{dt} \\\\ \\frac{dy}{dt} \\end{pmatrix} = \\begin{pmatrix}\n",
    "-10sin(\\frac{\\pi}{2}) - 10sin(\\frac{\\pi}{4}) & -10sin(\\frac{\\pi}{2})\\\\\n",
    "10cos(\\frac{\\pi}{2}) + 10cos(\\frac{\\pi}{4}) & 10cos(\\frac{\\pi}{2})\n",
    "\\end{pmatrix} \\begin{pmatrix} \\frac{\\pi}{36}s^{-1} \\\\ \\frac{\\pi}{18}s^{-1} \\end{pmatrix} $$\n",
    "\n",
    "$$ \\frac{dx}{dt} = \\frac{-5\\pi}{18}\\left(3 + \\frac{\\sqrt{2}}{2}\\right)s^{-1} $$\n",
    "\n",
    "$$ \\frac{dy}{dt} = \\frac{5\\pi\\sqrt{2}}{36}s^{-1} $$"
   ]
  },
  {
   "cell_type": "markdown",
   "id": "381b8a68",
   "metadata": {},
   "source": [
    "#### 11. Given the two link manipulator as above with the length of the first link $a_1 = 10$ and the second link $a_2 = 10$."
   ]
  },
  {
   "cell_type": "markdown",
   "id": "7e790f04",
   "metadata": {},
   "source": [
    "##### a. If $x = 10$, $y = 14$, find $\\theta_1$ and $\\theta_2$.\n",
    "$$ D = \\frac{10^2 + 14^2 - 10^2 - 10^2}{200} = 0.48 $$"
   ]
  },
  {
   "cell_type": "code",
   "execution_count": 37,
   "id": "01b13f6f",
   "metadata": {},
   "outputs": [
    {
     "name": "stdout",
     "output_type": "stream",
     "text": [
      "1.0701416143903084 rads  |  61.31459798588107 degs\n"
     ]
    }
   ],
   "source": [
    "t2 = atan(sqrt(1 - 0.48*0.48), 0.48)\n",
    "println(t2, \" rads  |  \", t2*180/pi, \" degs\")"
   ]
  },
  {
   "cell_type": "markdown",
   "id": "a3db0277",
   "metadata": {},
   "source": [
    "$$ \\theta_2 = tan^{-1}\\left(\\frac{\\pm\\sqrt{1 - 0.48^2}}{0.48}\\right) = 61.315^{\\circ} $$"
   ]
  },
  {
   "cell_type": "code",
   "execution_count": 38,
   "id": "95877378",
   "metadata": {},
   "outputs": [
    {
     "name": "stdout",
     "output_type": "stream",
     "text": [
      "0.41547603361692076 rads  |  23.80502321508507 degs\n"
     ]
    }
   ],
   "source": [
    "t1 = atan(14, 10) - atan(10*sin(t2), 10 + 10*cos(t2))\n",
    "println(t1, \" rads  |  \", t1*180/pi, \" degs\")"
   ]
  },
  {
   "cell_type": "markdown",
   "id": "e8449280",
   "metadata": {},
   "source": [
    "$$\\theta_1 = tan^{-1}\\left(\\frac{14}{10}\\right) - tan^{-1}\\left(\\frac{10sin(1.070)}{10 + 10cos(1.070)}\\right) = 23.805^{\\circ} $$"
   ]
  },
  {
   "cell_type": "markdown",
   "id": "a07da730",
   "metadata": {},
   "source": [
    "##### b. If $x = 10$, $y = 14$, $dx/dt = -0.25s^{-1}$, $dy/dt = 0.5s^{-1}$, find $d\\theta_1/dt$ and $d\\theta_2/dt$.\n",
    "$$ \\begin{pmatrix} \\frac{d\\theta_1}{dt} \\\\ \\frac{d\\theta_2}{dt} \\end{pmatrix} = \\frac{1}{100sin(1.070)} \\begin{pmatrix}\n",
    "10cos(0.415 + 1.070) & 10sin(0.415 + 1.070) \\\\\n",
    "-10cos(0.415 + 1.070) - 10cos(0.415) & -10sin(0.415 + 1.070) - 10sin(0.415)\n",
    "\\end{pmatrix} \\begin{pmatrix} -0.25s^{-1} \\\\ 0.5s^{-1} \\end{pmatrix} $$"
   ]
  },
  {
   "cell_type": "code",
   "execution_count": 39,
   "id": "98c54dc2",
   "metadata": {},
   "outputs": [
    {
     "name": "stdout",
     "output_type": "stream",
     "text": [
      "[0.054364008549266075, -0.05129558466609972]\n"
     ]
    }
   ],
   "source": [
    "det = 100*sin(t2)\n",
    "JfI = [10*cos(t1 + t2) 10*sin(t1 + t2); -10*cos(t1 + t2)-10*cos(t1) -10*sin(t1 + t2)-10*sin(t1)] / det\n",
    "v = [-0.25; 0.5]\n",
    "println(JfI * v)"
   ]
  },
  {
   "cell_type": "markdown",
   "id": "c353177a",
   "metadata": {},
   "source": [
    "$$ \\frac{d\\theta_1}{dt} = 0.0544s^{-1}, \\frac{d\\theta_2}{dt} = -0.0513s^{-1} $$"
   ]
  },
  {
   "cell_type": "markdown",
   "id": "6f8dbd17",
   "metadata": {},
   "source": [
    "#### 22. Modify the robot arm found in Fig. 3.6.1 where the base joint raises the arm by $d_1$ in the z direction. In addition, the joint mounts the arm along the rotation direction by $a_1$. When the base joint angle is zero, $\\theta_1 = 0$, the two link arms indicated by $a_2$, $a_3$ lie in the x-z plane. The latter two joints would have an axis of rotation parallel to the y axis (again when $\\theta_1 = 0$)."
   ]
  },
  {
   "cell_type": "markdown",
   "id": "0dea969a",
   "metadata": {},
   "source": [
    "##### a. What is the DH parameter table?\n",
    "<table style=\"font-size:15px;\">\n",
    "    <tr style=\"border-bottom:2px solid black;\">\n",
    "        <th style=\"text-align:center;\">Link</th>\n",
    "        <th style=\"text-align:center;\">$\\theta$</th>\n",
    "        <th style=\"text-align:center;\">$d$</th>\n",
    "        <th style=\"text-align:center;\">$a$</th>\n",
    "        <th style=\"text-align:center;\">$\\alpha$</th>\n",
    "    </tr>\n",
    "    <tr >\n",
    "        <td style=\"text-align:center;\">1</td>\n",
    "        <td style=\"text-align:center;\">$\\theta_1$</td>\n",
    "        <td style=\"text-align:center;\">$d_1$</td>\n",
    "        <td style=\"text-align:center;\">$a_1$</td>\n",
    "        <td style=\"text-align:center;\">$\\pi / 2$</td>\n",
    "    </tr>\n",
    "    <tr>\n",
    "        <td style=\"text-align:center;\">2</td>\n",
    "        <td style=\"text-align:center;\">$\\theta_2$</td>\n",
    "        <td style=\"text-align:center;\">$0$</td>\n",
    "        <td style=\"text-align:center;\">$a_2$</td>\n",
    "        <td style=\"text-align:center;\">$0$</td>\n",
    "    </tr>\n",
    "    <tr>\n",
    "        <td style=\"text-align:center;\">3</td>\n",
    "        <td style=\"text-align:center;\">$\\theta_3$</td>\n",
    "        <td style=\"text-align:center;\">$0$</td>\n",
    "        <td style=\"text-align:center;\">$a_3$</td>\n",
    "        <td style=\"text-align:center;\">$0$</td>\n",
    "    </tr>\n",
    "</table>"
   ]
  },
  {
   "cell_type": "markdown",
   "id": "8341c1b5",
   "metadata": {},
   "source": [
    "##### b. Write out the DH transformation matrices.\n",
    "$$\n",
    "A_1 = \\begin{pmatrix} cos(\\theta_1) & -sin(\\theta_1)cos(\\frac{\\pi}{2}) & sin(\\theta_1)sin(\\frac{\\pi}{2}) & a_1cos(\\theta_1) \\\\\n",
    "sin(\\theta_1) & cos(\\theta_1)cos(\\frac{\\pi}{2}) & -cos(\\theta_1)sin(\\frac{\\pi}{2}) & a_1sin(\\theta_1) \\\\\n",
    "0 & sin(\\frac{\\pi}{2}) & cos(\\frac{\\pi}{2}) & d_1 \\\\\n",
    "0 & 0 & 0 & 1 \\end{pmatrix} = \\begin{pmatrix} cos(\\theta_1) & 0 & sin(\\theta_1) & a_1cos(\\theta_1) \\\\\n",
    "sin(\\theta_1) & 0 & -cos(\\theta_1) & a_1sin(\\theta_1) \\\\\n",
    "0 & 1 & 0 & d_1 \\\\\n",
    "0 & 0 & 0 & 1 \\end{pmatrix}\n",
    "$$\n",
    "\n",
    "$$\n",
    "A_2 = \\begin{pmatrix} cos(\\theta_2) & -sin(\\theta_2)cos(0) & sin(\\theta_2)sin(0) & a_2cos(\\theta_2) \\\\\n",
    "sin(\\theta_2) & cos(\\theta_2)cos(0) & -cos(\\theta_2)sin(0) & a_2sin(\\theta_2) \\\\\n",
    "0 & sin(0) & cos(0) & 0 \\\\\n",
    "0 & 0 & 0 & 1 \\end{pmatrix} = \\begin{pmatrix} cos(\\theta_2) & -sin(\\theta_2) & 0 & a_2cos(\\theta_2) \\\\\n",
    "sin(\\theta_2) & cos(\\theta_2) & 0 & a_2sin(\\theta_2) \\\\\n",
    "0 & 0 & 1 & 0 \\\\\n",
    "0 & 0 & 0 & 1 \\end{pmatrix}\n",
    "$$\n",
    "\n",
    "$$\n",
    "A_3 = \\begin{pmatrix} cos(\\theta_3) & -sin(\\theta_3)cos(0) & sin(\\theta_3)sin(0) & a_3cos(\\theta_3) \\\\\n",
    "sin(\\theta_3) & cos(\\theta_3)cos(0) & -cos(\\theta_3)sin(0) & a_3sin(\\theta_3) \\\\\n",
    "0 & sin(0) & cos(0) & 0 \\\\\n",
    "0 & 0 & 0 & 1 \\end{pmatrix} = \\begin{pmatrix} cos(\\theta_3) & -sin(\\theta_3) & 0 & a_3cos(\\theta_3) \\\\\n",
    "sin(\\theta_3) & cos(\\theta_3) & 0 & a_3sin(\\theta_3) \\\\\n",
    "0 & 0 & 1 & 0 \\\\\n",
    "0 & 0 & 0 & 1 \\end{pmatrix}\n",
    "$$"
   ]
  },
  {
   "cell_type": "markdown",
   "id": "eb0eef59",
   "metadata": {},
   "source": [
    "##### c. Find the forward kinematics.\n",
    "$$\n",
    "T = \\begin{pmatrix} cos(\\theta_1) & 0 & sin(\\theta_1) & a_1cos(\\theta_1) \\\\\n",
    "sin(\\theta_1) & 0 & -cos(\\theta_1) & a_1sin(\\theta_1) \\\\\n",
    "0 & 1 & 0 & d_1 \\\\\n",
    "0 & 0 & 0 & 1 \\end{pmatrix} \\begin{pmatrix} cos(\\theta_2) & -sin(\\theta_2) & 0 & a_2cos(\\theta_2) \\\\\n",
    "sin(\\theta_2) & cos(\\theta_2) & 0 & a_2sin(\\theta_2) \\\\\n",
    "0 & 0 & 1 & 0 \\\\\n",
    "0 & 0 & 0 & 1 \\end{pmatrix} \\begin{pmatrix} cos(\\theta_3) & -sin(\\theta_3) & 0 & a_3cos(\\theta_3) \\\\\n",
    "sin(\\theta_3) & cos(\\theta_3) & 0 & a_3sin(\\theta_3) \\\\\n",
    "0 & 0 & 1 & 0 \\\\\n",
    "0 & 0 & 0 & 1 \\end{pmatrix}\n",
    "$$\n",
    "\n",
    "$$\n",
    "T = \\begin{pmatrix} cos(\\theta_1)cos(\\theta_2) & -cos(\\theta_1)sin(\\theta_2) & sin(\\theta_1) & a_2cos(\\theta_1)cos(\\theta_2) + a_1cos(\\theta_1) \\\\\n",
    "sin(\\theta_1)cos(\\theta_2) & -sin(\\theta_1)sin(\\theta_2) & -cos(\\theta_1) & a_2sin(\\theta_1)cos(\\theta_2) + a_1sin(\\theta_1) \\\\\n",
    "sin(\\theta_2) & cos(\\theta_2) & 0 & a_2sin(\\theta_2) + d_1 \\\\\n",
    "0 & 0 & 0 & 1 \\end{pmatrix} \\begin{pmatrix} cos(\\theta_3) & -sin(\\theta_3) & 0 & a_3cos(\\theta_3) \\\\\n",
    "sin(\\theta_3) & cos(\\theta_3) & 0 & a_3sin(\\theta_3) \\\\\n",
    "0 & 0 & 1 & 0 \\\\\n",
    "0 & 0 & 0 & 1 \\end{pmatrix}\n",
    "$$\n",
    "\n",
    "$$\n",
    "T = \\begin{pmatrix} c_1c_2c_3 -c_1s_2s_3 & -c_1c_2s_3 - c_1s_2c_3 & s_1 & a_3c_1c_2c_3 -a_3c_1s_2s_3 + a_2c_1c_2 + a_1c_1 \\\\\n",
    "s_1c_2c_3 -s_1s_2s_3 & -s_1c_2s_3 - s_1s_2c_3 & -c_1 & a_3s_1c_2c_3 -a_3s_1s_2s_3 + a_2s_1c_2 + a_1s_1 \\\\\n",
    "s_2c_3 + c_2s_3 & -s_2s_3 + c_2c_3 & 0 & a_3s_2c_3 + a_3c_2s_3 + a_2s_2 + d_1 \\\\\n",
    "0 & 0 & 0 & 1 \\end{pmatrix}\n",
    "$$\n",
    "\n",
    "$$\n",
    "T = \\begin{pmatrix} c_1c_{23} & -c_1s_{23} & s_1 & (a_3c_{23} + a_2c_2 + a_1)c_1 \\\\\n",
    "s_1c_{23} & -s_1s_{23} & -c_1 & (a_3c_{23} + a_2c_2 + a_1)s_1 \\\\\n",
    "s_{23} & c_{23} & 0 & a_3s_{23} + a_2s_2 + d_1 \\\\\n",
    "0 & 0 & 0 & 1 \\end{pmatrix}\n",
    "$$"
   ]
  },
  {
   "cell_type": "markdown",
   "id": "45a6f85d",
   "metadata": {},
   "source": [
    "#### 23. For the robotic arm found in Fig. 3.6.6, the distance $d_1$ is constant where $a_2$, $a_3$ can vary."
   ]
  },
  {
   "cell_type": "markdown",
   "id": "474c09f6",
   "metadata": {},
   "source": [
    "##### a. What is the DH parameter table?\n",
    "<table style=\"font-size:15px;\">\n",
    "    <tr style=\"border-bottom:2px solid black;\">\n",
    "        <th style=\"text-align:center;\">Link</th>\n",
    "        <th style=\"text-align:center;\">$\\theta$</th>\n",
    "        <th style=\"text-align:center;\">$d$</th>\n",
    "        <th style=\"text-align:center;\">$a$</th>\n",
    "        <th style=\"text-align:center;\">$\\alpha$</th>\n",
    "    </tr>\n",
    "    <tr >\n",
    "        <td style=\"text-align:center;\">2</td>\n",
    "        <td style=\"text-align:center;\">$\\theta_1$</td>\n",
    "        <td style=\"text-align:center;\">$d_1$</td>\n",
    "        <td style=\"text-align:center;\">$a_2$</td>\n",
    "        <td style=\"text-align:center;\">$-\\pi / 2$</td>\n",
    "    </tr>\n",
    "    <tr>\n",
    "        <td style=\"text-align:center;\">3</td>\n",
    "        <td style=\"text-align:center;\">$\\pi / 2$</td>\n",
    "        <td style=\"text-align:center;\">$0$</td>\n",
    "        <td style=\"text-align:center;\">$a_3$</td>\n",
    "        <td style=\"text-align:center;\">$0$</td>\n",
    "    </tr>\n",
    "</table>"
   ]
  },
  {
   "cell_type": "markdown",
   "id": "eb67de36",
   "metadata": {},
   "source": [
    "##### b. Write out the DH transformation matrices.\n",
    "$$\n",
    "A_2 = \\begin{pmatrix} cos(\\theta_1) & -sin(\\theta_1)cos(\\frac{-\\pi}{2}) & sin(\\theta_1)sin(\\frac{-\\pi}{2}) & a_2cos(\\theta_1) \\\\\n",
    "sin(\\theta_1) & cos(\\theta_1)cos(\\frac{-\\pi}{2}) & -cos(\\theta_1)sin(\\frac{-\\pi}{2}) & a_2sin(\\theta_1) \\\\\n",
    "0 & sin(\\frac{-\\pi}{2}) & cos(\\frac{-\\pi}{2}) & d_1 \\\\\n",
    "0 & 0 & 0 & 1 \\end{pmatrix} = \\begin{pmatrix} cos(\\theta_1) & 0 & -sin(\\theta_1) & a_2cos(\\theta_1) \\\\\n",
    "sin(\\theta_1) & 0 & cos(\\theta_1) & a_2sin(\\theta_1) \\\\\n",
    "0 & -1 & 0 & d_1 \\\\\n",
    "0 & 0 & 0 & 1 \\end{pmatrix}\n",
    "$$\n",
    "\n",
    "$$\n",
    "A_3 = \\begin{pmatrix} cos(\\frac{\\pi}{2}) & -sin(\\frac{\\pi}{2})cos(0) & sin(\\frac{\\pi}{2})sin(0) & a_3cos(\\frac{\\pi}{2}) \\\\\n",
    "sin(\\frac{\\pi}{2}) & cos(\\frac{\\pi}{2})cos(0) & -cos(\\frac{\\pi}{2})sin(0) & a_3sin(\\frac{\\pi}{2}) \\\\\n",
    "0 & sin(0) & cos(0) & 0 \\\\\n",
    "0 & 0 & 0 & 1 \\end{pmatrix} = \\begin{pmatrix} 0 & -1 & 0 & 0 \\\\\n",
    "1 & 0 & 0 & a_3 \\\\\n",
    "0 & 0 & 1 & 0 \\\\\n",
    "0 & 0 & 0 & 1 \\end{pmatrix}\n",
    "$$"
   ]
  },
  {
   "cell_type": "markdown",
   "id": "d2f5719a",
   "metadata": {},
   "source": [
    "##### c. Find the forward kinematics.\n",
    "$$\n",
    "T = \\begin{pmatrix} cos(\\theta_1) & 0 & -sin(\\theta_1) & a_2cos(\\theta_1) \\\\\n",
    "sin(\\theta_1) & 0 & cos(\\theta_1) & a_2sin(\\theta_1) \\\\\n",
    "0 & -1 & 0 & d_1 \\\\\n",
    "0 & 0 & 0 & 1 \\end{pmatrix} \\begin{pmatrix} 0 & -1 & 0 & 0 \\\\\n",
    "1 & 0 & 0 & a_3 \\\\\n",
    "0 & 0 & 1 & 0 \\\\\n",
    "0 & 0 & 0 & 1 \\end{pmatrix}\n",
    "$$\n",
    "\n",
    "$$\n",
    "T = \\begin{pmatrix} 0 & -cos(\\theta_1) & -sin(\\theta_1) & a_2cos(\\theta_1) \\\\\n",
    "0 & -sin(\\theta_1) & cos(\\theta_1) & a_2sin(\\theta_1) \\\\\n",
    "-1 & 0 & 0 & d_1 - a_3 \\\\\n",
    "0 & 0 & 0 & 1 \\end{pmatrix}\n",
    "$$"
   ]
  },
  {
   "cell_type": "markdown",
   "id": "f732fc65",
   "metadata": {},
   "source": [
    "#### 26. For the differential drive robot, let $r = 10$, $L = 15$, $\\dot\\phi_1 = 0.9$, $\\dot\\phi_2 = 1.2$."
   ]
  },
  {
   "cell_type": "markdown",
   "id": "b9502606",
   "metadata": {},
   "source": [
    "##### a. What is the angular velocity of the robot?\n",
    "$$ \\dot\\theta = \\frac{10}{2 \\cdot 15}(0.9 - 1.2) = -0.1s^{-1} $$"
   ]
  },
  {
   "cell_type": "markdown",
   "id": "d710242d",
   "metadata": {},
   "source": [
    "##### b. What is the velocity vector for the robot when $\\theta = 45^{\\circ}$?\n",
    "$$ v = \\frac{10}{2}(0.9 + 1.2) \\begin{pmatrix} cos(45^{\\circ}) \\\\ sin(45^{\\circ}) \\end{pmatrix} = \\frac{21\\sqrt{2}}{4} \\begin{pmatrix} 1 \\\\ 1 \\end{pmatrix} $$"
   ]
  },
  {
   "cell_type": "markdown",
   "id": "4a12134e",
   "metadata": {},
   "source": [
    "#### 27. Let $r = 10$, $L = 15$. If you program the robot to drive straight and the robot traces out a circle of diameter 3 while traveling 1$s^{-1}$, what are the two wheel speeds?"
   ]
  },
  {
   "cell_type": "markdown",
   "id": "d02ee8e8",
   "metadata": {},
   "source": [
    "$$ t = \\frac{2\\pi\\frac{3}{2}}{1} = 3\\pi $$\n",
    "\n",
    "$$ \\dot x_1 = \\frac{2\\pi\\frac{3 + 15}{2}}{3\\pi} = 6 $$\n",
    "\n",
    "$$ \\dot\\phi_1 = \\frac{6}{10} = \\frac{3}{5} $$\n",
    "\n",
    "$$ \\dot\\phi_2 = 2\\frac{1}{10} - \\frac{3}{5} = \\frac{-2}{5} $$"
   ]
  },
  {
   "cell_type": "code",
   "execution_count": null,
   "id": "c5dfbf43",
   "metadata": {},
   "outputs": [],
   "source": []
  }
 ],
 "metadata": {
  "kernelspec": {
   "display_name": "Julia 1.6.2",
   "language": "julia",
   "name": "julia-1.6"
  },
  "language_info": {
   "file_extension": ".jl",
   "mimetype": "application/julia",
   "name": "julia",
   "version": "1.6.2"
  }
 },
 "nbformat": 4,
 "nbformat_minor": 5
}

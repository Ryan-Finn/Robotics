{
 "cells": [
  {
   "cell_type": "markdown",
   "id": "1eccdf86",
   "metadata": {},
   "source": [
    "### Manipulator Jacobians\n",
    "\n",
    "This Notebook gives examples of computations with the Jacobian.\n",
    "\n",
    "This Notebook uses a couple of packages...\n",
    "\n",
    "import Pkg ; Pkg.add(\"NLsolve\")"
   ]
  },
  {
   "cell_type": "code",
   "execution_count": 2,
   "id": "2c972d53",
   "metadata": {},
   "outputs": [],
   "source": [
    "using LinearAlgebra\n",
    "using NLsolve\n",
    "using Plots"
   ]
  },
  {
   "cell_type": "markdown",
   "id": "e75699a9",
   "metadata": {},
   "source": [
    "We begin with the Two Link manipulator.  The forward kinematics is "
   ]
  },
  {
   "cell_type": "code",
   "execution_count": 3,
   "id": "ad2b74d6",
   "metadata": {},
   "outputs": [
    {
     "data": {
      "text/plain": [
       "FK (generic function with 1 method)"
      ]
     },
     "execution_count": 3,
     "metadata": {},
     "output_type": "execute_result"
    }
   ],
   "source": [
    "function FK(θ1, θ2, a1, a2)\n",
    "    x = a2*cos(θ1+θ2) + a1*cos(θ1)\n",
    "    y = a2*sin(θ1+θ2) + a1*sin(θ1)\n",
    "    return x,y\n",
    "end"
   ]
  },
  {
   "cell_type": "markdown",
   "id": "f7a18d98",
   "metadata": {},
   "source": [
    "And the Jacobian is "
   ]
  },
  {
   "cell_type": "code",
   "execution_count": 4,
   "id": "66d2071b",
   "metadata": {},
   "outputs": [
    {
     "data": {
      "text/plain": [
       "FKJ (generic function with 1 method)"
      ]
     },
     "execution_count": 4,
     "metadata": {},
     "output_type": "execute_result"
    }
   ],
   "source": [
    "function FKJ(θ1, θ2, a1, a2)\n",
    "    j11 = -a2*sin(θ1+θ2) - a1*sin(θ1)\n",
    "    j12 = -a2*sin(θ1+θ2)\n",
    "    j21 = a2*cos(θ1+θ2) + a1*cos(θ1)\n",
    "    j22 = a2*cos(θ1+θ2)\n",
    "    J = [ j11 j12 ; j21 j22]\n",
    "    return J\n",
    "end"
   ]
  },
  {
   "cell_type": "markdown",
   "id": "41e89fa4",
   "metadata": {},
   "source": [
    "We can see how this works by a simple command:"
   ]
  },
  {
   "cell_type": "code",
   "execution_count": 5,
   "id": "81a2eb3a",
   "metadata": {},
   "outputs": [
    {
     "data": {
      "text/plain": [
       "2×2 Matrix{Float64}:\n",
       " -3.95354  -2.9552\n",
       " 19.5034    9.55336"
      ]
     },
     "execution_count": 5,
     "metadata": {},
     "output_type": "execute_result"
    }
   ],
   "source": [
    "J = FKJ(0.1, 0.2, 10, 10)"
   ]
  },
  {
   "cell_type": "markdown",
   "id": "ccb2a72c",
   "metadata": {},
   "source": [
    "If joint velocities are [5,10], then the manipulator velocity is"
   ]
  },
  {
   "cell_type": "code",
   "execution_count": 6,
   "id": "884d19b6",
   "metadata": {},
   "outputs": [
    {
     "data": {
      "text/plain": [
       "2-element Vector{Float64}:\n",
       " -49.319701831542346\n",
       " 193.05068163274217"
      ]
     },
     "execution_count": 6,
     "metadata": {},
     "output_type": "execute_result"
    }
   ],
   "source": [
    "qdot = [5,10]\n",
    "v = J*qdot"
   ]
  },
  {
   "cell_type": "markdown",
   "id": "df3be5ef",
   "metadata": {},
   "source": [
    "We can extract the joint velocity from the linear velocity"
   ]
  },
  {
   "cell_type": "code",
   "execution_count": 7,
   "id": "2c11c783",
   "metadata": {},
   "outputs": [
    {
     "data": {
      "text/plain": [
       "2-element Vector{Float64}:\n",
       "  5.0\n",
       " 10.0"
      ]
     },
     "execution_count": 7,
     "metadata": {},
     "output_type": "execute_result"
    }
   ],
   "source": [
    "inv(J)*v"
   ]
  },
  {
   "cell_type": "markdown",
   "id": "a45b240a",
   "metadata": {},
   "source": [
    "We can numerically extract the inverse kinematics.  First a couple of measurement functions"
   ]
  },
  {
   "cell_type": "code",
   "execution_count": 8,
   "id": "328b1c38",
   "metadata": {},
   "outputs": [
    {
     "data": {
      "text/plain": [
       "size (generic function with 1 method)"
      ]
     },
     "execution_count": 8,
     "metadata": {},
     "output_type": "execute_result"
    }
   ],
   "source": [
    "function distance(x1, y1, x2, y2)\n",
    "    d = sqrt((x1-x2)^2 + (y1-y2)^2)\n",
    "    return d\n",
    "end\n",
    "\n",
    "function size(v1,v2)\n",
    "    size = sqrt(v1*v1+v2*v2)\n",
    "    return size\n",
    "end"
   ]
  },
  {
   "cell_type": "markdown",
   "id": "fccb23f7",
   "metadata": {},
   "source": [
    "Then we can implement the algorithm in the text:"
   ]
  },
  {
   "cell_type": "code",
   "execution_count": 9,
   "id": "c23bd493",
   "metadata": {},
   "outputs": [
    {
     "name": "stdout",
     "output_type": "stream",
     "text": [
      "k = 9991 :  θ1 = -4.7325598383486085,   θ2 = 4.934176707104502,  x = 9.999135648651585,  y = 12.00050284587803\n"
     ]
    }
   ],
   "source": [
    "x = 10\n",
    "y = 12\n",
    "θ1 = 0.1\n",
    "θ2 = 0.2\n",
    "a1 = a2 = 10\n",
    "δ, k = 0.1, 0\n",
    "xc, yc = FK(θ1, θ2, a1, a2)\n",
    "d = distance(x, y, xc, yc)\n",
    "\n",
    "while d > .001\n",
    "    vx = x - xc\n",
    "    vy = y - yc\n",
    "    s = δ*size(vx, vy)\n",
    "    ux = s*vx\n",
    "    uy = s*vy\n",
    "    J = FKJ(θ1, θ2, a1, a2)\n",
    "    u = [ux, uy]\n",
    "    w = J\\u\n",
    "    θ1 = θ1 + w[1]\n",
    "    θ2 = θ2 + w[2]\n",
    "    xc, yc = FK(θ1, θ2, a1, a2)\n",
    "    d = distance(x, y, xc, yc)\n",
    "    k += 1\n",
    "end\n",
    "θ1 = θ1 - 2*π*trunc(θ1/(2*π))\n",
    "θ2 = θ2 - 2*π*trunc(θ2/(2*π))\n",
    "println(\"k = \", k, \" :  θ1 = \", θ1, \",   θ2 = \", θ2, \",  x = \", xc, \",  y = \", yc)"
   ]
  },
  {
   "cell_type": "markdown",
   "id": "513e19ba",
   "metadata": {},
   "source": [
    "This works, but is really slow (convergence) so we try a Newton based algorithm.  It also needs the Jacobian.  The NLsolve package solves systems of nonlinear equations. Formally, if F is a multivalued function, then this package looks for some vector x that satisfies F(x)=0 to some accuracy.   Using the NLsolve package it is a simple rewrite:"
   ]
  },
  {
   "cell_type": "code",
   "execution_count": 10,
   "id": "f3e5cdd1",
   "metadata": {},
   "outputs": [
    {
     "data": {
      "text/plain": [
       "Results of Nonlinear Solver Algorithm\n",
       " * Algorithm: Trust-region with dogleg and autoscaling\n",
       " * Starting Point: [0.5, 0.2]\n",
       " * Zero: [0.20156712244914232, 1.3489818562981022]\n",
       " * Inf-norm of residuals: 0.000000\n",
       " * Iterations: 5\n",
       " * Convergence: true\n",
       "   * |x - x'| < 0.0e+00: false\n",
       "   * |f(x)| < 1.0e-08: true\n",
       " * Function Calls (f): 6\n",
       " * Jacobian Calls (df/dx): 6"
      ]
     },
     "execution_count": 10,
     "metadata": {},
     "output_type": "execute_result"
    }
   ],
   "source": [
    "function f!(F, x)\n",
    "    F[1] = 10*cos(x[1]+x[2]) + 10*cos(x[1]) - 10\n",
    "    F[2] = 10*sin(x[1]+x[2]) + 10*sin(x[1]) - 12\n",
    "end\n",
    "\n",
    "\n",
    "function j!(J, x)\n",
    "    J[1, 1] = -10*sin(x[1]+x[2]) - 10*sin(x[1])\n",
    "    J[1, 2] = -10*sin(x[1]+x[2])\n",
    "    J[2, 1] = 10*cos(x[1]+x[2]) + 10*cos(x[1])\n",
    "    J[2, 2] = 10*cos(x[1]+x[2])\n",
    "end\n",
    "\n",
    "res = nlsolve(f!, j!, [ 0.5; 0.2])"
   ]
  },
  {
   "cell_type": "markdown",
   "id": "a231c827",
   "metadata": {},
   "source": [
    "What is up with the \"!\".  This is a Julia convention to indicate that the function modifies its arguments but does not affect the function semantics otherwise.   Numerical solutions to equations is a whole subject and we will move on for now.\n",
    "\n",
    "How about a simple extension to the three link manipulator?  In the following cells we try the same approach."
   ]
  },
  {
   "cell_type": "code",
   "execution_count": 31,
   "id": "0347c411",
   "metadata": {},
   "outputs": [
    {
     "data": {
      "text/plain": [
       "f! (generic function with 1 method)"
      ]
     },
     "execution_count": 31,
     "metadata": {},
     "output_type": "execute_result"
    }
   ],
   "source": [
    "function threelink!(F, x)\n",
    "    a1 = 10\n",
    "    a2 = 10\n",
    "    a3 = 10\n",
    "    F[1] = a3*cos(x[1] + x[2] + x[3]) + a2*cos(x[1] + x[2]) + a1*cos(x[1])\n",
    "    F[2] = a3*sin(x[1] + x[2] + x[3]) + a2*sin(x[1] + x[2]) + a1*sin(x[1])\n",
    "    return F\n",
    "end\n",
    "\n",
    "function f!(F, x)\n",
    "    G = threelink!(F, x)\n",
    "    F[1] = G[1]-20\n",
    "    F[2] = G[2]-25\n",
    "    return F\n",
    "end"
   ]
  },
  {
   "cell_type": "code",
   "execution_count": 32,
   "id": "0be6e3fc",
   "metadata": {},
   "outputs": [
    {
     "data": {
      "text/plain": [
       "j! (generic function with 1 method)"
      ]
     },
     "execution_count": 32,
     "metadata": {},
     "output_type": "execute_result"
    }
   ],
   "source": [
    "function j!(J,x)\n",
    "  a1 = 10\n",
    "  a2 = 10\n",
    "  a3 = 10\n",
    "  J[1,1] = -a3*sin(x[1] + x[2] + x[3])- a2*sin(x[1] + x[2]) - a1*sin(x[1]) \n",
    "  J[1,2] = -a3*sin(x[1] + x[2] + x[3])- a2*sin(x[1] + x[2])  \n",
    "  J[1,3] = -a3*sin(x[1] + x[2] + x[3])\n",
    "  J[2,1] =  a3*cos(x[1] + x[2] + x[3])+ a2*cos(x[1] + x[2]) + a1*cos(x[1]) \n",
    "  J[2,2] =  a3*cos(x[1] + x[2] + x[3])+ a2*cos(x[1] + x[2])  \n",
    "  J[2,3] =  a3*cos(x[1] + x[2] + x[3]) \n",
    "  return J\n",
    "end"
   ]
  },
  {
   "cell_type": "code",
   "execution_count": 33,
   "id": "302ba64f",
   "metadata": {},
   "outputs": [
    {
     "data": {
      "text/plain": [
       "Results of Nonlinear Solver Algorithm\n",
       " * Algorithm: Trust-region with dogleg and autoscaling\n",
       " * Starting Point: [0.1, 0.2, 0.3]\n",
       " * Zero: [NaN, NaN, NaN]\n",
       " * Inf-norm of residuals: 15.400039\n",
       " * Iterations: 1\n",
       " * Convergence: false\n",
       "   * |x - x'| < 0.0e+00: false\n",
       "   * |f(x)| < 1.0e-08: false\n",
       " * Function Calls (f): 2\n",
       " * Jacobian Calls (df/dx): 1"
      ]
     },
     "execution_count": 33,
     "metadata": {},
     "output_type": "execute_result"
    }
   ],
   "source": [
    "res = nlsolve(f!, j!, [ 0.1; 0.2; 0.3])"
   ]
  },
  {
   "cell_type": "markdown",
   "id": "d3554145",
   "metadata": {},
   "source": [
    "What went wrong?  (The other algorithm fails also.)\n",
    "\n",
    "The problem is that the Jacobian is not square and so not invertable.  "
   ]
  },
  {
   "cell_type": "code",
   "execution_count": 34,
   "id": "7e757acd",
   "metadata": {},
   "outputs": [
    {
     "data": {
      "text/plain": [
       "2×3 Matrix{Float64}:\n",
       " -9.59996  -8.60163  -5.64642\n",
       " 27.7568   17.8067    8.25336"
      ]
     },
     "execution_count": 34,
     "metadata": {},
     "output_type": "execute_result"
    }
   ],
   "source": [
    "J = zeros(2,3)\n",
    "x = zeros(3)\n",
    "x[1] = 0.1\n",
    "x[2] = 0.2\n",
    "x[3] = 0.3\n",
    "J = j!(J,x)"
   ]
  },
  {
   "cell_type": "markdown",
   "id": "4eda5a31",
   "metadata": {},
   "source": [
    "We need to apply the Pseudoinverse ...  which is done via the SVD:"
   ]
  },
  {
   "cell_type": "code",
   "execution_count": 15,
   "id": "6b893f0e",
   "metadata": {},
   "outputs": [
    {
     "data": {
      "text/plain": [
       "SVD{Float64, Float64, Matrix{Float64}}\n",
       "U factor:\n",
       "2×2 Matrix{Float64}:\n",
       " -0.376531  0.926404\n",
       "  0.926404  0.376531\n",
       "singular values:\n",
       "2-element Vector{Float64}:\n",
       " 36.676045086337375\n",
       "  2.920982783501565\n",
       "Vt factor:\n",
       "3×3 Matrix{Float64}:\n",
       " 0.799668   0.53809    0.266441\n",
       " 0.533326  -0.432663  -0.726888\n",
       " 0.275852  -0.723369   0.632964"
      ]
     },
     "execution_count": 15,
     "metadata": {},
     "output_type": "execute_result"
    }
   ],
   "source": [
    "R = svd(J, full = true)"
   ]
  },
  {
   "cell_type": "markdown",
   "id": "ed71af69",
   "metadata": {},
   "source": [
    "You can access each via:"
   ]
  },
  {
   "cell_type": "code",
   "execution_count": 16,
   "id": "2c3e7980",
   "metadata": {},
   "outputs": [
    {
     "data": {
      "text/plain": [
       "2×2 Matrix{Float64}:\n",
       " -0.376531  0.926404\n",
       "  0.926404  0.376531"
      ]
     },
     "execution_count": 16,
     "metadata": {},
     "output_type": "execute_result"
    }
   ],
   "source": [
    "R.U"
   ]
  },
  {
   "cell_type": "code",
   "execution_count": 17,
   "id": "29aa5fc0",
   "metadata": {},
   "outputs": [
    {
     "data": {
      "text/plain": [
       "2-element Vector{Float64}:\n",
       " 36.676045086337375\n",
       "  2.920982783501565"
      ]
     },
     "execution_count": 17,
     "metadata": {},
     "output_type": "execute_result"
    }
   ],
   "source": [
    "R.S"
   ]
  },
  {
   "cell_type": "code",
   "execution_count": 18,
   "id": "670d85f7",
   "metadata": {},
   "outputs": [
    {
     "data": {
      "text/plain": [
       "3×3 Matrix{Float64}:\n",
       " 0.799668   0.53809    0.266441\n",
       " 0.533326  -0.432663  -0.726888\n",
       " 0.275852  -0.723369   0.632964"
      ]
     },
     "execution_count": 18,
     "metadata": {},
     "output_type": "execute_result"
    }
   ],
   "source": [
    "R.Vt"
   ]
  },
  {
   "cell_type": "markdown",
   "id": "68c85d22",
   "metadata": {},
   "source": [
    "We should check if this is correct..."
   ]
  },
  {
   "cell_type": "code",
   "execution_count": 19,
   "id": "5c236e10",
   "metadata": {},
   "outputs": [
    {
     "data": {
      "text/plain": [
       "2×3 Matrix{Float64}:\n",
       " -9.59996  -8.60163  -5.64642\n",
       " 27.7568   17.8067    8.25336"
      ]
     },
     "execution_count": 19,
     "metadata": {},
     "output_type": "execute_result"
    }
   ],
   "source": [
    "R.U*Diagonal(R.S)*R.Vt[1:2,:]"
   ]
  },
  {
   "cell_type": "code",
   "execution_count": 20,
   "id": "1f1b869f",
   "metadata": {},
   "outputs": [
    {
     "data": {
      "text/plain": [
       "2×3 Matrix{Float64}:\n",
       " -9.59996  -8.60163  -5.64642\n",
       " 27.7568   17.8067    8.25336"
      ]
     },
     "execution_count": 20,
     "metadata": {},
     "output_type": "execute_result"
    }
   ],
   "source": [
    "J"
   ]
  },
  {
   "cell_type": "markdown",
   "id": "153a434a",
   "metadata": {},
   "source": [
    "The transpose has shorthand here:"
   ]
  },
  {
   "cell_type": "code",
   "execution_count": 21,
   "id": "11760a4f",
   "metadata": {},
   "outputs": [
    {
     "data": {
      "text/plain": [
       "2×2 adjoint(::Matrix{Float64}) with eltype Float64:\n",
       " -0.376531  0.926404\n",
       "  0.926404  0.376531"
      ]
     },
     "execution_count": 21,
     "metadata": {},
     "output_type": "execute_result"
    }
   ],
   "source": [
    "R.U'"
   ]
  },
  {
   "cell_type": "markdown",
   "id": "3dbf24e5",
   "metadata": {},
   "source": [
    "The pseudoinverse is done via the SVD ...  $(R.U * R.S * R.Vt)^+ = R.Vt' * R.S^+ * R.U'$ :"
   ]
  },
  {
   "cell_type": "code",
   "execution_count": 22,
   "id": "af7b2c74",
   "metadata": {},
   "outputs": [
    {
     "data": {
      "text/plain": [
       "3×2 Matrix{Float64}:\n",
       "  0.160937   0.0889476\n",
       " -0.142745  -0.042181\n",
       " -0.233271  -0.0869698"
      ]
     },
     "execution_count": 22,
     "metadata": {},
     "output_type": "execute_result"
    }
   ],
   "source": [
    "JI = R.Vt'[:,1:2] * inv(Diagonal(R.S)) * (R.U')"
   ]
  },
  {
   "cell_type": "markdown",
   "id": "0afd0cc3",
   "metadata": {},
   "source": [
    "There is shorthand for this"
   ]
  },
  {
   "cell_type": "code",
   "execution_count": 23,
   "id": "eb467bca",
   "metadata": {},
   "outputs": [
    {
     "data": {
      "text/plain": [
       "3×2 Matrix{Float64}:\n",
       "  0.160937   0.0889476\n",
       " -0.142745  -0.042181\n",
       " -0.233271  -0.0869698"
      ]
     },
     "execution_count": 23,
     "metadata": {},
     "output_type": "execute_result"
    }
   ],
   "source": [
    "pinv(J)"
   ]
  },
  {
   "cell_type": "markdown",
   "id": "a60b334c",
   "metadata": {},
   "source": [
    "We can solve $v = Jw$ for w without explicitly constructing the SVD via"
   ]
  },
  {
   "cell_type": "code",
   "execution_count": 24,
   "id": "759219d8",
   "metadata": {},
   "outputs": [
    {
     "data": {
      "text/plain": [
       "3-element Vector{Float64}:\n",
       "  0.2498849634737422\n",
       " -0.1849263745337319\n",
       " -0.3202412715082181"
      ]
     },
     "execution_count": 24,
     "metadata": {},
     "output_type": "execute_result"
    }
   ],
   "source": [
    "v = [1,1]\n",
    "w = pinv(J)*v"
   ]
  },
  {
   "cell_type": "markdown",
   "id": "4bd8a002",
   "metadata": {},
   "source": [
    "The Nullspace is given by the rows corresponding to zero singular values (missing from S):"
   ]
  },
  {
   "cell_type": "code",
   "execution_count": 25,
   "id": "69d50b96",
   "metadata": {},
   "outputs": [
    {
     "data": {
      "text/plain": [
       "3-element Vector{Float64}:\n",
       "  0.2758517139131134\n",
       " -0.7233688499214922\n",
       "  0.6329639317484492"
      ]
     },
     "execution_count": 25,
     "metadata": {},
     "output_type": "execute_result"
    }
   ],
   "source": [
    "N = R.Vt[3,:]"
   ]
  },
  {
   "cell_type": "markdown",
   "id": "256f080a",
   "metadata": {},
   "source": [
    "This can be done without explicit construction of the SVD and there is shorthand ..."
   ]
  },
  {
   "cell_type": "code",
   "execution_count": 26,
   "id": "f4d73f24",
   "metadata": {},
   "outputs": [
    {
     "data": {
      "text/plain": [
       "3×1 Matrix{Float64}:\n",
       "  0.2758517139131134\n",
       " -0.7233688499214922\n",
       "  0.6329639317484492"
      ]
     },
     "execution_count": 26,
     "metadata": {},
     "output_type": "execute_result"
    }
   ],
   "source": [
    "nullspace(J)"
   ]
  },
  {
   "cell_type": "code",
   "execution_count": 27,
   "id": "93a9432c",
   "metadata": {},
   "outputs": [
    {
     "name": "stdout",
     "output_type": "stream",
     "text": [
      "q = [0.2, 0.3, 0.4]\n",
      "p = [24.792591080022788, 14.614217790267476]\n",
      "\n",
      "q = [0.22860034206241422; 0.22725784662552911; 0.46233799667924036]\n",
      "0.09997712875264583\n",
      "p = [24.791223757009032, 14.613550691308028]\n",
      "\n",
      "q = [0.2883526287801771, 0.3479053736743941, 0.41460851224670286]\n",
      "0.10156042767393793\n",
      "p = [22.598577115780266, 17.464171338268127]\n"
     ]
    }
   ],
   "source": [
    "F = zeros(2)\n",
    "x = zeros(3)\n",
    "\n",
    "x=[0.2, 0.3, 0.4]\n",
    "δ = 0.01\n",
    "F = threelink(F,x)\n",
    "print(\"q = \")\n",
    "println(x)\n",
    "print(\"p = \")\n",
    "println(F, \"\\n\")\n",
    "\n",
    "x1 = x\n",
    "for i in 1:10\n",
    "    J = j!(J,x1)\n",
    "    v = nullspace(J)\n",
    "    x1 = x1 + δ*v\n",
    "end\n",
    "F = threelink(F,x1)\n",
    "print(\"q = \")\n",
    "println(x1)\n",
    "println(norm(x - x1))\n",
    "print(\"p = \")\n",
    "println(F, \"\\n\")\n",
    "\n",
    "x2 = x + pinv(J)*[-2,3]\n",
    "F = threelink(F,x2)\n",
    "print(\"q = \")\n",
    "println(x2)\n",
    "println(norm(x - x2))\n",
    "print(\"p = \")\n",
    "println(F)"
   ]
  },
  {
   "cell_type": "markdown",
   "id": "3fab6fcf",
   "metadata": {},
   "source": [
    "We can put this together..."
   ]
  },
  {
   "cell_type": "code",
   "execution_count": 28,
   "id": "f5c5541a",
   "metadata": {},
   "outputs": [
    {
     "data": {
      "text/plain": [
       "arm (generic function with 1 method)"
      ]
     },
     "execution_count": 28,
     "metadata": {},
     "output_type": "execute_result"
    }
   ],
   "source": [
    "function arm(θ1,θ2,θ3)\n",
    "    x1 = 10*cos(θ1)\n",
    "    y1 = 10*sin(θ1)\n",
    "    x2 = x1 + 10*cos(θ1+θ2)\n",
    "    y2 = y1 + 10*sin(θ1+θ2)\n",
    "    x3 = x2 + 10*cos(θ1+θ2+θ3)\n",
    "    y3 = y2 + 10*sin(θ1+θ2+θ3)\n",
    "    return x1,x2,x3,y1,y2,y3\n",
    "end"
   ]
  },
  {
   "cell_type": "code",
   "execution_count": 29,
   "id": "52ede8bf",
   "metadata": {},
   "outputs": [],
   "source": [
    "N = 100\n",
    "F = zeros(2)\n",
    "x = zeros(3)\n",
    "w = zeros(3)\n",
    "J = zeros(2,3)\n",
    "q1 = zeros(N)\n",
    "q2 = zeros(N)\n",
    "q3 = zeros(N)\n",
    "p1 = zeros(N)\n",
    "p2 = zeros(N)\n",
    "x = [0, 2*π/3, -3π/4]\n",
    "F = threelink(F, x)\n",
    "\n",
    "for i in 1:N\n",
    "    J = j!(J,x)\n",
    "    v = 0.1*[-sin(i/N), 2*cos(i/N)]\n",
    "    w = pinv(J)*v\n",
    "    x = x + w\n",
    "    F = threelink(F, x)\n",
    "    q1[i] = x[1]\n",
    "    q2[i] = x[2]\n",
    "    q3[i] = x[3]\n",
    "    p1[i] = F[1]\n",
    "    p2[i] = F[2]\n",
    "end"
   ]
  },
  {
   "cell_type": "code",
   "execution_count": 30,
   "id": "fd6dbfa3",
   "metadata": {},
   "outputs": [
    {
     "data": {
      "image/svg+xml": [
       "<?xml version=\"1.0\" encoding=\"utf-8\"?>\n",
       "<svg xmlns=\"http://www.w3.org/2000/svg\" xmlns:xlink=\"http://www.w3.org/1999/xlink\" width=\"600\" height=\"400\" viewBox=\"0 0 2400 1600\">\n",
       "<defs>\n",
       "  <clipPath id=\"clip750\">\n",
       "    <rect x=\"0\" y=\"0\" width=\"2400\" height=\"1600\"/>\n",
       "  </clipPath>\n",
       "</defs>\n",
       "<path clip-path=\"url(#clip750)\" d=\"\n",
       "M0 1600 L2400 1600 L2400 0 L0 0  Z\n",
       "  \" fill=\"#ffffff\" fill-rule=\"evenodd\" fill-opacity=\"1\"/>\n",
       "<defs>\n",
       "  <clipPath id=\"clip751\">\n",
       "    <rect x=\"480\" y=\"0\" width=\"1681\" height=\"1600\"/>\n",
       "  </clipPath>\n",
       "</defs>\n",
       "<path clip-path=\"url(#clip750)\" d=\"\n",
       "M527.124 1486.45 L1966.33 1486.45 L1966.33 47.2441 L527.124 47.2441  Z\n",
       "  \" fill=\"#ffffff\" fill-rule=\"evenodd\" fill-opacity=\"1\"/>\n",
       "<defs>\n",
       "  <clipPath id=\"clip752\">\n",
       "    <rect x=\"527\" y=\"47\" width=\"1440\" height=\"1440\"/>\n",
       "  </clipPath>\n",
       "</defs>\n",
       "<polyline clip-path=\"url(#clip752)\" style=\"stroke:#000000; stroke-linecap:butt; stroke-linejoin:round; stroke-width:2; stroke-opacity:0.1; fill:none\" points=\"\n",
       "  527.124,1486.45 527.124,47.2441 \n",
       "  \"/>\n",
       "<polyline clip-path=\"url(#clip752)\" style=\"stroke:#000000; stroke-linecap:butt; stroke-linejoin:round; stroke-width:2; stroke-opacity:0.1; fill:none\" points=\"\n",
       "  1006.86,1486.45 1006.86,47.2441 \n",
       "  \"/>\n",
       "<polyline clip-path=\"url(#clip752)\" style=\"stroke:#000000; stroke-linecap:butt; stroke-linejoin:round; stroke-width:2; stroke-opacity:0.1; fill:none\" points=\"\n",
       "  1486.59,1486.45 1486.59,47.2441 \n",
       "  \"/>\n",
       "<polyline clip-path=\"url(#clip752)\" style=\"stroke:#000000; stroke-linecap:butt; stroke-linejoin:round; stroke-width:2; stroke-opacity:0.1; fill:none\" points=\"\n",
       "  1966.33,1486.45 1966.33,47.2441 \n",
       "  \"/>\n",
       "<polyline clip-path=\"url(#clip750)\" style=\"stroke:#000000; stroke-linecap:butt; stroke-linejoin:round; stroke-width:4; stroke-opacity:1; fill:none\" points=\"\n",
       "  527.124,1486.45 1966.33,1486.45 \n",
       "  \"/>\n",
       "<polyline clip-path=\"url(#clip750)\" style=\"stroke:#000000; stroke-linecap:butt; stroke-linejoin:round; stroke-width:4; stroke-opacity:1; fill:none\" points=\"\n",
       "  527.124,1486.45 527.124,1467.55 \n",
       "  \"/>\n",
       "<polyline clip-path=\"url(#clip750)\" style=\"stroke:#000000; stroke-linecap:butt; stroke-linejoin:round; stroke-width:4; stroke-opacity:1; fill:none\" points=\"\n",
       "  1006.86,1486.45 1006.86,1467.55 \n",
       "  \"/>\n",
       "<polyline clip-path=\"url(#clip750)\" style=\"stroke:#000000; stroke-linecap:butt; stroke-linejoin:round; stroke-width:4; stroke-opacity:1; fill:none\" points=\"\n",
       "  1486.59,1486.45 1486.59,1467.55 \n",
       "  \"/>\n",
       "<polyline clip-path=\"url(#clip750)\" style=\"stroke:#000000; stroke-linecap:butt; stroke-linejoin:round; stroke-width:4; stroke-opacity:1; fill:none\" points=\"\n",
       "  1966.33,1486.45 1966.33,1467.55 \n",
       "  \"/>\n",
       "<path clip-path=\"url(#clip750)\" d=\"M527.124 1517.37 Q523.513 1517.37 521.684 1520.93 Q519.879 1524.47 519.879 1531.6 Q519.879 1538.71 521.684 1542.27 Q523.513 1545.82 527.124 1545.82 Q530.758 1545.82 532.564 1542.27 Q534.392 1538.71 534.392 1531.6 Q534.392 1524.47 532.564 1520.93 Q530.758 1517.37 527.124 1517.37 M527.124 1513.66 Q532.934 1513.66 535.99 1518.27 Q539.068 1522.85 539.068 1531.6 Q539.068 1540.33 535.99 1544.94 Q532.934 1549.52 527.124 1549.52 Q521.314 1549.52 518.235 1544.94 Q515.179 1540.33 515.179 1531.6 Q515.179 1522.85 518.235 1518.27 Q521.314 1513.66 527.124 1513.66 Z\" fill=\"#000000\" fill-rule=\"evenodd\" fill-opacity=\"1\" /><path clip-path=\"url(#clip750)\" d=\"M981.546 1544.91 L989.185 1544.91 L989.185 1518.55 L980.875 1520.21 L980.875 1515.95 L989.139 1514.29 L993.815 1514.29 L993.815 1544.91 L1001.45 1544.91 L1001.45 1548.85 L981.546 1548.85 L981.546 1544.91 Z\" fill=\"#000000\" fill-rule=\"evenodd\" fill-opacity=\"1\" /><path clip-path=\"url(#clip750)\" d=\"M1020.9 1517.37 Q1017.29 1517.37 1015.46 1520.93 Q1013.65 1524.47 1013.65 1531.6 Q1013.65 1538.71 1015.46 1542.27 Q1017.29 1545.82 1020.9 1545.82 Q1024.53 1545.82 1026.34 1542.27 Q1028.17 1538.71 1028.17 1531.6 Q1028.17 1524.47 1026.34 1520.93 Q1024.53 1517.37 1020.9 1517.37 M1020.9 1513.66 Q1026.71 1513.66 1029.76 1518.27 Q1032.84 1522.85 1032.84 1531.6 Q1032.84 1540.33 1029.76 1544.94 Q1026.71 1549.52 1020.9 1549.52 Q1015.09 1549.52 1012.01 1544.94 Q1008.95 1540.33 1008.95 1531.6 Q1008.95 1522.85 1012.01 1518.27 Q1015.09 1513.66 1020.9 1513.66 Z\" fill=\"#000000\" fill-rule=\"evenodd\" fill-opacity=\"1\" /><path clip-path=\"url(#clip750)\" d=\"M1465.37 1544.91 L1481.69 1544.91 L1481.69 1548.85 L1459.74 1548.85 L1459.74 1544.91 Q1462.4 1542.16 1466.99 1537.53 Q1471.59 1532.88 1472.77 1531.53 Q1475.02 1529.01 1475.9 1527.27 Q1476.8 1525.51 1476.8 1523.82 Q1476.8 1521.07 1474.86 1519.33 Q1472.94 1517.6 1469.83 1517.6 Q1467.63 1517.6 1465.18 1518.36 Q1462.75 1519.13 1459.97 1520.68 L1459.97 1515.95 Q1462.8 1514.82 1465.25 1514.24 Q1467.7 1513.66 1469.74 1513.66 Q1475.11 1513.66 1478.31 1516.35 Q1481.5 1519.03 1481.5 1523.52 Q1481.5 1525.65 1480.69 1527.57 Q1479.9 1529.47 1477.8 1532.07 Q1477.22 1532.74 1474.12 1535.95 Q1471.01 1539.15 1465.37 1544.91 Z\" fill=\"#000000\" fill-rule=\"evenodd\" fill-opacity=\"1\" /><path clip-path=\"url(#clip750)\" d=\"M1501.5 1517.37 Q1497.89 1517.37 1496.06 1520.93 Q1494.26 1524.47 1494.26 1531.6 Q1494.26 1538.71 1496.06 1542.27 Q1497.89 1545.82 1501.5 1545.82 Q1505.13 1545.82 1506.94 1542.27 Q1508.77 1538.71 1508.77 1531.6 Q1508.77 1524.47 1506.94 1520.93 Q1505.13 1517.37 1501.5 1517.37 M1501.5 1513.66 Q1507.31 1513.66 1510.37 1518.27 Q1513.44 1522.85 1513.44 1531.6 Q1513.44 1540.33 1510.37 1544.94 Q1507.31 1549.52 1501.5 1549.52 Q1495.69 1549.52 1492.61 1544.94 Q1489.56 1540.33 1489.56 1531.6 Q1489.56 1522.85 1492.61 1518.27 Q1495.69 1513.66 1501.5 1513.66 Z\" fill=\"#000000\" fill-rule=\"evenodd\" fill-opacity=\"1\" /><path clip-path=\"url(#clip750)\" d=\"M1955.17 1530.21 Q1958.53 1530.93 1960.4 1533.2 Q1962.3 1535.47 1962.3 1538.8 Q1962.3 1543.92 1958.78 1546.72 Q1955.26 1549.52 1948.78 1549.52 Q1946.61 1549.52 1944.29 1549.08 Q1942 1548.66 1939.55 1547.81 L1939.55 1543.29 Q1941.49 1544.43 1943.8 1545.01 Q1946.12 1545.58 1948.64 1545.58 Q1953.04 1545.58 1955.33 1543.85 Q1957.65 1542.11 1957.65 1538.8 Q1957.65 1535.75 1955.49 1534.03 Q1953.36 1532.3 1949.55 1532.3 L1945.52 1532.3 L1945.52 1528.45 L1949.73 1528.45 Q1953.18 1528.45 1955.01 1527.09 Q1956.84 1525.7 1956.84 1523.11 Q1956.84 1520.45 1954.94 1519.03 Q1953.06 1517.6 1949.55 1517.6 Q1947.62 1517.6 1945.42 1518.01 Q1943.23 1518.43 1940.59 1519.31 L1940.59 1515.14 Q1943.25 1514.4 1945.56 1514.03 Q1947.9 1513.66 1949.96 1513.66 Q1955.29 1513.66 1958.39 1516.09 Q1961.49 1518.5 1961.49 1522.62 Q1961.49 1525.49 1959.85 1527.48 Q1958.2 1529.45 1955.17 1530.21 Z\" fill=\"#000000\" fill-rule=\"evenodd\" fill-opacity=\"1\" /><path clip-path=\"url(#clip750)\" d=\"M1981.17 1517.37 Q1977.55 1517.37 1975.73 1520.93 Q1973.92 1524.47 1973.92 1531.6 Q1973.92 1538.71 1975.73 1542.27 Q1977.55 1545.82 1981.17 1545.82 Q1984.8 1545.82 1986.61 1542.27 Q1988.43 1538.71 1988.43 1531.6 Q1988.43 1524.47 1986.61 1520.93 Q1984.8 1517.37 1981.17 1517.37 M1981.17 1513.66 Q1986.98 1513.66 1990.03 1518.27 Q1993.11 1522.85 1993.11 1531.6 Q1993.11 1540.33 1990.03 1544.94 Q1986.98 1549.52 1981.17 1549.52 Q1975.36 1549.52 1972.28 1544.94 Q1969.22 1540.33 1969.22 1531.6 Q1969.22 1522.85 1972.28 1518.27 Q1975.36 1513.66 1981.17 1513.66 Z\" fill=\"#000000\" fill-rule=\"evenodd\" fill-opacity=\"1\" /><polyline clip-path=\"url(#clip752)\" style=\"stroke:#000000; stroke-linecap:butt; stroke-linejoin:round; stroke-width:2; stroke-opacity:0.1; fill:none\" points=\"\n",
       "  527.124,1486.45 1966.33,1486.45 \n",
       "  \"/>\n",
       "<polyline clip-path=\"url(#clip752)\" style=\"stroke:#000000; stroke-linecap:butt; stroke-linejoin:round; stroke-width:2; stroke-opacity:0.1; fill:none\" points=\"\n",
       "  527.124,1006.71 1966.33,1006.71 \n",
       "  \"/>\n",
       "<polyline clip-path=\"url(#clip752)\" style=\"stroke:#000000; stroke-linecap:butt; stroke-linejoin:round; stroke-width:2; stroke-opacity:0.1; fill:none\" points=\"\n",
       "  527.124,526.979 1966.33,526.979 \n",
       "  \"/>\n",
       "<polyline clip-path=\"url(#clip752)\" style=\"stroke:#000000; stroke-linecap:butt; stroke-linejoin:round; stroke-width:2; stroke-opacity:0.1; fill:none\" points=\"\n",
       "  527.124,47.2441 1966.33,47.2441 \n",
       "  \"/>\n",
       "<polyline clip-path=\"url(#clip750)\" style=\"stroke:#000000; stroke-linecap:butt; stroke-linejoin:round; stroke-width:4; stroke-opacity:1; fill:none\" points=\"\n",
       "  527.124,1486.45 527.124,47.2441 \n",
       "  \"/>\n",
       "<polyline clip-path=\"url(#clip750)\" style=\"stroke:#000000; stroke-linecap:butt; stroke-linejoin:round; stroke-width:4; stroke-opacity:1; fill:none\" points=\"\n",
       "  527.124,1486.45 539.419,1486.45 \n",
       "  \"/>\n",
       "<polyline clip-path=\"url(#clip750)\" style=\"stroke:#000000; stroke-linecap:butt; stroke-linejoin:round; stroke-width:4; stroke-opacity:1; fill:none\" points=\"\n",
       "  527.124,1006.71 539.419,1006.71 \n",
       "  \"/>\n",
       "<polyline clip-path=\"url(#clip750)\" style=\"stroke:#000000; stroke-linecap:butt; stroke-linejoin:round; stroke-width:4; stroke-opacity:1; fill:none\" points=\"\n",
       "  527.124,526.979 539.419,526.979 \n",
       "  \"/>\n",
       "<polyline clip-path=\"url(#clip750)\" style=\"stroke:#000000; stroke-linecap:butt; stroke-linejoin:round; stroke-width:4; stroke-opacity:1; fill:none\" points=\"\n",
       "  527.124,47.2441 539.419,47.2441 \n",
       "  \"/>\n",
       "<path clip-path=\"url(#clip750)\" d=\"M479.179 1472.25 Q475.568 1472.25 473.74 1475.81 Q471.934 1479.35 471.934 1486.48 Q471.934 1493.59 473.74 1497.15 Q475.568 1500.7 479.179 1500.7 Q482.814 1500.7 484.619 1497.15 Q486.448 1493.59 486.448 1486.48 Q486.448 1479.35 484.619 1475.81 Q482.814 1472.25 479.179 1472.25 M479.179 1468.54 Q484.99 1468.54 488.045 1473.15 Q491.124 1477.73 491.124 1486.48 Q491.124 1495.21 488.045 1499.82 Q484.99 1504.4 479.179 1504.4 Q473.369 1504.4 470.291 1499.82 Q467.235 1495.21 467.235 1486.48 Q467.235 1477.73 470.291 1473.15 Q473.369 1468.54 479.179 1468.54 Z\" fill=\"#000000\" fill-rule=\"evenodd\" fill-opacity=\"1\" /><path clip-path=\"url(#clip750)\" d=\"M439.828 1020.06 L447.467 1020.06 L447.467 993.693 L439.157 995.359 L439.157 991.1 L447.42 989.433 L452.096 989.433 L452.096 1020.06 L459.735 1020.06 L459.735 1023.99 L439.828 1023.99 L439.828 1020.06 Z\" fill=\"#000000\" fill-rule=\"evenodd\" fill-opacity=\"1\" /><path clip-path=\"url(#clip750)\" d=\"M479.179 992.512 Q475.568 992.512 473.74 996.077 Q471.934 999.618 471.934 1006.75 Q471.934 1013.85 473.74 1017.42 Q475.568 1020.96 479.179 1020.96 Q482.814 1020.96 484.619 1017.42 Q486.448 1013.85 486.448 1006.75 Q486.448 999.618 484.619 996.077 Q482.814 992.512 479.179 992.512 M479.179 988.808 Q484.99 988.808 488.045 993.415 Q491.124 997.998 491.124 1006.75 Q491.124 1015.47 488.045 1020.08 Q484.99 1024.66 479.179 1024.66 Q473.369 1024.66 470.291 1020.08 Q467.235 1015.47 467.235 1006.75 Q467.235 997.998 470.291 993.415 Q473.369 988.808 479.179 988.808 Z\" fill=\"#000000\" fill-rule=\"evenodd\" fill-opacity=\"1\" /><path clip-path=\"url(#clip750)\" d=\"M443.045 540.324 L459.365 540.324 L459.365 544.259 L437.42 544.259 L437.42 540.324 Q440.082 537.569 444.666 532.939 Q449.272 528.287 450.453 526.944 Q452.698 524.421 453.578 522.685 Q454.481 520.925 454.481 519.236 Q454.481 516.481 452.536 514.745 Q450.615 513.009 447.513 513.009 Q445.314 513.009 442.86 513.773 Q440.43 514.537 437.652 516.088 L437.652 511.365 Q440.476 510.231 442.93 509.652 Q445.383 509.074 447.42 509.074 Q452.791 509.074 455.985 511.759 Q459.18 514.444 459.18 518.935 Q459.18 521.064 458.369 522.986 Q457.582 524.884 455.476 527.476 Q454.897 528.148 451.795 531.365 Q448.694 534.56 443.045 540.324 Z\" fill=\"#000000\" fill-rule=\"evenodd\" fill-opacity=\"1\" /><path clip-path=\"url(#clip750)\" d=\"M479.179 512.777 Q475.568 512.777 473.74 516.342 Q471.934 519.884 471.934 527.013 Q471.934 534.12 473.74 537.685 Q475.568 541.226 479.179 541.226 Q482.814 541.226 484.619 537.685 Q486.448 534.12 486.448 527.013 Q486.448 519.884 484.619 516.342 Q482.814 512.777 479.179 512.777 M479.179 509.074 Q484.99 509.074 488.045 513.68 Q491.124 518.263 491.124 527.013 Q491.124 535.74 488.045 540.347 Q484.99 544.93 479.179 544.93 Q473.369 544.93 470.291 540.347 Q467.235 535.74 467.235 527.013 Q467.235 518.263 470.291 513.68 Q473.369 509.074 479.179 509.074 Z\" fill=\"#000000\" fill-rule=\"evenodd\" fill-opacity=\"1\" /><path clip-path=\"url(#clip750)\" d=\"M453.184 45.8899 Q456.541 46.6075 458.416 48.876 Q460.314 51.1445 460.314 54.4779 Q460.314 59.5936 456.795 62.3945 Q453.277 65.1954 446.795 65.1954 Q444.619 65.1954 442.305 64.7556 Q440.013 64.3389 437.559 63.4824 L437.559 58.9686 Q439.504 60.1028 441.819 60.6815 Q444.133 61.2602 446.656 61.2602 Q451.055 61.2602 453.346 59.5241 Q455.661 57.788 455.661 54.4779 Q455.661 51.4223 453.508 49.7094 Q451.379 47.9733 447.559 47.9733 L443.531 47.9733 L443.531 44.1307 L447.744 44.1307 Q451.193 44.1307 453.022 42.765 Q454.851 41.3761 454.851 38.7835 Q454.851 36.1215 452.953 34.7094 Q451.078 33.2743 447.559 33.2743 Q445.638 33.2743 443.439 33.6909 Q441.24 34.1076 438.601 34.9872 L438.601 30.8206 Q441.263 30.0798 443.578 29.7095 Q445.916 29.3391 447.976 29.3391 Q453.3 29.3391 456.402 31.7696 Q459.504 34.177 459.504 38.2974 Q459.504 41.1677 457.86 43.1585 Q456.217 45.1261 453.184 45.8899 Z\" fill=\"#000000\" fill-rule=\"evenodd\" fill-opacity=\"1\" /><path clip-path=\"url(#clip750)\" d=\"M479.179 33.0428 Q475.568 33.0428 473.74 36.6076 Q471.934 40.1492 471.934 47.2788 Q471.934 54.3853 473.74 57.9501 Q475.568 61.4917 479.179 61.4917 Q482.814 61.4917 484.619 57.9501 Q486.448 54.3853 486.448 47.2788 Q486.448 40.1492 484.619 36.6076 Q482.814 33.0428 479.179 33.0428 M479.179 29.3391 Q484.99 29.3391 488.045 33.9456 Q491.124 38.5289 491.124 47.2788 Q491.124 56.0056 488.045 60.6121 Q484.99 65.1954 479.179 65.1954 Q473.369 65.1954 470.291 60.6121 Q467.235 56.0056 467.235 47.2788 Q467.235 38.5289 470.291 33.9456 Q473.369 29.3391 479.179 29.3391 Z\" fill=\"#000000\" fill-rule=\"evenodd\" fill-opacity=\"1\" /><polyline clip-path=\"url(#clip752)\" style=\"stroke:#009af9; stroke-linecap:butt; stroke-linejoin:round; stroke-width:32; stroke-opacity:1; fill:none\" points=\"\n",
       "  527.124,1486.45 908.247,1195.09 700.419,762.708 1003.9,391.168 \n",
       "  \"/>\n",
       "<polyline clip-path=\"url(#clip752)\" style=\"stroke:#e26f46; stroke-linecap:butt; stroke-linejoin:round; stroke-width:4; stroke-opacity:1; fill:none\" points=\"\n",
       "  1230.26,1185.55 1230.1,1175.94 1229.89,1166.34 1229.63,1156.75 1229.32,1147.16 1228.97,1137.57 1228.57,1128 1228.12,1118.43 1227.63,1108.86 1227.08,1099.31 \n",
       "  1226.49,1089.77 1225.86,1080.25 1225.18,1070.73 1224.45,1061.23 1223.67,1051.74 1222.85,1042.27 1221.98,1032.81 1221.06,1023.38 1220.1,1013.96 1219.09,1004.55 \n",
       "  1218.03,995.174 1216.93,985.815 1215.79,976.477 1214.59,967.163 1213.35,957.872 1212.07,948.606 1210.74,939.366 1209.36,930.152 1207.94,920.966 1206.47,911.808 \n",
       "  1204.96,902.68 1203.4,893.581 1201.8,884.514 1200.16,875.479 1198.47,866.476 1196.73,857.508 1194.95,848.574 1193.13,839.676 1191.26,830.814 1189.35,821.989 \n",
       "  1187.4,813.203 1185.4,804.455 1183.36,795.748 1181.27,787.081 1179.15,778.456 1176.98,769.873 1174.77,761.334 1172.51,752.839 1170.22,744.389 1167.88,735.985 \n",
       "  1165.5,727.627 1163.08,719.317 1160.62,711.055 1158.12,702.843 1155.58,694.68 1153,686.568 1150.37,678.508 1147.71,670.5 1145.01,662.545 1142.27,654.645 \n",
       "  1139.49,646.799 1136.67,639.008 1133.81,631.274 1130.92,623.597 1127.98,615.977 1125.01,608.417 1122,600.915 1118.96,593.474 1115.88,586.093 1112.76,578.774 \n",
       "  1109.6,571.517 1106.41,564.323 1103.19,557.193 1099.93,550.127 1096.63,543.126 1093.3,536.191 1089.93,529.323 1086.54,522.522 1083.1,515.788 1079.64,509.123 \n",
       "  1076.14,502.527 1072.61,496.001 1069.05,489.545 1065.45,483.161 1061.83,476.848 1058.17,470.607 1054.48,464.44 1050.76,458.346 1047.01,452.326 1043.23,446.381 \n",
       "  1039.43,440.511 1035.59,434.717 1031.73,429 1027.83,423.36 1023.91,417.797 1019.96,412.313 1015.99,406.907 1011.99,401.581 1007.96,396.334 1003.9,391.168 \n",
       "  \n",
       "  \"/>\n",
       "</svg>\n"
      ]
     },
     "metadata": {},
     "output_type": "display_data"
    }
   ],
   "source": [
    "plt = plot(legend=false,xlim=(0,3),ylim=(0,3),aspect_ratio=:equal)\n",
    "display(plt)\n",
    "for i = 1:N\n",
    "    IJulia.clear_output(true)\n",
    "    x1,x2,x3,y1,y2,y3 = arm(q1[i],q2[i],q3[i])\n",
    "    l1 = [0,x1,x2,x3]\n",
    "    l2 = [0,y1,y2,y3]\n",
    "    plt = plot(l1,l2, legend=false,xlim=(0,30),ylim=(0,30), linewidth=8, aspect_ratio=:equal)\n",
    "    plot!(p1[1:i],p2[1:i])\n",
    "    display(plt)\n",
    "    sleep(.02)\n",
    "end"
   ]
  },
  {
   "cell_type": "code",
   "execution_count": null,
   "id": "308d421a",
   "metadata": {},
   "outputs": [],
   "source": []
  }
 ],
 "metadata": {
  "@webio": {
   "lastCommId": null,
   "lastKernelId": null
  },
  "kernelspec": {
   "display_name": "Julia 1.6.2",
   "language": "julia",
   "name": "julia-1.6"
  },
  "language_info": {
   "file_extension": ".jl",
   "mimetype": "application/julia",
   "name": "julia",
   "version": "1.6.2"
  }
 },
 "nbformat": 4,
 "nbformat_minor": 5
}
